{
 "cells": [
  {
   "cell_type": "code",
   "execution_count": 1,
   "metadata": {},
   "outputs": [
    {
     "data": {
      "text/html": [
       "<div>\n",
       "<style scoped>\n",
       "    .dataframe tbody tr th:only-of-type {\n",
       "        vertical-align: middle;\n",
       "    }\n",
       "\n",
       "    .dataframe tbody tr th {\n",
       "        vertical-align: top;\n",
       "    }\n",
       "\n",
       "    .dataframe thead th {\n",
       "        text-align: right;\n",
       "    }\n",
       "</style>\n",
       "<table border=\"1\" class=\"dataframe\">\n",
       "  <thead>\n",
       "    <tr style=\"text-align: right;\">\n",
       "      <th></th>\n",
       "      <th>sepal_length</th>\n",
       "      <th>sepal_width</th>\n",
       "      <th>petal_length</th>\n",
       "      <th>petal_width</th>\n",
       "    </tr>\n",
       "  </thead>\n",
       "  <tbody>\n",
       "    <tr>\n",
       "      <th>0</th>\n",
       "      <td>5.1</td>\n",
       "      <td>3.5</td>\n",
       "      <td>1.4</td>\n",
       "      <td>0.2</td>\n",
       "    </tr>\n",
       "    <tr>\n",
       "      <th>1</th>\n",
       "      <td>4.9</td>\n",
       "      <td>3.0</td>\n",
       "      <td>1.4</td>\n",
       "      <td>0.2</td>\n",
       "    </tr>\n",
       "    <tr>\n",
       "      <th>2</th>\n",
       "      <td>4.7</td>\n",
       "      <td>3.2</td>\n",
       "      <td>1.3</td>\n",
       "      <td>0.2</td>\n",
       "    </tr>\n",
       "  </tbody>\n",
       "</table>\n",
       "</div>"
      ],
      "text/plain": [
       "   sepal_length  sepal_width  petal_length  petal_width\n",
       "0           5.1          3.5           1.4          0.2\n",
       "1           4.9          3.0           1.4          0.2\n",
       "2           4.7          3.2           1.3          0.2"
      ]
     },
     "execution_count": 1,
     "metadata": {},
     "output_type": "execute_result"
    }
   ],
   "source": [
    "from sklearn.preprocessing import scale\n",
    "from sklearn.datasets import load_iris\n",
    "from sklearn.cluster import KMeans\n",
    "import matplotlib.pyplot as plt\n",
    "import numpy as np\n",
    "import pandas as pd\n",
    "%matplotlib inline\n",
    "\n",
    "iris = load_iris() # 품종 : 3개\n",
    "# 보다 편리한 데이터 Handling을 위해 DataFrame으로 변환\n",
    "irisDF = pd.DataFrame(data=iris.data, columns=['sepal_length','sepal_width','petal_length','petal_width'])\n",
    "irisDF.head(3)"
   ]
  },
  {
   "cell_type": "code",
   "execution_count": 7,
   "metadata": {},
   "outputs": [
    {
     "name": "stdout",
     "output_type": "stream",
     "text": [
      "Initialization complete\n",
      "Iteration 0, inertia 97.65.\n",
      "Iteration 1, inertia 82.25856145640076.\n",
      "Iteration 2, inertia 81.32806489357331.\n",
      "Iteration 3, inertia 80.0594266200554.\n",
      "Iteration 4, inertia 79.57585726935403.\n",
      "Iteration 5, inertia 78.9974989564323.\n",
      "Iteration 6, inertia 78.8556658259773.\n",
      "Converged at iteration 6: strict convergence.\n"
     ]
    },
    {
     "name": "stderr",
     "output_type": "stream",
     "text": [
      "c:\\ProgramData\\anaconda3\\envs\\ml-dev\\lib\\site-packages\\sklearn\\cluster\\_kmeans.py:1429: UserWarning:\n",
      "\n",
      "KMeans is known to have a memory leak on Windows with MKL, when there are less chunks than available threads. You can avoid it by setting the environment variable OMP_NUM_THREADS=1.\n",
      "\n"
     ]
    },
    {
     "data": {
      "text/html": [
       "<style>#sk-container-id-2 {\n",
       "  /* Definition of color scheme common for light and dark mode */\n",
       "  --sklearn-color-text: black;\n",
       "  --sklearn-color-line: gray;\n",
       "  /* Definition of color scheme for unfitted estimators */\n",
       "  --sklearn-color-unfitted-level-0: #fff5e6;\n",
       "  --sklearn-color-unfitted-level-1: #f6e4d2;\n",
       "  --sklearn-color-unfitted-level-2: #ffe0b3;\n",
       "  --sklearn-color-unfitted-level-3: chocolate;\n",
       "  /* Definition of color scheme for fitted estimators */\n",
       "  --sklearn-color-fitted-level-0: #f0f8ff;\n",
       "  --sklearn-color-fitted-level-1: #d4ebff;\n",
       "  --sklearn-color-fitted-level-2: #b3dbfd;\n",
       "  --sklearn-color-fitted-level-3: cornflowerblue;\n",
       "\n",
       "  /* Specific color for light theme */\n",
       "  --sklearn-color-text-on-default-background: var(--sg-text-color, var(--theme-code-foreground, var(--jp-content-font-color1, black)));\n",
       "  --sklearn-color-background: var(--sg-background-color, var(--theme-background, var(--jp-layout-color0, white)));\n",
       "  --sklearn-color-border-box: var(--sg-text-color, var(--theme-code-foreground, var(--jp-content-font-color1, black)));\n",
       "  --sklearn-color-icon: #696969;\n",
       "\n",
       "  @media (prefers-color-scheme: dark) {\n",
       "    /* Redefinition of color scheme for dark theme */\n",
       "    --sklearn-color-text-on-default-background: var(--sg-text-color, var(--theme-code-foreground, var(--jp-content-font-color1, white)));\n",
       "    --sklearn-color-background: var(--sg-background-color, var(--theme-background, var(--jp-layout-color0, #111)));\n",
       "    --sklearn-color-border-box: var(--sg-text-color, var(--theme-code-foreground, var(--jp-content-font-color1, white)));\n",
       "    --sklearn-color-icon: #878787;\n",
       "  }\n",
       "}\n",
       "\n",
       "#sk-container-id-2 {\n",
       "  color: var(--sklearn-color-text);\n",
       "}\n",
       "\n",
       "#sk-container-id-2 pre {\n",
       "  padding: 0;\n",
       "}\n",
       "\n",
       "#sk-container-id-2 input.sk-hidden--visually {\n",
       "  border: 0;\n",
       "  clip: rect(1px 1px 1px 1px);\n",
       "  clip: rect(1px, 1px, 1px, 1px);\n",
       "  height: 1px;\n",
       "  margin: -1px;\n",
       "  overflow: hidden;\n",
       "  padding: 0;\n",
       "  position: absolute;\n",
       "  width: 1px;\n",
       "}\n",
       "\n",
       "#sk-container-id-2 div.sk-dashed-wrapped {\n",
       "  border: 1px dashed var(--sklearn-color-line);\n",
       "  margin: 0 0.4em 0.5em 0.4em;\n",
       "  box-sizing: border-box;\n",
       "  padding-bottom: 0.4em;\n",
       "  background-color: var(--sklearn-color-background);\n",
       "}\n",
       "\n",
       "#sk-container-id-2 div.sk-container {\n",
       "  /* jupyter's `normalize.less` sets `[hidden] { display: none; }`\n",
       "     but bootstrap.min.css set `[hidden] { display: none !important; }`\n",
       "     so we also need the `!important` here to be able to override the\n",
       "     default hidden behavior on the sphinx rendered scikit-learn.org.\n",
       "     See: https://github.com/scikit-learn/scikit-learn/issues/21755 */\n",
       "  display: inline-block !important;\n",
       "  position: relative;\n",
       "}\n",
       "\n",
       "#sk-container-id-2 div.sk-text-repr-fallback {\n",
       "  display: none;\n",
       "}\n",
       "\n",
       "div.sk-parallel-item,\n",
       "div.sk-serial,\n",
       "div.sk-item {\n",
       "  /* draw centered vertical line to link estimators */\n",
       "  background-image: linear-gradient(var(--sklearn-color-text-on-default-background), var(--sklearn-color-text-on-default-background));\n",
       "  background-size: 2px 100%;\n",
       "  background-repeat: no-repeat;\n",
       "  background-position: center center;\n",
       "}\n",
       "\n",
       "/* Parallel-specific style estimator block */\n",
       "\n",
       "#sk-container-id-2 div.sk-parallel-item::after {\n",
       "  content: \"\";\n",
       "  width: 100%;\n",
       "  border-bottom: 2px solid var(--sklearn-color-text-on-default-background);\n",
       "  flex-grow: 1;\n",
       "}\n",
       "\n",
       "#sk-container-id-2 div.sk-parallel {\n",
       "  display: flex;\n",
       "  align-items: stretch;\n",
       "  justify-content: center;\n",
       "  background-color: var(--sklearn-color-background);\n",
       "  position: relative;\n",
       "}\n",
       "\n",
       "#sk-container-id-2 div.sk-parallel-item {\n",
       "  display: flex;\n",
       "  flex-direction: column;\n",
       "}\n",
       "\n",
       "#sk-container-id-2 div.sk-parallel-item:first-child::after {\n",
       "  align-self: flex-end;\n",
       "  width: 50%;\n",
       "}\n",
       "\n",
       "#sk-container-id-2 div.sk-parallel-item:last-child::after {\n",
       "  align-self: flex-start;\n",
       "  width: 50%;\n",
       "}\n",
       "\n",
       "#sk-container-id-2 div.sk-parallel-item:only-child::after {\n",
       "  width: 0;\n",
       "}\n",
       "\n",
       "/* Serial-specific style estimator block */\n",
       "\n",
       "#sk-container-id-2 div.sk-serial {\n",
       "  display: flex;\n",
       "  flex-direction: column;\n",
       "  align-items: center;\n",
       "  background-color: var(--sklearn-color-background);\n",
       "  padding-right: 1em;\n",
       "  padding-left: 1em;\n",
       "}\n",
       "\n",
       "\n",
       "/* Toggleable style: style used for estimator/Pipeline/ColumnTransformer box that is\n",
       "clickable and can be expanded/collapsed.\n",
       "- Pipeline and ColumnTransformer use this feature and define the default style\n",
       "- Estimators will overwrite some part of the style using the `sk-estimator` class\n",
       "*/\n",
       "\n",
       "/* Pipeline and ColumnTransformer style (default) */\n",
       "\n",
       "#sk-container-id-2 div.sk-toggleable {\n",
       "  /* Default theme specific background. It is overwritten whether we have a\n",
       "  specific estimator or a Pipeline/ColumnTransformer */\n",
       "  background-color: var(--sklearn-color-background);\n",
       "}\n",
       "\n",
       "/* Toggleable label */\n",
       "#sk-container-id-2 label.sk-toggleable__label {\n",
       "  cursor: pointer;\n",
       "  display: block;\n",
       "  width: 100%;\n",
       "  margin-bottom: 0;\n",
       "  padding: 0.5em;\n",
       "  box-sizing: border-box;\n",
       "  text-align: center;\n",
       "}\n",
       "\n",
       "#sk-container-id-2 label.sk-toggleable__label-arrow:before {\n",
       "  /* Arrow on the left of the label */\n",
       "  content: \"▸\";\n",
       "  float: left;\n",
       "  margin-right: 0.25em;\n",
       "  color: var(--sklearn-color-icon);\n",
       "}\n",
       "\n",
       "#sk-container-id-2 label.sk-toggleable__label-arrow:hover:before {\n",
       "  color: var(--sklearn-color-text);\n",
       "}\n",
       "\n",
       "/* Toggleable content - dropdown */\n",
       "\n",
       "#sk-container-id-2 div.sk-toggleable__content {\n",
       "  max-height: 0;\n",
       "  max-width: 0;\n",
       "  overflow: hidden;\n",
       "  text-align: left;\n",
       "  /* unfitted */\n",
       "  background-color: var(--sklearn-color-unfitted-level-0);\n",
       "}\n",
       "\n",
       "#sk-container-id-2 div.sk-toggleable__content.fitted {\n",
       "  /* fitted */\n",
       "  background-color: var(--sklearn-color-fitted-level-0);\n",
       "}\n",
       "\n",
       "#sk-container-id-2 div.sk-toggleable__content pre {\n",
       "  margin: 0.2em;\n",
       "  border-radius: 0.25em;\n",
       "  color: var(--sklearn-color-text);\n",
       "  /* unfitted */\n",
       "  background-color: var(--sklearn-color-unfitted-level-0);\n",
       "}\n",
       "\n",
       "#sk-container-id-2 div.sk-toggleable__content.fitted pre {\n",
       "  /* unfitted */\n",
       "  background-color: var(--sklearn-color-fitted-level-0);\n",
       "}\n",
       "\n",
       "#sk-container-id-2 input.sk-toggleable__control:checked~div.sk-toggleable__content {\n",
       "  /* Expand drop-down */\n",
       "  max-height: 200px;\n",
       "  max-width: 100%;\n",
       "  overflow: auto;\n",
       "}\n",
       "\n",
       "#sk-container-id-2 input.sk-toggleable__control:checked~label.sk-toggleable__label-arrow:before {\n",
       "  content: \"▾\";\n",
       "}\n",
       "\n",
       "/* Pipeline/ColumnTransformer-specific style */\n",
       "\n",
       "#sk-container-id-2 div.sk-label input.sk-toggleable__control:checked~label.sk-toggleable__label {\n",
       "  color: var(--sklearn-color-text);\n",
       "  background-color: var(--sklearn-color-unfitted-level-2);\n",
       "}\n",
       "\n",
       "#sk-container-id-2 div.sk-label.fitted input.sk-toggleable__control:checked~label.sk-toggleable__label {\n",
       "  background-color: var(--sklearn-color-fitted-level-2);\n",
       "}\n",
       "\n",
       "/* Estimator-specific style */\n",
       "\n",
       "/* Colorize estimator box */\n",
       "#sk-container-id-2 div.sk-estimator input.sk-toggleable__control:checked~label.sk-toggleable__label {\n",
       "  /* unfitted */\n",
       "  background-color: var(--sklearn-color-unfitted-level-2);\n",
       "}\n",
       "\n",
       "#sk-container-id-2 div.sk-estimator.fitted input.sk-toggleable__control:checked~label.sk-toggleable__label {\n",
       "  /* fitted */\n",
       "  background-color: var(--sklearn-color-fitted-level-2);\n",
       "}\n",
       "\n",
       "#sk-container-id-2 div.sk-label label.sk-toggleable__label,\n",
       "#sk-container-id-2 div.sk-label label {\n",
       "  /* The background is the default theme color */\n",
       "  color: var(--sklearn-color-text-on-default-background);\n",
       "}\n",
       "\n",
       "/* On hover, darken the color of the background */\n",
       "#sk-container-id-2 div.sk-label:hover label.sk-toggleable__label {\n",
       "  color: var(--sklearn-color-text);\n",
       "  background-color: var(--sklearn-color-unfitted-level-2);\n",
       "}\n",
       "\n",
       "/* Label box, darken color on hover, fitted */\n",
       "#sk-container-id-2 div.sk-label.fitted:hover label.sk-toggleable__label.fitted {\n",
       "  color: var(--sklearn-color-text);\n",
       "  background-color: var(--sklearn-color-fitted-level-2);\n",
       "}\n",
       "\n",
       "/* Estimator label */\n",
       "\n",
       "#sk-container-id-2 div.sk-label label {\n",
       "  font-family: monospace;\n",
       "  font-weight: bold;\n",
       "  display: inline-block;\n",
       "  line-height: 1.2em;\n",
       "}\n",
       "\n",
       "#sk-container-id-2 div.sk-label-container {\n",
       "  text-align: center;\n",
       "}\n",
       "\n",
       "/* Estimator-specific */\n",
       "#sk-container-id-2 div.sk-estimator {\n",
       "  font-family: monospace;\n",
       "  border: 1px dotted var(--sklearn-color-border-box);\n",
       "  border-radius: 0.25em;\n",
       "  box-sizing: border-box;\n",
       "  margin-bottom: 0.5em;\n",
       "  /* unfitted */\n",
       "  background-color: var(--sklearn-color-unfitted-level-0);\n",
       "}\n",
       "\n",
       "#sk-container-id-2 div.sk-estimator.fitted {\n",
       "  /* fitted */\n",
       "  background-color: var(--sklearn-color-fitted-level-0);\n",
       "}\n",
       "\n",
       "/* on hover */\n",
       "#sk-container-id-2 div.sk-estimator:hover {\n",
       "  /* unfitted */\n",
       "  background-color: var(--sklearn-color-unfitted-level-2);\n",
       "}\n",
       "\n",
       "#sk-container-id-2 div.sk-estimator.fitted:hover {\n",
       "  /* fitted */\n",
       "  background-color: var(--sklearn-color-fitted-level-2);\n",
       "}\n",
       "\n",
       "/* Specification for estimator info (e.g. \"i\" and \"?\") */\n",
       "\n",
       "/* Common style for \"i\" and \"?\" */\n",
       "\n",
       ".sk-estimator-doc-link,\n",
       "a:link.sk-estimator-doc-link,\n",
       "a:visited.sk-estimator-doc-link {\n",
       "  float: right;\n",
       "  font-size: smaller;\n",
       "  line-height: 1em;\n",
       "  font-family: monospace;\n",
       "  background-color: var(--sklearn-color-background);\n",
       "  border-radius: 1em;\n",
       "  height: 1em;\n",
       "  width: 1em;\n",
       "  text-decoration: none !important;\n",
       "  margin-left: 1ex;\n",
       "  /* unfitted */\n",
       "  border: var(--sklearn-color-unfitted-level-1) 1pt solid;\n",
       "  color: var(--sklearn-color-unfitted-level-1);\n",
       "}\n",
       "\n",
       ".sk-estimator-doc-link.fitted,\n",
       "a:link.sk-estimator-doc-link.fitted,\n",
       "a:visited.sk-estimator-doc-link.fitted {\n",
       "  /* fitted */\n",
       "  border: var(--sklearn-color-fitted-level-1) 1pt solid;\n",
       "  color: var(--sklearn-color-fitted-level-1);\n",
       "}\n",
       "\n",
       "/* On hover */\n",
       "div.sk-estimator:hover .sk-estimator-doc-link:hover,\n",
       ".sk-estimator-doc-link:hover,\n",
       "div.sk-label-container:hover .sk-estimator-doc-link:hover,\n",
       ".sk-estimator-doc-link:hover {\n",
       "  /* unfitted */\n",
       "  background-color: var(--sklearn-color-unfitted-level-3);\n",
       "  color: var(--sklearn-color-background);\n",
       "  text-decoration: none;\n",
       "}\n",
       "\n",
       "div.sk-estimator.fitted:hover .sk-estimator-doc-link.fitted:hover,\n",
       ".sk-estimator-doc-link.fitted:hover,\n",
       "div.sk-label-container:hover .sk-estimator-doc-link.fitted:hover,\n",
       ".sk-estimator-doc-link.fitted:hover {\n",
       "  /* fitted */\n",
       "  background-color: var(--sklearn-color-fitted-level-3);\n",
       "  color: var(--sklearn-color-background);\n",
       "  text-decoration: none;\n",
       "}\n",
       "\n",
       "/* Span, style for the box shown on hovering the info icon */\n",
       ".sk-estimator-doc-link span {\n",
       "  display: none;\n",
       "  z-index: 9999;\n",
       "  position: relative;\n",
       "  font-weight: normal;\n",
       "  right: .2ex;\n",
       "  padding: .5ex;\n",
       "  margin: .5ex;\n",
       "  width: min-content;\n",
       "  min-width: 20ex;\n",
       "  max-width: 50ex;\n",
       "  color: var(--sklearn-color-text);\n",
       "  box-shadow: 2pt 2pt 4pt #999;\n",
       "  /* unfitted */\n",
       "  background: var(--sklearn-color-unfitted-level-0);\n",
       "  border: .5pt solid var(--sklearn-color-unfitted-level-3);\n",
       "}\n",
       "\n",
       ".sk-estimator-doc-link.fitted span {\n",
       "  /* fitted */\n",
       "  background: var(--sklearn-color-fitted-level-0);\n",
       "  border: var(--sklearn-color-fitted-level-3);\n",
       "}\n",
       "\n",
       ".sk-estimator-doc-link:hover span {\n",
       "  display: block;\n",
       "}\n",
       "\n",
       "/* \"?\"-specific style due to the `<a>` HTML tag */\n",
       "\n",
       "#sk-container-id-2 a.estimator_doc_link {\n",
       "  float: right;\n",
       "  font-size: 1rem;\n",
       "  line-height: 1em;\n",
       "  font-family: monospace;\n",
       "  background-color: var(--sklearn-color-background);\n",
       "  border-radius: 1rem;\n",
       "  height: 1rem;\n",
       "  width: 1rem;\n",
       "  text-decoration: none;\n",
       "  /* unfitted */\n",
       "  color: var(--sklearn-color-unfitted-level-1);\n",
       "  border: var(--sklearn-color-unfitted-level-1) 1pt solid;\n",
       "}\n",
       "\n",
       "#sk-container-id-2 a.estimator_doc_link.fitted {\n",
       "  /* fitted */\n",
       "  border: var(--sklearn-color-fitted-level-1) 1pt solid;\n",
       "  color: var(--sklearn-color-fitted-level-1);\n",
       "}\n",
       "\n",
       "/* On hover */\n",
       "#sk-container-id-2 a.estimator_doc_link:hover {\n",
       "  /* unfitted */\n",
       "  background-color: var(--sklearn-color-unfitted-level-3);\n",
       "  color: var(--sklearn-color-background);\n",
       "  text-decoration: none;\n",
       "}\n",
       "\n",
       "#sk-container-id-2 a.estimator_doc_link.fitted:hover {\n",
       "  /* fitted */\n",
       "  background-color: var(--sklearn-color-fitted-level-3);\n",
       "}\n",
       "</style><div id=\"sk-container-id-2\" class=\"sk-top-container\"><div class=\"sk-text-repr-fallback\"><pre>KMeans(n_clusters=3, random_state=0, verbose=1)</pre><b>In a Jupyter environment, please rerun this cell to show the HTML representation or trust the notebook. <br />On GitHub, the HTML representation is unable to render, please try loading this page with nbviewer.org.</b></div><div class=\"sk-container\" hidden><div class=\"sk-item\"><div class=\"sk-estimator fitted sk-toggleable\"><input class=\"sk-toggleable__control sk-hidden--visually\" id=\"sk-estimator-id-2\" type=\"checkbox\" checked><label for=\"sk-estimator-id-2\" class=\"sk-toggleable__label fitted sk-toggleable__label-arrow fitted\">&nbsp;&nbsp;KMeans<a class=\"sk-estimator-doc-link fitted\" rel=\"noreferrer\" target=\"_blank\" href=\"https://scikit-learn.org/1.5/modules/generated/sklearn.cluster.KMeans.html\">?<span>Documentation for KMeans</span></a><span class=\"sk-estimator-doc-link fitted\">i<span>Fitted</span></span></label><div class=\"sk-toggleable__content fitted\"><pre>KMeans(n_clusters=3, random_state=0, verbose=1)</pre></div> </div></div></div></div>"
      ],
      "text/plain": [
       "KMeans(n_clusters=3, random_state=0, verbose=1)"
      ]
     },
     "execution_count": 7,
     "metadata": {},
     "output_type": "execute_result"
    }
   ],
   "source": [
    "kmeans = KMeans(n_clusters=3, init='k-means++', max_iter=300,random_state=0, verbose=1)\n",
    "kmeans.fit(irisDF) # labels, centers 생성"
   ]
  },
  {
   "cell_type": "code",
   "execution_count": 8,
   "metadata": {},
   "outputs": [
    {
     "name": "stdout",
     "output_type": "stream",
     "text": [
      "<class 'pandas.core.frame.DataFrame'>\n",
      "RangeIndex: 150 entries, 0 to 149\n",
      "Data columns (total 4 columns):\n",
      " #   Column        Non-Null Count  Dtype  \n",
      "---  ------        --------------  -----  \n",
      " 0   sepal_length  150 non-null    float64\n",
      " 1   sepal_width   150 non-null    float64\n",
      " 2   petal_length  150 non-null    float64\n",
      " 3   petal_width   150 non-null    float64\n",
      "dtypes: float64(4)\n",
      "memory usage: 4.8 KB\n"
     ]
    }
   ],
   "source": [
    "irisDF.info()"
   ]
  },
  {
   "cell_type": "code",
   "execution_count": 4,
   "metadata": {},
   "outputs": [
    {
     "data": {
      "application/vnd.plotly.v1+json": {
       "config": {
        "plotlyServerURL": "https://plot.ly"
       },
       "data": [
        {
         "line": {
          "color": "red",
          "width": 3
         },
         "marker": {
          "color": "red",
          "size": 5
         },
         "mode": "lines+markers",
         "name": "v1 (1, 0)",
         "type": "scatter",
         "x": [
          0,
          1
         ],
         "y": [
          0,
          0
         ]
        },
        {
         "line": {
          "color": "green",
          "width": 3
         },
         "marker": {
          "color": "green",
          "size": 5
         },
         "mode": "lines+markers",
         "name": "v2 (0, 1)",
         "type": "scatter",
         "x": [
          0,
          0
         ],
         "y": [
          0,
          1
         ]
        }
       ],
       "frames": [
        {
         "data": [
          {
           "line": {
            "color": "blue",
            "width": 3
           },
           "marker": {
            "color": "blue",
            "size": 5
           },
           "mode": "lines+markers",
           "type": "scatter",
           "x": [
            0,
            1
           ],
           "y": [
            0,
            0
           ]
          },
          {
           "line": {
            "color": "orange",
            "width": 3
           },
           "marker": {
            "color": "orange",
            "size": 5
           },
           "mode": "lines+markers",
           "type": "scatter",
           "x": [
            0,
            0
           ],
           "y": [
            0,
            1
           ]
          }
         ]
        },
        {
         "data": [
          {
           "line": {
            "color": "blue",
            "width": 3
           },
           "marker": {
            "color": "blue",
            "size": 5
           },
           "mode": "lines+markers",
           "type": "scatter",
           "x": [
            0,
            0.9979866764718844
           ],
           "y": [
            0,
            0.0634239196565645
           ]
          },
          {
           "line": {
            "color": "orange",
            "width": 3
           },
           "marker": {
            "color": "orange",
            "size": 5
           },
           "mode": "lines+markers",
           "type": "scatter",
           "x": [
            0,
            -0.0634239196565645
           ],
           "y": [
            0,
            0.9979866764718844
           ]
          }
         ]
        },
        {
         "data": [
          {
           "line": {
            "color": "blue",
            "width": 3
           },
           "marker": {
            "color": "blue",
            "size": 5
           },
           "mode": "lines+markers",
           "type": "scatter",
           "x": [
            0,
            0.9919548128307953
           ],
           "y": [
            0,
            0.12659245357374926
           ]
          },
          {
           "line": {
            "color": "orange",
            "width": 3
           },
           "marker": {
            "color": "orange",
            "size": 5
           },
           "mode": "lines+markers",
           "type": "scatter",
           "x": [
            0,
            -0.12659245357374926
           ],
           "y": [
            0,
            0.9919548128307953
           ]
          }
         ]
        },
        {
         "data": [
          {
           "line": {
            "color": "blue",
            "width": 3
           },
           "marker": {
            "color": "blue",
            "size": 5
           },
           "mode": "lines+markers",
           "type": "scatter",
           "x": [
            0,
            0.9819286972627067
           ],
           "y": [
            0,
            0.18925124436041021
           ]
          },
          {
           "line": {
            "color": "orange",
            "width": 3
           },
           "marker": {
            "color": "orange",
            "size": 5
           },
           "mode": "lines+markers",
           "type": "scatter",
           "x": [
            0,
            -0.18925124436041021
           ],
           "y": [
            0,
            0.9819286972627067
           ]
          }
         ]
        },
        {
         "data": [
          {
           "line": {
            "color": "blue",
            "width": 3
           },
           "marker": {
            "color": "blue",
            "size": 5
           },
           "mode": "lines+markers",
           "type": "scatter",
           "x": [
            0,
            0.9679487013963562
           ],
           "y": [
            0,
            0.2511479871810792
           ]
          },
          {
           "line": {
            "color": "orange",
            "width": 3
           },
           "marker": {
            "color": "orange",
            "size": 5
           },
           "mode": "lines+markers",
           "type": "scatter",
           "x": [
            0,
            -0.2511479871810792
           ],
           "y": [
            0,
            0.9679487013963562
           ]
          }
         ]
        },
        {
         "data": [
          {
           "line": {
            "color": "blue",
            "width": 3
           },
           "marker": {
            "color": "blue",
            "size": 5
           },
           "mode": "lines+markers",
           "type": "scatter",
           "x": [
            0,
            0.9500711177409454
           ],
           "y": [
            0,
            0.3120334456984871
           ]
          },
          {
           "line": {
            "color": "orange",
            "width": 3
           },
           "marker": {
            "color": "orange",
            "size": 5
           },
           "mode": "lines+markers",
           "type": "scatter",
           "x": [
            0,
            -0.3120334456984871
           ],
           "y": [
            0,
            0.9500711177409454
           ]
          }
         ]
        },
        {
         "data": [
          {
           "line": {
            "color": "blue",
            "width": 3
           },
           "marker": {
            "color": "blue",
            "size": 5
           },
           "mode": "lines+markers",
           "type": "scatter",
           "x": [
            0,
            0.9283679330160726
           ],
           "y": [
            0,
            0.3716624556603276
           ]
          },
          {
           "line": {
            "color": "orange",
            "width": 3
           },
           "marker": {
            "color": "orange",
            "size": 5
           },
           "mode": "lines+markers",
           "type": "scatter",
           "x": [
            0,
            -0.3716624556603276
           ],
           "y": [
            0,
            0.9283679330160726
           ]
          }
         ]
        },
        {
         "data": [
          {
           "line": {
            "color": "blue",
            "width": 3
           },
           "marker": {
            "color": "blue",
            "size": 5
           },
           "mode": "lines+markers",
           "type": "scatter",
           "x": [
            0,
            0.9029265382866212
           ],
           "y": [
            0,
            0.42979491208917164
           ]
          },
          {
           "line": {
            "color": "orange",
            "width": 3
           },
           "marker": {
            "color": "orange",
            "size": 5
           },
           "mode": "lines+markers",
           "type": "scatter",
           "x": [
            0,
            -0.42979491208917164
           ],
           "y": [
            0,
            0.9029265382866212
           ]
          }
         ]
        },
        {
         "data": [
          {
           "line": {
            "color": "blue",
            "width": 3
           },
           "marker": {
            "color": "blue",
            "size": 5
           },
           "mode": "lines+markers",
           "type": "scatter",
           "x": [
            0,
            0.8738493770697849
           ],
           "y": [
            0,
            0.4861967361004687
           ]
          },
          {
           "line": {
            "color": "orange",
            "width": 3
           },
           "marker": {
            "color": "orange",
            "size": 5
           },
           "mode": "lines+markers",
           "type": "scatter",
           "x": [
            0,
            -0.4861967361004687
           ],
           "y": [
            0,
            0.8738493770697849
           ]
          }
         ]
        },
        {
         "data": [
          {
           "line": {
            "color": "blue",
            "width": 3
           },
           "marker": {
            "color": "blue",
            "size": 5
           },
           "mode": "lines+markers",
           "type": "scatter",
           "x": [
            0,
            0.8412535328311812
           ],
           "y": [
            0,
            0.5406408174555976
           ]
          },
          {
           "line": {
            "color": "orange",
            "width": 3
           },
           "marker": {
            "color": "orange",
            "size": 5
           },
           "mode": "lines+markers",
           "type": "scatter",
           "x": [
            0,
            -0.5406408174555976
           ],
           "y": [
            0,
            0.8412535328311812
           ]
          }
         ]
        },
        {
         "data": [
          {
           "line": {
            "color": "blue",
            "width": 3
           },
           "marker": {
            "color": "blue",
            "size": 5
           },
           "mode": "lines+markers",
           "type": "scatter",
           "x": [
            0,
            0.8052702575310586
           ],
           "y": [
            0,
            0.5929079290546404
           ]
          },
          {
           "line": {
            "color": "orange",
            "width": 3
           },
           "marker": {
            "color": "orange",
            "size": 5
           },
           "mode": "lines+markers",
           "type": "scatter",
           "x": [
            0,
            -0.5929079290546404
           ],
           "y": [
            0,
            0.8052702575310586
           ]
          }
         ]
        },
        {
         "data": [
          {
           "line": {
            "color": "blue",
            "width": 3
           },
           "marker": {
            "color": "blue",
            "size": 5
           },
           "mode": "lines+markers",
           "type": "scatter",
           "x": [
            0,
            0.766044443118978
           ],
           "y": [
            0,
            0.6427876096865393
           ]
          },
          {
           "line": {
            "color": "orange",
            "width": 3
           },
           "marker": {
            "color": "orange",
            "size": 5
           },
           "mode": "lines+markers",
           "type": "scatter",
           "x": [
            0,
            -0.6427876096865393
           ],
           "y": [
            0,
            0.766044443118978
           ]
          }
         ]
        },
        {
         "data": [
          {
           "line": {
            "color": "blue",
            "width": 3
           },
           "marker": {
            "color": "blue",
            "size": 5
           },
           "mode": "lines+markers",
           "type": "scatter",
           "x": [
            0,
            0.7237340381050702
           ],
           "y": [
            0,
            0.690079011482112
           ]
          },
          {
           "line": {
            "color": "orange",
            "width": 3
           },
           "marker": {
            "color": "orange",
            "size": 5
           },
           "mode": "lines+markers",
           "type": "scatter",
           "x": [
            0,
            -0.690079011482112
           ],
           "y": [
            0,
            0.7237340381050702
           ]
          }
         ]
        },
        {
         "data": [
          {
           "line": {
            "color": "blue",
            "width": 3
           },
           "marker": {
            "color": "blue",
            "size": 5
           },
           "mode": "lines+markers",
           "type": "scatter",
           "x": [
            0,
            0.6785094115571322
           ],
           "y": [
            0,
            0.7345917086575333
           ]
          },
          {
           "line": {
            "color": "orange",
            "width": 3
           },
           "marker": {
            "color": "orange",
            "size": 5
           },
           "mode": "lines+markers",
           "type": "scatter",
           "x": [
            0,
            -0.7345917086575333
           ],
           "y": [
            0,
            0.6785094115571322
           ]
          }
         ]
        },
        {
         "data": [
          {
           "line": {
            "color": "blue",
            "width": 3
           },
           "marker": {
            "color": "blue",
            "size": 5
           },
           "mode": "lines+markers",
           "type": "scatter",
           "x": [
            0,
            0.6305526670845225
           ],
           "y": [
            0,
            0.7761464642917568
           ]
          },
          {
           "line": {
            "color": "orange",
            "width": 3
           },
           "marker": {
            "color": "orange",
            "size": 5
           },
           "mode": "lines+markers",
           "type": "scatter",
           "x": [
            0,
            -0.7761464642917568
           ],
           "y": [
            0,
            0.6305526670845225
           ]
          }
         ]
        },
        {
         "data": [
          {
           "line": {
            "color": "blue",
            "width": 3
           },
           "marker": {
            "color": "blue",
            "size": 5
           },
           "mode": "lines+markers",
           "type": "scatter",
           "x": [
            0,
            0.5800569095711982
           ],
           "y": [
            0,
            0.8145759520503357
           ]
          },
          {
           "line": {
            "color": "orange",
            "width": 3
           },
           "marker": {
            "color": "orange",
            "size": 5
           },
           "mode": "lines+markers",
           "type": "scatter",
           "x": [
            0,
            -0.8145759520503357
           ],
           "y": [
            0,
            0.5800569095711982
           ]
          }
         ]
        },
        {
         "data": [
          {
           "line": {
            "color": "blue",
            "width": 3
           },
           "marker": {
            "color": "blue",
            "size": 5
           },
           "mode": "lines+markers",
           "type": "scatter",
           "x": [
            0,
            0.5272254676105024
           ],
           "y": [
            0,
            0.8497254299495144
           ]
          },
          {
           "line": {
            "color": "orange",
            "width": 3
           },
           "marker": {
            "color": "orange",
            "size": 5
           },
           "mode": "lines+markers",
           "type": "scatter",
           "x": [
            0,
            -0.8497254299495144
           ],
           "y": [
            0,
            0.5272254676105024
           ]
          }
         ]
        },
        {
         "data": [
          {
           "line": {
            "color": "blue",
            "width": 3
           },
           "marker": {
            "color": "blue",
            "size": 5
           },
           "mode": "lines+markers",
           "type": "scatter",
           "x": [
            0,
            0.4722710747726827
           ],
           "y": [
            0,
            0.8814533634475821
           ]
          },
          {
           "line": {
            "color": "orange",
            "width": 3
           },
           "marker": {
            "color": "orange",
            "size": 5
           },
           "mode": "lines+markers",
           "type": "scatter",
           "x": [
            0,
            -0.8814533634475821
           ],
           "y": [
            0,
            0.4722710747726827
           ]
          }
         ]
        },
        {
         "data": [
          {
           "line": {
            "color": "blue",
            "width": 3
           },
           "marker": {
            "color": "blue",
            "size": 5
           },
           "mode": "lines+markers",
           "type": "scatter",
           "x": [
            0,
            0.41541501300188644
           ],
           "y": [
            0,
            0.9096319953545183
           ]
          },
          {
           "line": {
            "color": "orange",
            "width": 3
           },
           "marker": {
            "color": "orange",
            "size": 5
           },
           "mode": "lines+markers",
           "type": "scatter",
           "x": [
            0,
            -0.9096319953545183
           ],
           "y": [
            0,
            0.41541501300188644
           ]
          }
         ]
        },
        {
         "data": [
          {
           "line": {
            "color": "blue",
            "width": 3
           },
           "marker": {
            "color": "blue",
            "size": 5
           },
           "mode": "lines+markers",
           "type": "scatter",
           "x": [
            0,
            0.3568862215918719
           ],
           "y": [
            0,
            0.9341478602651067
           ]
          },
          {
           "line": {
            "color": "orange",
            "width": 3
           },
           "marker": {
            "color": "orange",
            "size": 5
           },
           "mode": "lines+markers",
           "type": "scatter",
           "x": [
            0,
            -0.9341478602651067
           ],
           "y": [
            0,
            0.3568862215918719
           ]
          }
         ]
        },
        {
         "data": [
          {
           "line": {
            "color": "blue",
            "width": 3
           },
           "marker": {
            "color": "blue",
            "size": 5
           },
           "mode": "lines+markers",
           "type": "scatter",
           "x": [
            0,
            0.2969203753282749
           ],
           "y": [
            0,
            0.9549022414440739
           ]
          },
          {
           "line": {
            "color": "orange",
            "width": 3
           },
           "marker": {
            "color": "orange",
            "size": 5
           },
           "mode": "lines+markers",
           "type": "scatter",
           "x": [
            0,
            -0.9549022414440739
           ],
           "y": [
            0,
            0.2969203753282749
           ]
          }
         ]
        },
        {
         "data": [
          {
           "line": {
            "color": "blue",
            "width": 3
           },
           "marker": {
            "color": "blue",
            "size": 5
           },
           "mode": "lines+markers",
           "type": "scatter",
           "x": [
            0,
            0.23575893550942728
           ],
           "y": [
            0,
            0.9718115683235417
           ]
          },
          {
           "line": {
            "color": "orange",
            "width": 3
           },
           "marker": {
            "color": "orange",
            "size": 5
           },
           "mode": "lines+markers",
           "type": "scatter",
           "x": [
            0,
            -0.9718115683235417
           ],
           "y": [
            0,
            0.23575893550942728
           ]
          }
         ]
        },
        {
         "data": [
          {
           "line": {
            "color": "blue",
            "width": 3
           },
           "marker": {
            "color": "blue",
            "size": 5
           },
           "mode": "lines+markers",
           "type": "scatter",
           "x": [
            0,
            0.17364817766693041
           ],
           "y": [
            0,
            0.984807753012208
           ]
          },
          {
           "line": {
            "color": "orange",
            "width": 3
           },
           "marker": {
            "color": "orange",
            "size": 5
           },
           "mode": "lines+markers",
           "type": "scatter",
           "x": [
            0,
            -0.984807753012208
           ],
           "y": [
            0,
            0.17364817766693041
           ]
          }
         ]
        },
        {
         "data": [
          {
           "line": {
            "color": "blue",
            "width": 3
           },
           "marker": {
            "color": "blue",
            "size": 5
           },
           "mode": "lines+markers",
           "type": "scatter",
           "x": [
            0,
            0.1108381999010111
           ],
           "y": [
            0,
            0.9938384644612541
           ]
          },
          {
           "line": {
            "color": "orange",
            "width": 3
           },
           "marker": {
            "color": "orange",
            "size": 5
           },
           "mode": "lines+markers",
           "type": "scatter",
           "x": [
            0,
            -0.9938384644612541
           ],
           "y": [
            0,
            0.1108381999010111
           ]
          }
         ]
        },
        {
         "data": [
          {
           "line": {
            "color": "blue",
            "width": 3
           },
           "marker": {
            "color": "blue",
            "size": 5
           },
           "mode": "lines+markers",
           "type": "scatter",
           "x": [
            0,
            0.04758191582374218
           ],
           "y": [
            0,
            0.998867339183008
           ]
          },
          {
           "line": {
            "color": "orange",
            "width": 3
           },
           "marker": {
            "color": "orange",
            "size": 5
           },
           "mode": "lines+markers",
           "type": "scatter",
           "x": [
            0,
            -0.998867339183008
           ],
           "y": [
            0,
            0.04758191582374218
           ]
          }
         ]
        },
        {
         "data": [
          {
           "line": {
            "color": "blue",
            "width": 3
           },
           "marker": {
            "color": "blue",
            "size": 5
           },
           "mode": "lines+markers",
           "type": "scatter",
           "x": [
            0,
            -0.01586596383480803
           ],
           "y": [
            0,
            0.9998741276738751
           ]
          },
          {
           "line": {
            "color": "orange",
            "width": 3
           },
           "marker": {
            "color": "orange",
            "size": 5
           },
           "mode": "lines+markers",
           "type": "scatter",
           "x": [
            0,
            -0.9998741276738751
           ],
           "y": [
            0,
            -0.01586596383480803
           ]
          }
         ]
        },
        {
         "data": [
          {
           "line": {
            "color": "blue",
            "width": 3
           },
           "marker": {
            "color": "blue",
            "size": 5
           },
           "mode": "lines+markers",
           "type": "scatter",
           "x": [
            0,
            -0.07924995685678854
           ],
           "y": [
            0,
            0.9968547759519424
           ]
          },
          {
           "line": {
            "color": "orange",
            "width": 3
           },
           "marker": {
            "color": "orange",
            "size": 5
           },
           "mode": "lines+markers",
           "type": "scatter",
           "x": [
            0,
            -0.9968547759519424
           ],
           "y": [
            0,
            -0.07924995685678854
           ]
          }
         ]
        },
        {
         "data": [
          {
           "line": {
            "color": "blue",
            "width": 3
           },
           "marker": {
            "color": "blue",
            "size": 5
           },
           "mode": "lines+markers",
           "type": "scatter",
           "x": [
            0,
            -0.14231483827328523
           ],
           "y": [
            0,
            0.9898214418809327
           ]
          },
          {
           "line": {
            "color": "orange",
            "width": 3
           },
           "marker": {
            "color": "orange",
            "size": 5
           },
           "mode": "lines+markers",
           "type": "scatter",
           "x": [
            0,
            -0.9898214418809327
           ],
           "y": [
            0,
            -0.14231483827328523
           ]
          }
         ]
        },
        {
         "data": [
          {
           "line": {
            "color": "blue",
            "width": 3
           },
           "marker": {
            "color": "blue",
            "size": 5
           },
           "mode": "lines+markers",
           "type": "scatter",
           "x": [
            0,
            -0.20480666806519074
           ],
           "y": [
            0,
            0.9788024462147787
           ]
          },
          {
           "line": {
            "color": "orange",
            "width": 3
           },
           "marker": {
            "color": "orange",
            "size": 5
           },
           "mode": "lines+markers",
           "type": "scatter",
           "x": [
            0,
            -0.9788024462147787
           ],
           "y": [
            0,
            -0.20480666806519074
           ]
          }
         ]
        },
        {
         "data": [
          {
           "line": {
            "color": "blue",
            "width": 3
           },
           "marker": {
            "color": "blue",
            "size": 5
           },
           "mode": "lines+markers",
           "type": "scatter",
           "x": [
            0,
            -0.26647381369003503
           ],
           "y": [
            0,
            0.963842158559942
           ]
          },
          {
           "line": {
            "color": "orange",
            "width": 3
           },
           "marker": {
            "color": "orange",
            "size": 5
           },
           "mode": "lines+markers",
           "type": "scatter",
           "x": [
            0,
            -0.963842158559942
           ],
           "y": [
            0,
            -0.26647381369003503
           ]
          }
         ]
        },
        {
         "data": [
          {
           "line": {
            "color": "blue",
            "width": 3
           },
           "marker": {
            "color": "blue",
            "size": 5
           },
           "mode": "lines+markers",
           "type": "scatter",
           "x": [
            0,
            -0.32706796331742166
           ],
           "y": [
            0,
            0.9450008187146685
           ]
          },
          {
           "line": {
            "color": "orange",
            "width": 3
           },
           "marker": {
            "color": "orange",
            "size": 5
           },
           "mode": "lines+markers",
           "type": "scatter",
           "x": [
            0,
            -0.9450008187146685
           ],
           "y": [
            0,
            -0.32706796331742166
           ]
          }
         ]
        },
        {
         "data": [
          {
           "line": {
            "color": "blue",
            "width": 3
           },
           "marker": {
            "color": "blue",
            "size": 5
           },
           "mode": "lines+markers",
           "type": "scatter",
           "x": [
            0,
            -0.3863451256931287
           ],
           "y": [
            0,
            0.9223542941045814
           ]
          },
          {
           "line": {
            "color": "orange",
            "width": 3
           },
           "marker": {
            "color": "orange",
            "size": 5
           },
           "mode": "lines+markers",
           "type": "scatter",
           "x": [
            0,
            -0.9223542941045814
           ],
           "y": [
            0,
            -0.3863451256931287
           ]
          }
         ]
        },
        {
         "data": [
          {
           "line": {
            "color": "blue",
            "width": 3
           },
           "marker": {
            "color": "blue",
            "size": 5
           },
           "mode": "lines+markers",
           "type": "scatter",
           "x": [
            0,
            -0.4440666126057741
           ],
           "y": [
            0,
            0.8959937742913359
           ]
          },
          {
           "line": {
            "color": "orange",
            "width": 3
           },
           "marker": {
            "color": "orange",
            "size": 5
           },
           "mode": "lines+markers",
           "type": "scatter",
           "x": [
            0,
            -0.8959937742913359
           ],
           "y": [
            0,
            -0.4440666126057741
           ]
          }
         ]
        },
        {
         "data": [
          {
           "line": {
            "color": "blue",
            "width": 3
           },
           "marker": {
            "color": "blue",
            "size": 5
           },
           "mode": "lines+markers",
           "type": "scatter",
           "x": [
            0,
            -0.5000000000000002
           ],
           "y": [
            0,
            0.8660254037844386
           ]
          },
          {
           "line": {
            "color": "orange",
            "width": 3
           },
           "marker": {
            "color": "orange",
            "size": 5
           },
           "mode": "lines+markers",
           "type": "scatter",
           "x": [
            0,
            -0.8660254037844386
           ],
           "y": [
            0,
            -0.5000000000000002
           ]
          }
         ]
        },
        {
         "data": [
          {
           "line": {
            "color": "blue",
            "width": 3
           },
           "marker": {
            "color": "blue",
            "size": 5
           },
           "mode": "lines+markers",
           "type": "scatter",
           "x": [
            0,
            -0.5539200638661103
           ],
           "y": [
            0,
            0.8325698546347714
           ]
          },
          {
           "line": {
            "color": "orange",
            "width": 3
           },
           "marker": {
            "color": "orange",
            "size": 5
           },
           "mode": "lines+markers",
           "type": "scatter",
           "x": [
            0,
            -0.8325698546347714
           ],
           "y": [
            0,
            -0.5539200638661103
           ]
          }
         ]
        },
        {
         "data": [
          {
           "line": {
            "color": "blue",
            "width": 3
           },
           "marker": {
            "color": "blue",
            "size": 5
           },
           "mode": "lines+markers",
           "type": "scatter",
           "x": [
            0,
            -0.6056096871376668
           ],
           "y": [
            0,
            0.795761840530832
           ]
          },
          {
           "line": {
            "color": "orange",
            "width": 3
           },
           "marker": {
            "color": "orange",
            "size": 5
           },
           "mode": "lines+markers",
           "type": "scatter",
           "x": [
            0,
            -0.795761840530832
           ],
           "y": [
            0,
            -0.6056096871376668
           ]
          }
         ]
        },
        {
         "data": [
          {
           "line": {
            "color": "blue",
            "width": 3
           },
           "marker": {
            "color": "blue",
            "size": 5
           },
           "mode": "lines+markers",
           "type": "scatter",
           "x": [
            0,
            -0.654860733945285
           ],
           "y": [
            0,
            0.7557495743542583
           ]
          },
          {
           "line": {
            "color": "orange",
            "width": 3
           },
           "marker": {
            "color": "orange",
            "size": 5
           },
           "mode": "lines+markers",
           "type": "scatter",
           "x": [
            0,
            -0.7557495743542583
           ],
           "y": [
            0,
            -0.654860733945285
           ]
          }
         ]
        },
        {
         "data": [
          {
           "line": {
            "color": "blue",
            "width": 3
           },
           "marker": {
            "color": "blue",
            "size": 5
           },
           "mode": "lines+markers",
           "type": "scatter",
           "x": [
            0,
            -0.7014748877063214
           ],
           "y": [
            0,
            0.7126941713788627
           ]
          },
          {
           "line": {
            "color": "orange",
            "width": 3
           },
           "marker": {
            "color": "orange",
            "size": 5
           },
           "mode": "lines+markers",
           "type": "scatter",
           "x": [
            0,
            -0.7126941713788627
           ],
           "y": [
            0,
            -0.7014748877063214
           ]
          }
         ]
        },
        {
         "data": [
          {
           "line": {
            "color": "blue",
            "width": 3
           },
           "marker": {
            "color": "blue",
            "size": 5
           },
           "mode": "lines+markers",
           "type": "scatter",
           "x": [
            0,
            -0.7452644496757547
           ],
           "y": [
            0,
            0.6667690005162916
           ]
          },
          {
           "line": {
            "color": "orange",
            "width": 3
           },
           "marker": {
            "color": "orange",
            "size": 5
           },
           "mode": "lines+markers",
           "type": "scatter",
           "x": [
            0,
            -0.6667690005162916
           ],
           "y": [
            0,
            -0.7452644496757547
           ]
          }
         ]
        },
        {
         "data": [
          {
           "line": {
            "color": "blue",
            "width": 3
           },
           "marker": {
            "color": "blue",
            "size": 5
           },
           "mode": "lines+markers",
           "type": "scatter",
           "x": [
            0,
            -0.7860530947427875
           ],
           "y": [
            0,
            0.6181589862206052
           ]
          },
          {
           "line": {
            "color": "orange",
            "width": 3
           },
           "marker": {
            "color": "orange",
            "size": 5
           },
           "mode": "lines+markers",
           "type": "scatter",
           "x": [
            0,
            -0.6181589862206052
           ],
           "y": [
            0,
            -0.7860530947427875
           ]
          }
         ]
        },
        {
         "data": [
          {
           "line": {
            "color": "blue",
            "width": 3
           },
           "marker": {
            "color": "blue",
            "size": 5
           },
           "mode": "lines+markers",
           "type": "scatter",
           "x": [
            0,
            -0.8236765814298327
           ],
           "y": [
            0,
            0.5670598638627709
           ]
          },
          {
           "line": {
            "color": "orange",
            "width": 3
           },
           "marker": {
            "color": "orange",
            "size": 5
           },
           "mode": "lines+markers",
           "type": "scatter",
           "x": [
            0,
            -0.5670598638627709
           ],
           "y": [
            0,
            -0.8236765814298327
           ]
          }
         ]
        },
        {
         "data": [
          {
           "line": {
            "color": "blue",
            "width": 3
           },
           "marker": {
            "color": "blue",
            "size": 5
           },
           "mode": "lines+markers",
           "type": "scatter",
           "x": [
            0,
            -0.8579834132349771
           ],
           "y": [
            0,
            0.5136773915734063
           ]
          },
          {
           "line": {
            "color": "orange",
            "width": 3
           },
           "marker": {
            "color": "orange",
            "size": 5
           },
           "mode": "lines+markers",
           "type": "scatter",
           "x": [
            0,
            -0.5136773915734063
           ],
           "y": [
            0,
            -0.8579834132349771
           ]
          }
         ]
        },
        {
         "data": [
          {
           "line": {
            "color": "blue",
            "width": 3
           },
           "marker": {
            "color": "blue",
            "size": 5
           },
           "mode": "lines+markers",
           "type": "scatter",
           "x": [
            0,
            -0.8888354486549234
           ],
           "y": [
            0,
            0.4582265217274105
           ]
          },
          {
           "line": {
            "color": "orange",
            "width": 3
           },
           "marker": {
            "color": "orange",
            "size": 5
           },
           "mode": "lines+markers",
           "type": "scatter",
           "x": [
            0,
            -0.4582265217274105
           ],
           "y": [
            0,
            -0.8888354486549234
           ]
          }
         ]
        },
        {
         "data": [
          {
           "line": {
            "color": "blue",
            "width": 3
           },
           "marker": {
            "color": "blue",
            "size": 5
           },
           "mode": "lines+markers",
           "type": "scatter",
           "x": [
            0,
            -0.9161084574320696
           ],
           "y": [
            0,
            0.4009305354066136
           ]
          },
          {
           "line": {
            "color": "orange",
            "width": 3
           },
           "marker": {
            "color": "orange",
            "size": 5
           },
           "mode": "lines+markers",
           "type": "scatter",
           "x": [
            0,
            -0.4009305354066136
           ],
           "y": [
            0,
            -0.9161084574320696
           ]
          }
         ]
        },
        {
         "data": [
          {
           "line": {
            "color": "blue",
            "width": 3
           },
           "marker": {
            "color": "blue",
            "size": 5
           },
           "mode": "lines+markers",
           "type": "scatter",
           "x": [
            0,
            -0.9396926207859083
           ],
           "y": [
            0,
            0.3420201433256689
           ]
          },
          {
           "line": {
            "color": "orange",
            "width": 3
           },
           "marker": {
            "color": "orange",
            "size": 5
           },
           "mode": "lines+markers",
           "type": "scatter",
           "x": [
            0,
            -0.3420201433256689
           ],
           "y": [
            0,
            -0.9396926207859083
           ]
          }
         ]
        },
        {
         "data": [
          {
           "line": {
            "color": "blue",
            "width": 3
           },
           "marker": {
            "color": "blue",
            "size": 5
           },
           "mode": "lines+markers",
           "type": "scatter",
           "x": [
            0,
            -0.9594929736144974
           ],
           "y": [
            0,
            0.28173255684142967
           ]
          },
          {
           "line": {
            "color": "orange",
            "width": 3
           },
           "marker": {
            "color": "orange",
            "size": 5
           },
           "mode": "lines+markers",
           "type": "scatter",
           "x": [
            0,
            -0.28173255684142967
           ],
           "y": [
            0,
            -0.9594929736144974
           ]
          }
         ]
        },
        {
         "data": [
          {
           "line": {
            "color": "blue",
            "width": 3
           },
           "marker": {
            "color": "blue",
            "size": 5
           },
           "mode": "lines+markers",
           "type": "scatter",
           "x": [
            0,
            -0.975429786885407
           ],
           "y": [
            0,
            0.2203105327865408
           ]
          },
          {
           "line": {
            "color": "orange",
            "width": 3
           },
           "marker": {
            "color": "orange",
            "size": 5
           },
           "mode": "lines+markers",
           "type": "scatter",
           "x": [
            0,
            -0.2203105327865408
           ],
           "y": [
            0,
            -0.975429786885407
           ]
          }
         ]
        },
        {
         "data": [
          {
           "line": {
            "color": "blue",
            "width": 3
           },
           "marker": {
            "color": "blue",
            "size": 5
           },
           "mode": "lines+markers",
           "type": "scatter",
           "x": [
            0,
            -0.9874388886763943
           ],
           "y": [
            0,
            0.1580013959733499
           ]
          },
          {
           "line": {
            "color": "orange",
            "width": 3
           },
           "marker": {
            "color": "orange",
            "size": 5
           },
           "mode": "lines+markers",
           "type": "scatter",
           "x": [
            0,
            -0.1580013959733499
           ],
           "y": [
            0,
            -0.9874388886763943
           ]
          }
         ]
        },
        {
         "data": [
          {
           "line": {
            "color": "blue",
            "width": 3
           },
           "marker": {
            "color": "blue",
            "size": 5
           },
           "mode": "lines+markers",
           "type": "scatter",
           "x": [
            0,
            -0.9954719225730846
           ],
           "y": [
            0,
            0.09505604330418244
           ]
          },
          {
           "line": {
            "color": "orange",
            "width": 3
           },
           "marker": {
            "color": "orange",
            "size": 5
           },
           "mode": "lines+markers",
           "type": "scatter",
           "x": [
            0,
            -0.09505604330418244
           ],
           "y": [
            0,
            -0.9954719225730846
           ]
          }
         ]
        },
        {
         "data": [
          {
           "line": {
            "color": "blue",
            "width": 3
           },
           "marker": {
            "color": "blue",
            "size": 5
           },
           "mode": "lines+markers",
           "type": "scatter",
           "x": [
            0,
            -0.9994965423831851
           ],
           "y": [
            0,
            0.031727933498067656
           ]
          },
          {
           "line": {
            "color": "orange",
            "width": 3
           },
           "marker": {
            "color": "orange",
            "size": 5
           },
           "mode": "lines+markers",
           "type": "scatter",
           "x": [
            0,
            -0.031727933498067656
           ],
           "y": [
            0,
            -0.9994965423831851
           ]
          }
         ]
        },
        {
         "data": [
          {
           "line": {
            "color": "blue",
            "width": 3
           },
           "marker": {
            "color": "blue",
            "size": 5
           },
           "mode": "lines+markers",
           "type": "scatter",
           "x": [
            0,
            -0.9994965423831851
           ],
           "y": [
            0,
            -0.03172793349806786
           ]
          },
          {
           "line": {
            "color": "orange",
            "width": 3
           },
           "marker": {
            "color": "orange",
            "size": 5
           },
           "mode": "lines+markers",
           "type": "scatter",
           "x": [
            0,
            0.03172793349806786
           ],
           "y": [
            0,
            -0.9994965423831851
           ]
          }
         ]
        },
        {
         "data": [
          {
           "line": {
            "color": "blue",
            "width": 3
           },
           "marker": {
            "color": "blue",
            "size": 5
           },
           "mode": "lines+markers",
           "type": "scatter",
           "x": [
            0,
            -0.9954719225730846
           ],
           "y": [
            0,
            -0.09505604330418263
           ]
          },
          {
           "line": {
            "color": "orange",
            "width": 3
           },
           "marker": {
            "color": "orange",
            "size": 5
           },
           "mode": "lines+markers",
           "type": "scatter",
           "x": [
            0,
            0.09505604330418263
           ],
           "y": [
            0,
            -0.9954719225730846
           ]
          }
         ]
        },
        {
         "data": [
          {
           "line": {
            "color": "blue",
            "width": 3
           },
           "marker": {
            "color": "blue",
            "size": 5
           },
           "mode": "lines+markers",
           "type": "scatter",
           "x": [
            0,
            -0.9874388886763943
           ],
           "y": [
            0,
            -0.15800139597335008
           ]
          },
          {
           "line": {
            "color": "orange",
            "width": 3
           },
           "marker": {
            "color": "orange",
            "size": 5
           },
           "mode": "lines+markers",
           "type": "scatter",
           "x": [
            0,
            0.15800139597335008
           ],
           "y": [
            0,
            -0.9874388886763943
           ]
          }
         ]
        },
        {
         "data": [
          {
           "line": {
            "color": "blue",
            "width": 3
           },
           "marker": {
            "color": "blue",
            "size": 5
           },
           "mode": "lines+markers",
           "type": "scatter",
           "x": [
            0,
            -0.975429786885407
           ],
           "y": [
            0,
            -0.22031053278654056
           ]
          },
          {
           "line": {
            "color": "orange",
            "width": 3
           },
           "marker": {
            "color": "orange",
            "size": 5
           },
           "mode": "lines+markers",
           "type": "scatter",
           "x": [
            0,
            0.22031053278654056
           ],
           "y": [
            0,
            -0.975429786885407
           ]
          }
         ]
        },
        {
         "data": [
          {
           "line": {
            "color": "blue",
            "width": 3
           },
           "marker": {
            "color": "blue",
            "size": 5
           },
           "mode": "lines+markers",
           "type": "scatter",
           "x": [
            0,
            -0.9594929736144974
           ],
           "y": [
            0,
            -0.28173255684142984
           ]
          },
          {
           "line": {
            "color": "orange",
            "width": 3
           },
           "marker": {
            "color": "orange",
            "size": 5
           },
           "mode": "lines+markers",
           "type": "scatter",
           "x": [
            0,
            0.28173255684142984
           ],
           "y": [
            0,
            -0.9594929736144974
           ]
          }
         ]
        },
        {
         "data": [
          {
           "line": {
            "color": "blue",
            "width": 3
           },
           "marker": {
            "color": "blue",
            "size": 5
           },
           "mode": "lines+markers",
           "type": "scatter",
           "x": [
            0,
            -0.9396926207859084
           ],
           "y": [
            0,
            -0.34202014332566866
           ]
          },
          {
           "line": {
            "color": "orange",
            "width": 3
           },
           "marker": {
            "color": "orange",
            "size": 5
           },
           "mode": "lines+markers",
           "type": "scatter",
           "x": [
            0,
            0.34202014332566866
           ],
           "y": [
            0,
            -0.9396926207859084
           ]
          }
         ]
        },
        {
         "data": [
          {
           "line": {
            "color": "blue",
            "width": 3
           },
           "marker": {
            "color": "blue",
            "size": 5
           },
           "mode": "lines+markers",
           "type": "scatter",
           "x": [
            0,
            -0.9161084574320696
           ],
           "y": [
            0,
            -0.4009305354066138
           ]
          },
          {
           "line": {
            "color": "orange",
            "width": 3
           },
           "marker": {
            "color": "orange",
            "size": 5
           },
           "mode": "lines+markers",
           "type": "scatter",
           "x": [
            0,
            0.4009305354066138
           ],
           "y": [
            0,
            -0.9161084574320696
           ]
          }
         ]
        },
        {
         "data": [
          {
           "line": {
            "color": "blue",
            "width": 3
           },
           "marker": {
            "color": "blue",
            "size": 5
           },
           "mode": "lines+markers",
           "type": "scatter",
           "x": [
            0,
            -0.8888354486549235
           ],
           "y": [
            0,
            -0.4582265217274103
           ]
          },
          {
           "line": {
            "color": "orange",
            "width": 3
           },
           "marker": {
            "color": "orange",
            "size": 5
           },
           "mode": "lines+markers",
           "type": "scatter",
           "x": [
            0,
            0.4582265217274103
           ],
           "y": [
            0,
            -0.8888354486549235
           ]
          }
         ]
        },
        {
         "data": [
          {
           "line": {
            "color": "blue",
            "width": 3
           },
           "marker": {
            "color": "blue",
            "size": 5
           },
           "mode": "lines+markers",
           "type": "scatter",
           "x": [
            0,
            -0.857983413234977
           ],
           "y": [
            0,
            -0.5136773915734064
           ]
          },
          {
           "line": {
            "color": "orange",
            "width": 3
           },
           "marker": {
            "color": "orange",
            "size": 5
           },
           "mode": "lines+markers",
           "type": "scatter",
           "x": [
            0,
            0.5136773915734064
           ],
           "y": [
            0,
            -0.857983413234977
           ]
          }
         ]
        },
        {
         "data": [
          {
           "line": {
            "color": "blue",
            "width": 3
           },
           "marker": {
            "color": "blue",
            "size": 5
           },
           "mode": "lines+markers",
           "type": "scatter",
           "x": [
            0,
            -0.8236765814298328
           ],
           "y": [
            0,
            -0.5670598638627706
           ]
          },
          {
           "line": {
            "color": "orange",
            "width": 3
           },
           "marker": {
            "color": "orange",
            "size": 5
           },
           "mode": "lines+markers",
           "type": "scatter",
           "x": [
            0,
            0.5670598638627706
           ],
           "y": [
            0,
            -0.8236765814298328
           ]
          }
         ]
        },
        {
         "data": [
          {
           "line": {
            "color": "blue",
            "width": 3
           },
           "marker": {
            "color": "blue",
            "size": 5
           },
           "mode": "lines+markers",
           "type": "scatter",
           "x": [
            0,
            -0.7860530947427874
           ],
           "y": [
            0,
            -0.6181589862206053
           ]
          },
          {
           "line": {
            "color": "orange",
            "width": 3
           },
           "marker": {
            "color": "orange",
            "size": 5
           },
           "mode": "lines+markers",
           "type": "scatter",
           "x": [
            0,
            0.6181589862206053
           ],
           "y": [
            0,
            -0.7860530947427874
           ]
          }
         ]
        },
        {
         "data": [
          {
           "line": {
            "color": "blue",
            "width": 3
           },
           "marker": {
            "color": "blue",
            "size": 5
           },
           "mode": "lines+markers",
           "type": "scatter",
           "x": [
            0,
            -0.7452644496757548
           ],
           "y": [
            0,
            -0.6667690005162915
           ]
          },
          {
           "line": {
            "color": "orange",
            "width": 3
           },
           "marker": {
            "color": "orange",
            "size": 5
           },
           "mode": "lines+markers",
           "type": "scatter",
           "x": [
            0,
            0.6667690005162915
           ],
           "y": [
            0,
            -0.7452644496757548
           ]
          }
         ]
        },
        {
         "data": [
          {
           "line": {
            "color": "blue",
            "width": 3
           },
           "marker": {
            "color": "blue",
            "size": 5
           },
           "mode": "lines+markers",
           "type": "scatter",
           "x": [
            0,
            -0.7014748877063213
           ],
           "y": [
            0,
            -0.7126941713788629
           ]
          },
          {
           "line": {
            "color": "orange",
            "width": 3
           },
           "marker": {
            "color": "orange",
            "size": 5
           },
           "mode": "lines+markers",
           "type": "scatter",
           "x": [
            0,
            0.7126941713788629
           ],
           "y": [
            0,
            -0.7014748877063213
           ]
          }
         ]
        },
        {
         "data": [
          {
           "line": {
            "color": "blue",
            "width": 3
           },
           "marker": {
            "color": "blue",
            "size": 5
           },
           "mode": "lines+markers",
           "type": "scatter",
           "x": [
            0,
            -0.6548607339452852
           ],
           "y": [
            0,
            -0.7557495743542582
           ]
          },
          {
           "line": {
            "color": "orange",
            "width": 3
           },
           "marker": {
            "color": "orange",
            "size": 5
           },
           "mode": "lines+markers",
           "type": "scatter",
           "x": [
            0,
            0.7557495743542582
           ],
           "y": [
            0,
            -0.6548607339452852
           ]
          }
         ]
        },
        {
         "data": [
          {
           "line": {
            "color": "blue",
            "width": 3
           },
           "marker": {
            "color": "blue",
            "size": 5
           },
           "mode": "lines+markers",
           "type": "scatter",
           "x": [
            0,
            -0.6056096871376666
           ],
           "y": [
            0,
            -0.7957618405308321
           ]
          },
          {
           "line": {
            "color": "orange",
            "width": 3
           },
           "marker": {
            "color": "orange",
            "size": 5
           },
           "mode": "lines+markers",
           "type": "scatter",
           "x": [
            0,
            0.7957618405308321
           ],
           "y": [
            0,
            -0.6056096871376666
           ]
          }
         ]
        },
        {
         "data": [
          {
           "line": {
            "color": "blue",
            "width": 3
           },
           "marker": {
            "color": "blue",
            "size": 5
           },
           "mode": "lines+markers",
           "type": "scatter",
           "x": [
            0,
            -0.5539200638661105
           ],
           "y": [
            0,
            -0.8325698546347713
           ]
          },
          {
           "line": {
            "color": "orange",
            "width": 3
           },
           "marker": {
            "color": "orange",
            "size": 5
           },
           "mode": "lines+markers",
           "type": "scatter",
           "x": [
            0,
            0.8325698546347713
           ],
           "y": [
            0,
            -0.5539200638661105
           ]
          }
         ]
        },
        {
         "data": [
          {
           "line": {
            "color": "blue",
            "width": 3
           },
           "marker": {
            "color": "blue",
            "size": 5
           },
           "mode": "lines+markers",
           "type": "scatter",
           "x": [
            0,
            -0.4999999999999996
           ],
           "y": [
            0,
            -0.8660254037844388
           ]
          },
          {
           "line": {
            "color": "orange",
            "width": 3
           },
           "marker": {
            "color": "orange",
            "size": 5
           },
           "mode": "lines+markers",
           "type": "scatter",
           "x": [
            0,
            0.8660254037844388
           ],
           "y": [
            0,
            -0.4999999999999996
           ]
          }
         ]
        },
        {
         "data": [
          {
           "line": {
            "color": "blue",
            "width": 3
           },
           "marker": {
            "color": "blue",
            "size": 5
           },
           "mode": "lines+markers",
           "type": "scatter",
           "x": [
            0,
            -0.44406661260577396
           ],
           "y": [
            0,
            -0.895993774291336
           ]
          },
          {
           "line": {
            "color": "orange",
            "width": 3
           },
           "marker": {
            "color": "orange",
            "size": 5
           },
           "mode": "lines+markers",
           "type": "scatter",
           "x": [
            0,
            0.895993774291336
           ],
           "y": [
            0,
            -0.44406661260577396
           ]
          }
         ]
        },
        {
         "data": [
          {
           "line": {
            "color": "blue",
            "width": 3
           },
           "marker": {
            "color": "blue",
            "size": 5
           },
           "mode": "lines+markers",
           "type": "scatter",
           "x": [
            0,
            -0.3863451256931287
           ],
           "y": [
            0,
            -0.9223542941045814
           ]
          },
          {
           "line": {
            "color": "orange",
            "width": 3
           },
           "marker": {
            "color": "orange",
            "size": 5
           },
           "mode": "lines+markers",
           "type": "scatter",
           "x": [
            0,
            0.9223542941045814
           ],
           "y": [
            0,
            -0.3863451256931287
           ]
          }
         ]
        },
        {
         "data": [
          {
           "line": {
            "color": "blue",
            "width": 3
           },
           "marker": {
            "color": "blue",
            "size": 5
           },
           "mode": "lines+markers",
           "type": "scatter",
           "x": [
            0,
            -0.3270679633174219
           ],
           "y": [
            0,
            -0.9450008187146683
           ]
          },
          {
           "line": {
            "color": "orange",
            "width": 3
           },
           "marker": {
            "color": "orange",
            "size": 5
           },
           "mode": "lines+markers",
           "type": "scatter",
           "x": [
            0,
            0.9450008187146683
           ],
           "y": [
            0,
            -0.3270679633174219
           ]
          }
         ]
        },
        {
         "data": [
          {
           "line": {
            "color": "blue",
            "width": 3
           },
           "marker": {
            "color": "blue",
            "size": 5
           },
           "mode": "lines+markers",
           "type": "scatter",
           "x": [
            0,
            -0.26647381369003464
           ],
           "y": [
            0,
            -0.9638421585599422
           ]
          },
          {
           "line": {
            "color": "orange",
            "width": 3
           },
           "marker": {
            "color": "orange",
            "size": 5
           },
           "mode": "lines+markers",
           "type": "scatter",
           "x": [
            0,
            0.9638421585599422
           ],
           "y": [
            0,
            -0.26647381369003464
           ]
          }
         ]
        },
        {
         "data": [
          {
           "line": {
            "color": "blue",
            "width": 3
           },
           "marker": {
            "color": "blue",
            "size": 5
           },
           "mode": "lines+markers",
           "type": "scatter",
           "x": [
            0,
            -0.20480666806519054
           ],
           "y": [
            0,
            -0.9788024462147787
           ]
          },
          {
           "line": {
            "color": "orange",
            "width": 3
           },
           "marker": {
            "color": "orange",
            "size": 5
           },
           "mode": "lines+markers",
           "type": "scatter",
           "x": [
            0,
            0.9788024462147787
           ],
           "y": [
            0,
            -0.20480666806519054
           ]
          }
         ]
        },
        {
         "data": [
          {
           "line": {
            "color": "blue",
            "width": 3
           },
           "marker": {
            "color": "blue",
            "size": 5
           },
           "mode": "lines+markers",
           "type": "scatter",
           "x": [
            0,
            -0.14231483827328523
           ],
           "y": [
            0,
            -0.9898214418809327
           ]
          },
          {
           "line": {
            "color": "orange",
            "width": 3
           },
           "marker": {
            "color": "orange",
            "size": 5
           },
           "mode": "lines+markers",
           "type": "scatter",
           "x": [
            0,
            0.9898214418809327
           ],
           "y": [
            0,
            -0.14231483827328523
           ]
          }
         ]
        },
        {
         "data": [
          {
           "line": {
            "color": "blue",
            "width": 3
           },
           "marker": {
            "color": "blue",
            "size": 5
           },
           "mode": "lines+markers",
           "type": "scatter",
           "x": [
            0,
            -0.07924995685678879
           ],
           "y": [
            0,
            -0.9968547759519423
           ]
          },
          {
           "line": {
            "color": "orange",
            "width": 3
           },
           "marker": {
            "color": "orange",
            "size": 5
           },
           "mode": "lines+markers",
           "type": "scatter",
           "x": [
            0,
            0.9968547759519423
           ],
           "y": [
            0,
            -0.07924995685678879
           ]
          }
         ]
        },
        {
         "data": [
          {
           "line": {
            "color": "blue",
            "width": 3
           },
           "marker": {
            "color": "blue",
            "size": 5
           },
           "mode": "lines+markers",
           "type": "scatter",
           "x": [
            0,
            -0.01586596383480761
           ],
           "y": [
            0,
            -0.9998741276738751
           ]
          },
          {
           "line": {
            "color": "orange",
            "width": 3
           },
           "marker": {
            "color": "orange",
            "size": 5
           },
           "mode": "lines+markers",
           "type": "scatter",
           "x": [
            0,
            0.9998741276738751
           ],
           "y": [
            0,
            -0.01586596383480761
           ]
          }
         ]
        },
        {
         "data": [
          {
           "line": {
            "color": "blue",
            "width": 3
           },
           "marker": {
            "color": "blue",
            "size": 5
           },
           "mode": "lines+markers",
           "type": "scatter",
           "x": [
            0,
            0.04758191582374238
           ],
           "y": [
            0,
            -0.998867339183008
           ]
          },
          {
           "line": {
            "color": "orange",
            "width": 3
           },
           "marker": {
            "color": "orange",
            "size": 5
           },
           "mode": "lines+markers",
           "type": "scatter",
           "x": [
            0,
            0.998867339183008
           ],
           "y": [
            0,
            0.04758191582374238
           ]
          }
         ]
        },
        {
         "data": [
          {
           "line": {
            "color": "blue",
            "width": 3
           },
           "marker": {
            "color": "blue",
            "size": 5
           },
           "mode": "lines+markers",
           "type": "scatter",
           "x": [
            0,
            0.11083819990101086
           ],
           "y": [
            0,
            -0.9938384644612541
           ]
          },
          {
           "line": {
            "color": "orange",
            "width": 3
           },
           "marker": {
            "color": "orange",
            "size": 5
           },
           "mode": "lines+markers",
           "type": "scatter",
           "x": [
            0,
            0.9938384644612541
           ],
           "y": [
            0,
            0.11083819990101086
           ]
          }
         ]
        },
        {
         "data": [
          {
           "line": {
            "color": "blue",
            "width": 3
           },
           "marker": {
            "color": "blue",
            "size": 5
           },
           "mode": "lines+markers",
           "type": "scatter",
           "x": [
            0,
            0.17364817766692997
           ],
           "y": [
            0,
            -0.9848077530122081
           ]
          },
          {
           "line": {
            "color": "orange",
            "width": 3
           },
           "marker": {
            "color": "orange",
            "size": 5
           },
           "mode": "lines+markers",
           "type": "scatter",
           "x": [
            0,
            0.9848077530122081
           ],
           "y": [
            0,
            0.17364817766692997
           ]
          }
         ]
        },
        {
         "data": [
          {
           "line": {
            "color": "blue",
            "width": 3
           },
           "marker": {
            "color": "blue",
            "size": 5
           },
           "mode": "lines+markers",
           "type": "scatter",
           "x": [
            0,
            0.23575893550942748
           ],
           "y": [
            0,
            -0.9718115683235417
           ]
          },
          {
           "line": {
            "color": "orange",
            "width": 3
           },
           "marker": {
            "color": "orange",
            "size": 5
           },
           "mode": "lines+markers",
           "type": "scatter",
           "x": [
            0,
            0.9718115683235417
           ],
           "y": [
            0,
            0.23575893550942748
           ]
          }
         ]
        },
        {
         "data": [
          {
           "line": {
            "color": "blue",
            "width": 3
           },
           "marker": {
            "color": "blue",
            "size": 5
           },
           "mode": "lines+markers",
           "type": "scatter",
           "x": [
            0,
            0.2969203753282749
           ],
           "y": [
            0,
            -0.9549022414440739
           ]
          },
          {
           "line": {
            "color": "orange",
            "width": 3
           },
           "marker": {
            "color": "orange",
            "size": 5
           },
           "mode": "lines+markers",
           "type": "scatter",
           "x": [
            0,
            0.9549022414440739
           ],
           "y": [
            0,
            0.2969203753282749
           ]
          }
         ]
        },
        {
         "data": [
          {
           "line": {
            "color": "blue",
            "width": 3
           },
           "marker": {
            "color": "blue",
            "size": 5
           },
           "mode": "lines+markers",
           "type": "scatter",
           "x": [
            0,
            0.35688622159187167
           ],
           "y": [
            0,
            -0.9341478602651068
           ]
          },
          {
           "line": {
            "color": "orange",
            "width": 3
           },
           "marker": {
            "color": "orange",
            "size": 5
           },
           "mode": "lines+markers",
           "type": "scatter",
           "x": [
            0,
            0.9341478602651068
           ],
           "y": [
            0,
            0.35688622159187167
           ]
          }
         ]
        },
        {
         "data": [
          {
           "line": {
            "color": "blue",
            "width": 3
           },
           "marker": {
            "color": "blue",
            "size": 5
           },
           "mode": "lines+markers",
           "type": "scatter",
           "x": [
            0,
            0.4154150130018868
           ],
           "y": [
            0,
            -0.9096319953545182
           ]
          },
          {
           "line": {
            "color": "orange",
            "width": 3
           },
           "marker": {
            "color": "orange",
            "size": 5
           },
           "mode": "lines+markers",
           "type": "scatter",
           "x": [
            0,
            0.9096319953545182
           ],
           "y": [
            0,
            0.4154150130018868
           ]
          }
         ]
        },
        {
         "data": [
          {
           "line": {
            "color": "blue",
            "width": 3
           },
           "marker": {
            "color": "blue",
            "size": 5
           },
           "mode": "lines+markers",
           "type": "scatter",
           "x": [
            0,
            0.4722710747726829
           ],
           "y": [
            0,
            -0.881453363447582
           ]
          },
          {
           "line": {
            "color": "orange",
            "width": 3
           },
           "marker": {
            "color": "orange",
            "size": 5
           },
           "mode": "lines+markers",
           "type": "scatter",
           "x": [
            0,
            0.881453363447582
           ],
           "y": [
            0,
            0.4722710747726829
           ]
          }
         ]
        },
        {
         "data": [
          {
           "line": {
            "color": "blue",
            "width": 3
           },
           "marker": {
            "color": "blue",
            "size": 5
           },
           "mode": "lines+markers",
           "type": "scatter",
           "x": [
            0,
            0.5272254676105024
           ],
           "y": [
            0,
            -0.8497254299495144
           ]
          },
          {
           "line": {
            "color": "orange",
            "width": 3
           },
           "marker": {
            "color": "orange",
            "size": 5
           },
           "mode": "lines+markers",
           "type": "scatter",
           "x": [
            0,
            0.8497254299495144
           ],
           "y": [
            0,
            0.5272254676105024
           ]
          }
         ]
        },
        {
         "data": [
          {
           "line": {
            "color": "blue",
            "width": 3
           },
           "marker": {
            "color": "blue",
            "size": 5
           },
           "mode": "lines+markers",
           "type": "scatter",
           "x": [
            0,
            0.5800569095711979
           ],
           "y": [
            0,
            -0.8145759520503358
           ]
          },
          {
           "line": {
            "color": "orange",
            "width": 3
           },
           "marker": {
            "color": "orange",
            "size": 5
           },
           "mode": "lines+markers",
           "type": "scatter",
           "x": [
            0,
            0.8145759520503358
           ],
           "y": [
            0,
            0.5800569095711979
           ]
          }
         ]
        },
        {
         "data": [
          {
           "line": {
            "color": "blue",
            "width": 3
           },
           "marker": {
            "color": "blue",
            "size": 5
           },
           "mode": "lines+markers",
           "type": "scatter",
           "x": [
            0,
            0.6305526670845228
           ],
           "y": [
            0,
            -0.7761464642917566
           ]
          },
          {
           "line": {
            "color": "orange",
            "width": 3
           },
           "marker": {
            "color": "orange",
            "size": 5
           },
           "mode": "lines+markers",
           "type": "scatter",
           "x": [
            0,
            0.7761464642917566
           ],
           "y": [
            0,
            0.6305526670845228
           ]
          }
         ]
        },
        {
         "data": [
          {
           "line": {
            "color": "blue",
            "width": 3
           },
           "marker": {
            "color": "blue",
            "size": 5
           },
           "mode": "lines+markers",
           "type": "scatter",
           "x": [
            0,
            0.6785094115571323
           ],
           "y": [
            0,
            -0.7345917086575331
           ]
          },
          {
           "line": {
            "color": "orange",
            "width": 3
           },
           "marker": {
            "color": "orange",
            "size": 5
           },
           "mode": "lines+markers",
           "type": "scatter",
           "x": [
            0,
            0.7345917086575331
           ],
           "y": [
            0,
            0.6785094115571323
           ]
          }
         ]
        },
        {
         "data": [
          {
           "line": {
            "color": "blue",
            "width": 3
           },
           "marker": {
            "color": "blue",
            "size": 5
           },
           "mode": "lines+markers",
           "type": "scatter",
           "x": [
            0,
            0.7237340381050701
           ],
           "y": [
            0,
            -0.690079011482112
           ]
          },
          {
           "line": {
            "color": "orange",
            "width": 3
           },
           "marker": {
            "color": "orange",
            "size": 5
           },
           "mode": "lines+markers",
           "type": "scatter",
           "x": [
            0,
            0.690079011482112
           ],
           "y": [
            0,
            0.7237340381050701
           ]
          }
         ]
        },
        {
         "data": [
          {
           "line": {
            "color": "blue",
            "width": 3
           },
           "marker": {
            "color": "blue",
            "size": 5
           },
           "mode": "lines+markers",
           "type": "scatter",
           "x": [
            0,
            0.7660444431189778
           ],
           "y": [
            0,
            -0.6427876096865396
           ]
          },
          {
           "line": {
            "color": "orange",
            "width": 3
           },
           "marker": {
            "color": "orange",
            "size": 5
           },
           "mode": "lines+markers",
           "type": "scatter",
           "x": [
            0,
            0.6427876096865396
           ],
           "y": [
            0,
            0.7660444431189778
           ]
          }
         ]
        },
        {
         "data": [
          {
           "line": {
            "color": "blue",
            "width": 3
           },
           "marker": {
            "color": "blue",
            "size": 5
           },
           "mode": "lines+markers",
           "type": "scatter",
           "x": [
            0,
            0.8052702575310587
           ],
           "y": [
            0,
            -0.5929079290546402
           ]
          },
          {
           "line": {
            "color": "orange",
            "width": 3
           },
           "marker": {
            "color": "orange",
            "size": 5
           },
           "mode": "lines+markers",
           "type": "scatter",
           "x": [
            0,
            0.5929079290546402
           ],
           "y": [
            0,
            0.8052702575310587
           ]
          }
         ]
        },
        {
         "data": [
          {
           "line": {
            "color": "blue",
            "width": 3
           },
           "marker": {
            "color": "blue",
            "size": 5
           },
           "mode": "lines+markers",
           "type": "scatter",
           "x": [
            0,
            0.8412535328311812
           ],
           "y": [
            0,
            -0.5406408174555974
           ]
          },
          {
           "line": {
            "color": "orange",
            "width": 3
           },
           "marker": {
            "color": "orange",
            "size": 5
           },
           "mode": "lines+markers",
           "type": "scatter",
           "x": [
            0,
            0.5406408174555974
           ],
           "y": [
            0,
            0.8412535328311812
           ]
          }
         ]
        },
        {
         "data": [
          {
           "line": {
            "color": "blue",
            "width": 3
           },
           "marker": {
            "color": "blue",
            "size": 5
           },
           "mode": "lines+markers",
           "type": "scatter",
           "x": [
            0,
            0.8738493770697848
           ],
           "y": [
            0,
            -0.4861967361004688
           ]
          },
          {
           "line": {
            "color": "orange",
            "width": 3
           },
           "marker": {
            "color": "orange",
            "size": 5
           },
           "mode": "lines+markers",
           "type": "scatter",
           "x": [
            0,
            0.4861967361004688
           ],
           "y": [
            0,
            0.8738493770697848
           ]
          }
         ]
        },
        {
         "data": [
          {
           "line": {
            "color": "blue",
            "width": 3
           },
           "marker": {
            "color": "blue",
            "size": 5
           },
           "mode": "lines+markers",
           "type": "scatter",
           "x": [
            0,
            0.9029265382866211
           ],
           "y": [
            0,
            -0.4297949120891719
           ]
          },
          {
           "line": {
            "color": "orange",
            "width": 3
           },
           "marker": {
            "color": "orange",
            "size": 5
           },
           "mode": "lines+markers",
           "type": "scatter",
           "x": [
            0,
            0.4297949120891719
           ],
           "y": [
            0,
            0.9029265382866211
           ]
          }
         ]
        },
        {
         "data": [
          {
           "line": {
            "color": "blue",
            "width": 3
           },
           "marker": {
            "color": "blue",
            "size": 5
           },
           "mode": "lines+markers",
           "type": "scatter",
           "x": [
            0,
            0.9283679330160727
           ],
           "y": [
            0,
            -0.37166245566032724
           ]
          },
          {
           "line": {
            "color": "orange",
            "width": 3
           },
           "marker": {
            "color": "orange",
            "size": 5
           },
           "mode": "lines+markers",
           "type": "scatter",
           "x": [
            0,
            0.37166245566032724
           ],
           "y": [
            0,
            0.9283679330160727
           ]
          }
         ]
        },
        {
         "data": [
          {
           "line": {
            "color": "blue",
            "width": 3
           },
           "marker": {
            "color": "blue",
            "size": 5
           },
           "mode": "lines+markers",
           "type": "scatter",
           "x": [
            0,
            0.9500711177409454
           ],
           "y": [
            0,
            -0.31203344569848707
           ]
          },
          {
           "line": {
            "color": "orange",
            "width": 3
           },
           "marker": {
            "color": "orange",
            "size": 5
           },
           "mode": "lines+markers",
           "type": "scatter",
           "x": [
            0,
            0.31203344569848707
           ],
           "y": [
            0,
            0.9500711177409454
           ]
          }
         ]
        },
        {
         "data": [
          {
           "line": {
            "color": "blue",
            "width": 3
           },
           "marker": {
            "color": "blue",
            "size": 5
           },
           "mode": "lines+markers",
           "type": "scatter",
           "x": [
            0,
            0.9679487013963562
           ],
           "y": [
            0,
            -0.2511479871810794
           ]
          },
          {
           "line": {
            "color": "orange",
            "width": 3
           },
           "marker": {
            "color": "orange",
            "size": 5
           },
           "mode": "lines+markers",
           "type": "scatter",
           "x": [
            0,
            0.2511479871810794
           ],
           "y": [
            0,
            0.9679487013963562
           ]
          }
         ]
        },
        {
         "data": [
          {
           "line": {
            "color": "blue",
            "width": 3
           },
           "marker": {
            "color": "blue",
            "size": 5
           },
           "mode": "lines+markers",
           "type": "scatter",
           "x": [
            0,
            0.9819286972627068
           ],
           "y": [
            0,
            -0.18925124436040974
           ]
          },
          {
           "line": {
            "color": "orange",
            "width": 3
           },
           "marker": {
            "color": "orange",
            "size": 5
           },
           "mode": "lines+markers",
           "type": "scatter",
           "x": [
            0,
            0.18925124436040974
           ],
           "y": [
            0,
            0.9819286972627068
           ]
          }
         ]
        },
        {
         "data": [
          {
           "line": {
            "color": "blue",
            "width": 3
           },
           "marker": {
            "color": "blue",
            "size": 5
           },
           "mode": "lines+markers",
           "type": "scatter",
           "x": [
            0,
            0.9919548128307953
           ],
           "y": [
            0,
            -0.12659245357374904
           ]
          },
          {
           "line": {
            "color": "orange",
            "width": 3
           },
           "marker": {
            "color": "orange",
            "size": 5
           },
           "mode": "lines+markers",
           "type": "scatter",
           "x": [
            0,
            0.12659245357374904
           ],
           "y": [
            0,
            0.9919548128307953
           ]
          }
         ]
        },
        {
         "data": [
          {
           "line": {
            "color": "blue",
            "width": 3
           },
           "marker": {
            "color": "blue",
            "size": 5
           },
           "mode": "lines+markers",
           "type": "scatter",
           "x": [
            0,
            0.9979866764718844
           ],
           "y": [
            0,
            -0.06342391965656452
           ]
          },
          {
           "line": {
            "color": "orange",
            "width": 3
           },
           "marker": {
            "color": "orange",
            "size": 5
           },
           "mode": "lines+markers",
           "type": "scatter",
           "x": [
            0,
            0.06342391965656452
           ],
           "y": [
            0,
            0.9979866764718844
           ]
          }
         ]
        },
        {
         "data": [
          {
           "line": {
            "color": "blue",
            "width": 3
           },
           "marker": {
            "color": "blue",
            "size": 5
           },
           "mode": "lines+markers",
           "type": "scatter",
           "x": [
            0,
            1
           ],
           "y": [
            0,
            -2.4492935982947064e-16
           ]
          },
          {
           "line": {
            "color": "orange",
            "width": 3
           },
           "marker": {
            "color": "orange",
            "size": 5
           },
           "mode": "lines+markers",
           "type": "scatter",
           "x": [
            0,
            2.4492935982947064e-16
           ],
           "y": [
            0,
            1
           ]
          }
         ]
        }
       ],
       "layout": {
        "height": 700,
        "plot_bgcolor": "white",
        "showlegend": true,
        "template": {
         "data": {
          "bar": [
           {
            "error_x": {
             "color": "#2a3f5f"
            },
            "error_y": {
             "color": "#2a3f5f"
            },
            "marker": {
             "line": {
              "color": "#E5ECF6",
              "width": 0.5
             },
             "pattern": {
              "fillmode": "overlay",
              "size": 10,
              "solidity": 0.2
             }
            },
            "type": "bar"
           }
          ],
          "barpolar": [
           {
            "marker": {
             "line": {
              "color": "#E5ECF6",
              "width": 0.5
             },
             "pattern": {
              "fillmode": "overlay",
              "size": 10,
              "solidity": 0.2
             }
            },
            "type": "barpolar"
           }
          ],
          "carpet": [
           {
            "aaxis": {
             "endlinecolor": "#2a3f5f",
             "gridcolor": "white",
             "linecolor": "white",
             "minorgridcolor": "white",
             "startlinecolor": "#2a3f5f"
            },
            "baxis": {
             "endlinecolor": "#2a3f5f",
             "gridcolor": "white",
             "linecolor": "white",
             "minorgridcolor": "white",
             "startlinecolor": "#2a3f5f"
            },
            "type": "carpet"
           }
          ],
          "choropleth": [
           {
            "colorbar": {
             "outlinewidth": 0,
             "ticks": ""
            },
            "type": "choropleth"
           }
          ],
          "contour": [
           {
            "colorbar": {
             "outlinewidth": 0,
             "ticks": ""
            },
            "colorscale": [
             [
              0,
              "#0d0887"
             ],
             [
              0.1111111111111111,
              "#46039f"
             ],
             [
              0.2222222222222222,
              "#7201a8"
             ],
             [
              0.3333333333333333,
              "#9c179e"
             ],
             [
              0.4444444444444444,
              "#bd3786"
             ],
             [
              0.5555555555555556,
              "#d8576b"
             ],
             [
              0.6666666666666666,
              "#ed7953"
             ],
             [
              0.7777777777777778,
              "#fb9f3a"
             ],
             [
              0.8888888888888888,
              "#fdca26"
             ],
             [
              1,
              "#f0f921"
             ]
            ],
            "type": "contour"
           }
          ],
          "contourcarpet": [
           {
            "colorbar": {
             "outlinewidth": 0,
             "ticks": ""
            },
            "type": "contourcarpet"
           }
          ],
          "heatmap": [
           {
            "colorbar": {
             "outlinewidth": 0,
             "ticks": ""
            },
            "colorscale": [
             [
              0,
              "#0d0887"
             ],
             [
              0.1111111111111111,
              "#46039f"
             ],
             [
              0.2222222222222222,
              "#7201a8"
             ],
             [
              0.3333333333333333,
              "#9c179e"
             ],
             [
              0.4444444444444444,
              "#bd3786"
             ],
             [
              0.5555555555555556,
              "#d8576b"
             ],
             [
              0.6666666666666666,
              "#ed7953"
             ],
             [
              0.7777777777777778,
              "#fb9f3a"
             ],
             [
              0.8888888888888888,
              "#fdca26"
             ],
             [
              1,
              "#f0f921"
             ]
            ],
            "type": "heatmap"
           }
          ],
          "heatmapgl": [
           {
            "colorbar": {
             "outlinewidth": 0,
             "ticks": ""
            },
            "colorscale": [
             [
              0,
              "#0d0887"
             ],
             [
              0.1111111111111111,
              "#46039f"
             ],
             [
              0.2222222222222222,
              "#7201a8"
             ],
             [
              0.3333333333333333,
              "#9c179e"
             ],
             [
              0.4444444444444444,
              "#bd3786"
             ],
             [
              0.5555555555555556,
              "#d8576b"
             ],
             [
              0.6666666666666666,
              "#ed7953"
             ],
             [
              0.7777777777777778,
              "#fb9f3a"
             ],
             [
              0.8888888888888888,
              "#fdca26"
             ],
             [
              1,
              "#f0f921"
             ]
            ],
            "type": "heatmapgl"
           }
          ],
          "histogram": [
           {
            "marker": {
             "pattern": {
              "fillmode": "overlay",
              "size": 10,
              "solidity": 0.2
             }
            },
            "type": "histogram"
           }
          ],
          "histogram2d": [
           {
            "colorbar": {
             "outlinewidth": 0,
             "ticks": ""
            },
            "colorscale": [
             [
              0,
              "#0d0887"
             ],
             [
              0.1111111111111111,
              "#46039f"
             ],
             [
              0.2222222222222222,
              "#7201a8"
             ],
             [
              0.3333333333333333,
              "#9c179e"
             ],
             [
              0.4444444444444444,
              "#bd3786"
             ],
             [
              0.5555555555555556,
              "#d8576b"
             ],
             [
              0.6666666666666666,
              "#ed7953"
             ],
             [
              0.7777777777777778,
              "#fb9f3a"
             ],
             [
              0.8888888888888888,
              "#fdca26"
             ],
             [
              1,
              "#f0f921"
             ]
            ],
            "type": "histogram2d"
           }
          ],
          "histogram2dcontour": [
           {
            "colorbar": {
             "outlinewidth": 0,
             "ticks": ""
            },
            "colorscale": [
             [
              0,
              "#0d0887"
             ],
             [
              0.1111111111111111,
              "#46039f"
             ],
             [
              0.2222222222222222,
              "#7201a8"
             ],
             [
              0.3333333333333333,
              "#9c179e"
             ],
             [
              0.4444444444444444,
              "#bd3786"
             ],
             [
              0.5555555555555556,
              "#d8576b"
             ],
             [
              0.6666666666666666,
              "#ed7953"
             ],
             [
              0.7777777777777778,
              "#fb9f3a"
             ],
             [
              0.8888888888888888,
              "#fdca26"
             ],
             [
              1,
              "#f0f921"
             ]
            ],
            "type": "histogram2dcontour"
           }
          ],
          "mesh3d": [
           {
            "colorbar": {
             "outlinewidth": 0,
             "ticks": ""
            },
            "type": "mesh3d"
           }
          ],
          "parcoords": [
           {
            "line": {
             "colorbar": {
              "outlinewidth": 0,
              "ticks": ""
             }
            },
            "type": "parcoords"
           }
          ],
          "pie": [
           {
            "automargin": true,
            "type": "pie"
           }
          ],
          "scatter": [
           {
            "fillpattern": {
             "fillmode": "overlay",
             "size": 10,
             "solidity": 0.2
            },
            "type": "scatter"
           }
          ],
          "scatter3d": [
           {
            "line": {
             "colorbar": {
              "outlinewidth": 0,
              "ticks": ""
             }
            },
            "marker": {
             "colorbar": {
              "outlinewidth": 0,
              "ticks": ""
             }
            },
            "type": "scatter3d"
           }
          ],
          "scattercarpet": [
           {
            "marker": {
             "colorbar": {
              "outlinewidth": 0,
              "ticks": ""
             }
            },
            "type": "scattercarpet"
           }
          ],
          "scattergeo": [
           {
            "marker": {
             "colorbar": {
              "outlinewidth": 0,
              "ticks": ""
             }
            },
            "type": "scattergeo"
           }
          ],
          "scattergl": [
           {
            "marker": {
             "colorbar": {
              "outlinewidth": 0,
              "ticks": ""
             }
            },
            "type": "scattergl"
           }
          ],
          "scattermapbox": [
           {
            "marker": {
             "colorbar": {
              "outlinewidth": 0,
              "ticks": ""
             }
            },
            "type": "scattermapbox"
           }
          ],
          "scatterpolar": [
           {
            "marker": {
             "colorbar": {
              "outlinewidth": 0,
              "ticks": ""
             }
            },
            "type": "scatterpolar"
           }
          ],
          "scatterpolargl": [
           {
            "marker": {
             "colorbar": {
              "outlinewidth": 0,
              "ticks": ""
             }
            },
            "type": "scatterpolargl"
           }
          ],
          "scatterternary": [
           {
            "marker": {
             "colorbar": {
              "outlinewidth": 0,
              "ticks": ""
             }
            },
            "type": "scatterternary"
           }
          ],
          "surface": [
           {
            "colorbar": {
             "outlinewidth": 0,
             "ticks": ""
            },
            "colorscale": [
             [
              0,
              "#0d0887"
             ],
             [
              0.1111111111111111,
              "#46039f"
             ],
             [
              0.2222222222222222,
              "#7201a8"
             ],
             [
              0.3333333333333333,
              "#9c179e"
             ],
             [
              0.4444444444444444,
              "#bd3786"
             ],
             [
              0.5555555555555556,
              "#d8576b"
             ],
             [
              0.6666666666666666,
              "#ed7953"
             ],
             [
              0.7777777777777778,
              "#fb9f3a"
             ],
             [
              0.8888888888888888,
              "#fdca26"
             ],
             [
              1,
              "#f0f921"
             ]
            ],
            "type": "surface"
           }
          ],
          "table": [
           {
            "cells": {
             "fill": {
              "color": "#EBF0F8"
             },
             "line": {
              "color": "white"
             }
            },
            "header": {
             "fill": {
              "color": "#C8D4E3"
             },
             "line": {
              "color": "white"
             }
            },
            "type": "table"
           }
          ]
         },
         "layout": {
          "annotationdefaults": {
           "arrowcolor": "#2a3f5f",
           "arrowhead": 0,
           "arrowwidth": 1
          },
          "autotypenumbers": "strict",
          "coloraxis": {
           "colorbar": {
            "outlinewidth": 0,
            "ticks": ""
           }
          },
          "colorscale": {
           "diverging": [
            [
             0,
             "#8e0152"
            ],
            [
             0.1,
             "#c51b7d"
            ],
            [
             0.2,
             "#de77ae"
            ],
            [
             0.3,
             "#f1b6da"
            ],
            [
             0.4,
             "#fde0ef"
            ],
            [
             0.5,
             "#f7f7f7"
            ],
            [
             0.6,
             "#e6f5d0"
            ],
            [
             0.7,
             "#b8e186"
            ],
            [
             0.8,
             "#7fbc41"
            ],
            [
             0.9,
             "#4d9221"
            ],
            [
             1,
             "#276419"
            ]
           ],
           "sequential": [
            [
             0,
             "#0d0887"
            ],
            [
             0.1111111111111111,
             "#46039f"
            ],
            [
             0.2222222222222222,
             "#7201a8"
            ],
            [
             0.3333333333333333,
             "#9c179e"
            ],
            [
             0.4444444444444444,
             "#bd3786"
            ],
            [
             0.5555555555555556,
             "#d8576b"
            ],
            [
             0.6666666666666666,
             "#ed7953"
            ],
            [
             0.7777777777777778,
             "#fb9f3a"
            ],
            [
             0.8888888888888888,
             "#fdca26"
            ],
            [
             1,
             "#f0f921"
            ]
           ],
           "sequentialminus": [
            [
             0,
             "#0d0887"
            ],
            [
             0.1111111111111111,
             "#46039f"
            ],
            [
             0.2222222222222222,
             "#7201a8"
            ],
            [
             0.3333333333333333,
             "#9c179e"
            ],
            [
             0.4444444444444444,
             "#bd3786"
            ],
            [
             0.5555555555555556,
             "#d8576b"
            ],
            [
             0.6666666666666666,
             "#ed7953"
            ],
            [
             0.7777777777777778,
             "#fb9f3a"
            ],
            [
             0.8888888888888888,
             "#fdca26"
            ],
            [
             1,
             "#f0f921"
            ]
           ]
          },
          "colorway": [
           "#636efa",
           "#EF553B",
           "#00cc96",
           "#ab63fa",
           "#FFA15A",
           "#19d3f3",
           "#FF6692",
           "#B6E880",
           "#FF97FF",
           "#FECB52"
          ],
          "font": {
           "color": "#2a3f5f"
          },
          "geo": {
           "bgcolor": "white",
           "lakecolor": "white",
           "landcolor": "#E5ECF6",
           "showlakes": true,
           "showland": true,
           "subunitcolor": "white"
          },
          "hoverlabel": {
           "align": "left"
          },
          "hovermode": "closest",
          "mapbox": {
           "style": "light"
          },
          "paper_bgcolor": "white",
          "plot_bgcolor": "#E5ECF6",
          "polar": {
           "angularaxis": {
            "gridcolor": "white",
            "linecolor": "white",
            "ticks": ""
           },
           "bgcolor": "#E5ECF6",
           "radialaxis": {
            "gridcolor": "white",
            "linecolor": "white",
            "ticks": ""
           }
          },
          "scene": {
           "xaxis": {
            "backgroundcolor": "#E5ECF6",
            "gridcolor": "white",
            "gridwidth": 2,
            "linecolor": "white",
            "showbackground": true,
            "ticks": "",
            "zerolinecolor": "white"
           },
           "yaxis": {
            "backgroundcolor": "#E5ECF6",
            "gridcolor": "white",
            "gridwidth": 2,
            "linecolor": "white",
            "showbackground": true,
            "ticks": "",
            "zerolinecolor": "white"
           },
           "zaxis": {
            "backgroundcolor": "#E5ECF6",
            "gridcolor": "white",
            "gridwidth": 2,
            "linecolor": "white",
            "showbackground": true,
            "ticks": "",
            "zerolinecolor": "white"
           }
          },
          "shapedefaults": {
           "line": {
            "color": "#2a3f5f"
           }
          },
          "ternary": {
           "aaxis": {
            "gridcolor": "white",
            "linecolor": "white",
            "ticks": ""
           },
           "baxis": {
            "gridcolor": "white",
            "linecolor": "white",
            "ticks": ""
           },
           "bgcolor": "#E5ECF6",
           "caxis": {
            "gridcolor": "white",
            "linecolor": "white",
            "ticks": ""
           }
          },
          "title": {
           "x": 0.05
          },
          "xaxis": {
           "automargin": true,
           "gridcolor": "white",
           "linecolor": "white",
           "ticks": "",
           "title": {
            "standoff": 15
           },
           "zerolinecolor": "white",
           "zerolinewidth": 2
          },
          "yaxis": {
           "automargin": true,
           "gridcolor": "white",
           "linecolor": "white",
           "ticks": "",
           "title": {
            "standoff": 15
           },
           "zerolinecolor": "white",
           "zerolinewidth": 2
          }
         }
        },
        "title": {
         "text": "2D 선형 변환 애니메이션 (Plotly)"
        },
        "updatemenus": [
         {
          "buttons": [
           {
            "args": [
             null,
             {
              "frame": {
               "duration": 50,
               "redraw": true
              },
              "fromcurrent": true,
              "mode": "immediate"
             }
            ],
            "label": "Play",
            "method": "animate"
           },
           {
            "args": [
             [
              null
             ],
             {
              "frame": {
               "duration": 0,
               "redraw": false
              },
              "mode": "immediate"
             }
            ],
            "label": "Pause",
            "method": "animate"
           }
          ],
          "showactive": false,
          "type": "buttons"
         }
        ],
        "width": 700,
        "xaxis": {
         "gridcolor": "lightgray",
         "gridwidth": 1,
         "range": [
          -2,
          2
         ],
         "showgrid": true,
         "zeroline": true
        },
        "yaxis": {
         "gridcolor": "lightgray",
         "gridwidth": 1,
         "range": [
          -2,
          2
         ],
         "showgrid": true,
         "zeroline": true
        }
       }
      }
     },
     "metadata": {},
     "output_type": "display_data"
    }
   ],
   "source": [
    "import numpy as np\n",
    "import plotly.graph_objects as go\n",
    "\n",
    "# 원래의 벡터 정의\n",
    "v1 = np.array([1, 0])\n",
    "v2 = np.array([0, 1])\n",
    "\n",
    "# 애니메이션 프레임을 위한 회전 각도 정의\n",
    "theta_values = np.linspace(0, 2 * np.pi, 100)  # 0에서 360도까지 100단계\n",
    "\n",
    "# Plotly 그래프 생성\n",
    "fig = go.Figure()\n",
    "\n",
    "# 모든 프레임을 위한 데이터 설정\n",
    "frames = []\n",
    "for theta in theta_values:\n",
    "    # 회전 행렬 정의\n",
    "    A = np.array([[np.cos(theta), -np.sin(theta)],\n",
    "                  [np.sin(theta),  np.cos(theta)]])\n",
    "    \n",
    "    # 선형 변환 적용\n",
    "    v1_transformed = A @ v1\n",
    "    v2_transformed = A @ v2\n",
    "    \n",
    "    # 각 프레임 추가\n",
    "    frames.append(go.Frame(data=[\n",
    "        go.Scatter(x=[0, v1_transformed[0]], y=[0, v1_transformed[1]], \n",
    "                   mode='lines+markers', marker=dict(size=5, color='blue'), \n",
    "                   line=dict(width=3, color='blue')),\n",
    "        \n",
    "        go.Scatter(x=[0, v2_transformed[0]], y=[0, v2_transformed[1]], \n",
    "                   mode='lines+markers', marker=dict(size=5, color='orange'), \n",
    "                   line=dict(width=3, color='orange'))\n",
    "    ]))\n",
    "\n",
    "# 초기 상태 (원래 벡터들) 설정\n",
    "fig.add_trace(go.Scatter(x=[0, v1[0]], y=[0, v1[1]], \n",
    "                         mode='lines+markers', \n",
    "                         marker=dict(size=5, color='red'), \n",
    "                         line=dict(width=3, color='red'), \n",
    "                         name='v1 (1, 0)'))\n",
    "\n",
    "fig.add_trace(go.Scatter(x=[0, v2[0]], y=[0, v2[1]], \n",
    "                         mode='lines+markers', \n",
    "                         marker=dict(size=5, color='green'), \n",
    "                         line=dict(width=3, color='green'), \n",
    "                         name='v2 (0, 1)'))\n",
    "\n",
    "# 레이아웃 및 애니메이션 설정\n",
    "fig.update_layout(\n",
    "    xaxis=dict(range=[-2, 2], zeroline=True),\n",
    "    yaxis=dict(range=[-2, 2], zeroline=True),\n",
    "    title=\"2D 선형 변환 애니메이션 (Plotly)\",\n",
    "    showlegend=True,\n",
    "    width=700,\n",
    "    height=700,\n",
    "    plot_bgcolor='white',\n",
    "    updatemenus=[dict(type=\"buttons\", showactive=False,\n",
    "                      buttons=[dict(label=\"Play\", method=\"animate\", \n",
    "                                    args=[None, dict(frame=dict(duration=50, redraw=True), \n",
    "                                                     fromcurrent=True, mode='immediate')]),\n",
    "                               dict(label=\"Pause\", method=\"animate\", args=[[None], dict(frame=dict(duration=0, redraw=False), mode='immediate')])])])\n",
    "\n",
    "# 프레임 추가\n",
    "fig.frames = frames\n",
    "\n",
    "# 그리드와 축 설정\n",
    "fig.update_xaxes(showgrid=True, zeroline=True, gridwidth=1, gridcolor='lightgray')\n",
    "fig.update_yaxes(showgrid=True, zeroline=True, gridwidth=1, gridcolor='lightgray')\n",
    "\n",
    "# 그래프 출력\n",
    "fig.show()"
   ]
  },
  {
   "cell_type": "code",
   "execution_count": 6,
   "metadata": {},
   "outputs": [
    {
     "data": {
      "application/vnd.plotly.v1+json": {
       "config": {
        "plotlyServerURL": "https://plot.ly"
       },
       "data": [
        {
         "line": {
          "color": "blue",
          "width": 5
         },
         "marker": {
          "color": "blue",
          "size": 5
         },
         "mode": "lines+markers",
         "name": "v1 (1, 0, 0)",
         "type": "scatter3d",
         "x": [
          0,
          9
         ],
         "y": [
          0,
          1
         ],
         "z": [
          0,
          5
         ]
        },
        {
         "line": {
          "color": "green",
          "width": 5
         },
         "marker": {
          "color": "green",
          "size": 5
         },
         "mode": "lines+markers",
         "name": "v2 (0, 1, 0)",
         "type": "scatter3d",
         "x": [
          0,
          1
         ],
         "y": [
          0,
          4
         ],
         "z": [
          0,
          10
         ]
        },
        {
         "line": {
          "color": "red",
          "width": 5
         },
         "marker": {
          "color": "red",
          "size": 5
         },
         "mode": "lines+markers",
         "name": "v3 (0, 0, 1)",
         "type": "scatter3d",
         "x": [
          0,
          2
         ],
         "y": [
          0,
          7
         ],
         "z": [
          0,
          1
         ]
        }
       ],
       "frames": [
        {
         "data": [
          {
           "line": {
            "color": "blue",
            "width": 5
           },
           "marker": {
            "color": "blue",
            "size": 5
           },
           "mode": "lines+markers",
           "type": "scatter3d",
           "x": [
            0,
            9
           ],
           "y": [
            0,
            1
           ],
           "z": [
            0,
            5
           ]
          },
          {
           "line": {
            "color": "green",
            "width": 5
           },
           "marker": {
            "color": "green",
            "size": 5
           },
           "mode": "lines+markers",
           "type": "scatter3d",
           "x": [
            0,
            1
           ],
           "y": [
            0,
            4
           ],
           "z": [
            0,
            10
           ]
          },
          {
           "line": {
            "color": "red",
            "width": 5
           },
           "marker": {
            "color": "red",
            "size": 5
           },
           "mode": "lines+markers",
           "type": "scatter3d",
           "x": [
            0,
            2
           ],
           "y": [
            0,
            7
           ],
           "z": [
            0,
            1
           ]
          }
         ]
        },
        {
         "data": [
          {
           "line": {
            "color": "blue",
            "width": 5
           },
           "marker": {
            "color": "blue",
            "size": 5
           },
           "mode": "lines+markers",
           "type": "scatter3d",
           "x": [
            0,
            8.918456168590396
           ],
           "y": [
            0,
            1.568801953380965
           ],
           "z": [
            0,
            5
           ]
          },
          {
           "line": {
            "color": "green",
            "width": 5
           },
           "marker": {
            "color": "green",
            "size": 5
           },
           "mode": "lines+markers",
           "type": "scatter3d",
           "x": [
            0,
            0.7442909978456265
           ],
           "y": [
            0,
            4.055370625544103
           ],
           "z": [
            0,
            10
           ]
          },
          {
           "line": {
            "color": "red",
            "width": 5
           },
           "marker": {
            "color": "red",
            "size": 5
           },
           "mode": "lines+markers",
           "type": "scatter3d",
           "x": [
            0,
            1.5520059153478174
           ],
           "y": [
            0,
            7.11275457461632
           ],
           "z": [
            0,
            1
           ]
          }
         ]
        },
        {
         "data": [
          {
           "line": {
            "color": "blue",
            "width": 5
           },
           "marker": {
            "color": "blue",
            "size": 5
           },
           "mode": "lines+markers",
           "type": "scatter3d",
           "x": [
            0,
            8.801000861903407
           ],
           "y": [
            0,
            2.1312868949945387
           ],
           "z": [
            0,
            5
           ]
          },
          {
           "line": {
            "color": "green",
            "width": 5
           },
           "marker": {
            "color": "green",
            "size": 5
           },
           "mode": "lines+markers",
           "type": "scatter3d",
           "x": [
            0,
            0.4855849985357983
           ],
           "y": [
            0,
            4.094411704896931
           ],
           "z": [
            0,
            10
           ]
          },
          {
           "line": {
            "color": "red",
            "width": 5
           },
           "marker": {
            "color": "red",
            "size": 5
           },
           "mode": "lines+markers",
           "type": "scatter3d",
           "x": [
            0,
            1.0977624506453458
           ],
           "y": [
            0,
            7.196868596963066
           ],
           "z": [
            0,
            1
           ]
          }
         ]
        },
        {
         "data": [
          {
           "line": {
            "color": "blue",
            "width": 5
           },
           "marker": {
            "color": "blue",
            "size": 5
           },
           "mode": "lines+markers",
           "type": "scatter3d",
           "x": [
            0,
            8.648107031003951
           ],
           "y": [
            0,
            2.6851898965063987
           ],
           "z": [
            0,
            5
           ]
          },
          {
           "line": {
            "color": "green",
            "width": 5
           },
           "marker": {
            "color": "green",
            "size": 5
           },
           "mode": "lines+markers",
           "type": "scatter3d",
           "x": [
            0,
            0.22492371982106585
           ],
           "y": [
            0,
            4.116966033411237
           ],
           "z": [
            0,
            10
           ]
          },
          {
           "line": {
            "color": "red",
            "width": 5
           },
           "marker": {
            "color": "red",
            "size": 5
           },
           "mode": "lines+markers",
           "type": "scatter3d",
           "x": [
            0,
            0.6390986840025419
           ],
           "y": [
            0,
            7.252003369559767
           ],
           "z": [
            0,
            1
           ]
          }
         ]
        },
        {
         "data": [
          {
           "line": {
            "color": "blue",
            "width": 5
           },
           "marker": {
            "color": "blue",
            "size": 5
           },
           "mode": "lines+markers",
           "type": "scatter3d",
           "x": [
            0,
            8.460390325386127
           ],
           "y": [
            0,
            3.2282805860260693
           ],
           "z": [
            0,
            5
           ]
          },
          {
           "line": {
            "color": "green",
            "width": 5
           },
           "marker": {
            "color": "green",
            "size": 5
           },
           "mode": "lines+markers",
           "type": "scatter3d",
           "x": [
            0,
            -0.03664324732796065
           ],
           "y": [
            0,
            4.122942792766504
           ],
           "z": [
            0,
            10
           ]
          },
          {
           "line": {
            "color": "red",
            "width": 5
           },
           "marker": {
            "color": "red",
            "size": 5
           },
           "mode": "lines+markers",
           "type": "scatter3d",
           "x": [
            0,
            0.17786149252515782
           ],
           "y": [
            0,
            7.277936884136652
           ],
           "z": [
            0,
            1
           ]
          }
         ]
        },
        {
         "data": [
          {
           "line": {
            "color": "blue",
            "width": 5
           },
           "marker": {
            "color": "blue",
            "size": 5
           },
           "mode": "lines+markers",
           "type": "scatter3d",
           "x": [
            0,
            8.238606613970022
           ],
           "y": [
            0,
            3.7583721290273293
           ],
           "z": [
            0,
            5
           ]
          },
          {
           "line": {
            "color": "green",
            "width": 5
           },
           "marker": {
            "color": "green",
            "size": 5
           },
           "mode": "lines+markers",
           "type": "scatter3d",
           "x": [
            0,
            -0.29806266505300305
           ],
           "y": [
            0,
            4.112317916662269
           ],
           "z": [
            0,
            10
           ]
          },
          {
           "line": {
            "color": "red",
            "width": 5
           },
           "marker": {
            "color": "red",
            "size": 5
           },
           "mode": "lines+markers",
           "type": "scatter3d",
           "x": [
            0,
            -0.2840918844075191
           ],
           "y": [
            0,
            7.274564715583592
           ],
           "z": [
            0,
            1
           ]
          }
         ]
        },
        {
         "data": [
          {
           "line": {
            "color": "blue",
            "width": 5
           },
           "marker": {
            "color": "blue",
            "size": 5
           },
           "mode": "lines+markers",
           "type": "scatter3d",
           "x": [
            0,
            7.983648941484326
           ],
           "y": [
            0,
            4.27333003395902
           ],
           "z": [
            0,
            5
           ]
          },
          {
           "line": {
            "color": "green",
            "width": 5
           },
           "marker": {
            "color": "green",
            "size": 5
           },
           "mode": "lines+markers",
           "type": "scatter3d",
           "x": [
            0,
            -0.5582818896252377
           ],
           "y": [
            0,
            4.085134187724618
           ],
           "z": [
            0,
            10
           ]
          },
          {
           "line": {
            "color": "red",
            "width": 5
           },
           "marker": {
            "color": "red",
            "size": 5
           },
           "mode": "lines+markers",
           "type": "scatter3d",
           "x": [
            0,
            -0.744901323590148
           ],
           "y": [
            0,
            7.241900442433162
           ],
           "z": [
            0,
            1
           ]
          }
         ]
        },
        {
         "data": [
          {
           "line": {
            "color": "blue",
            "width": 5
           },
           "marker": {
            "color": "blue",
            "size": 5
           },
           "mode": "lines+markers",
           "type": "scatter3d",
           "x": [
            0,
            7.696543932490419
           ],
           "y": [
            0,
            4.771080747089166
           ],
           "z": [
            0,
            5
           ]
          },
          {
           "line": {
            "color": "green",
            "width": 5
           },
           "marker": {
            "color": "green",
            "size": 5
           },
           "mode": "lines+markers",
           "type": "scatter3d",
           "x": [
            0,
            -0.8162531100700654
           ],
           "y": [
            0,
            4.041501065235656
           ],
           "z": [
            0,
            10
           ]
          },
          {
           "line": {
            "color": "red",
            "width": 5
           },
           "marker": {
            "color": "red",
            "size": 5
           },
           "mode": "lines+markers",
           "type": "scatter3d",
           "x": [
            0,
            -1.2027113080509593
           ],
           "y": [
            0,
            7.180075592184691
           ],
           "z": [
            0,
            1
           ]
          }
         ]
        },
        {
         "data": [
          {
           "line": {
            "color": "blue",
            "width": 5
           },
           "marker": {
            "color": "blue",
            "size": 5
           },
           "mode": "lines+markers",
           "type": "scatter3d",
           "x": [
            0,
            7.3784476575275955
           ],
           "y": [
            0,
            5.249620001974003
           ],
           "z": [
            0,
            5
           ]
          },
          {
           "line": {
            "color": "green",
            "width": 5
           },
           "marker": {
            "color": "green",
            "size": 5
           },
           "mode": "lines+markers",
           "type": "scatter3d",
           "x": [
            0,
            -1.07093756733209
           ],
           "y": [
            0,
            3.9815942443796084
           ],
           "z": [
            0,
            10
           ]
          },
          {
           "line": {
            "color": "red",
            "width": 5
           },
           "marker": {
            "color": "red",
            "size": 5
           },
           "mode": "lines+markers",
           "type": "scatter3d",
           "x": [
            0,
            -1.6556783985637111
           ],
           "y": [
            0,
            7.089339111689432
           ],
           "z": [
            0,
            1
           ]
          }
         ]
        },
        {
         "data": [
          {
           "line": {
            "color": "blue",
            "width": 5
           },
           "marker": {
            "color": "blue",
            "size": 5
           },
           "mode": "lines+markers",
           "type": "scatter3d",
           "x": [
            0,
            7.030640978025033
           ],
           "y": [
            0,
            5.707020889931559
           ],
           "z": [
            0,
            5
           ]
          },
          {
           "line": {
            "color": "green",
            "width": 5
           },
           "marker": {
            "color": "green",
            "size": 5
           },
           "mode": "lines+markers",
           "type": "scatter3d",
           "x": [
            0,
            -1.321309736991209
           ],
           "y": [
            0,
            3.9056549487803225
           ],
           "z": [
            0,
            10
           ]
          },
          {
           "line": {
            "color": "red",
            "width": 5
           },
           "marker": {
            "color": "red",
            "size": 5
           },
           "mode": "lines+markers",
           "type": "scatter3d",
           "x": [
            0,
            -2.1019786565268204
           ],
           "y": [
            0,
            6.970056364729464
           ],
           "z": [
            0,
            1
           ]
          }
         ]
        },
        {
         "data": [
          {
           "line": {
            "color": "blue",
            "width": 5
           },
           "marker": {
            "color": "blue",
            "size": 5
           },
           "mode": "lines+markers",
           "type": "scatter3d",
           "x": [
            0,
            6.654524388724887
           ],
           "y": [
            0,
            6.141441619022823
           ],
           "z": [
            0,
            5
           ]
          },
          {
           "line": {
            "color": "green",
            "width": 5
           },
           "marker": {
            "color": "green",
            "size": 5
           },
           "mode": "lines+markers",
           "type": "scatter3d",
           "x": [
            0,
            -1.566361458687503
           ],
           "y": [
            0,
            3.813988959178875
           ],
           "z": [
            0,
            10
           ]
          },
          {
           "line": {
            "color": "red",
            "width": 5
           },
           "marker": {
            "color": "red",
            "size": 5
           },
           "mode": "lines+markers",
           "type": "scatter3d",
           "x": [
            0,
            -2.5398149883203653
           ],
           "y": [
            0,
            6.822707660826691
           ],
           "z": [
            0,
            1
           ]
          }
         ]
        },
        {
         "data": [
          {
           "line": {
            "color": "blue",
            "width": 5
           },
           "marker": {
            "color": "blue",
            "size": 5
           },
           "mode": "lines+markers",
           "type": "scatter3d",
           "x": [
            0,
            6.251612378384262
           ],
           "y": [
            0,
            6.551132930297832
           ],
           "z": [
            0,
            5
           ]
          },
          {
           "line": {
            "color": "green",
            "width": 5
           },
           "marker": {
            "color": "green",
            "size": 5
           },
           "mode": "lines+markers",
           "type": "scatter3d",
           "x": [
            0,
            -1.805105995627179
           ],
           "y": [
            0,
            3.7069653821624513
           ],
           "z": [
            0,
            10
           ]
          },
          {
           "line": {
            "color": "red",
            "width": 5
           },
           "marker": {
            "color": "red",
            "size": 5
           },
           "mode": "lines+markers",
           "type": "scatter3d",
           "x": [
            0,
            -2.9674243815678185
           ],
           "y": [
            0,
            6.647886321205925
           ],
           "z": [
            0,
            1
           ]
          }
         ]
        },
        {
         "data": [
          {
           "line": {
            "color": "blue",
            "width": 5
           },
           "marker": {
            "color": "blue",
            "size": 5
           },
           "mode": "lines+markers",
           "type": "scatter3d",
           "x": [
            0,
            5.82352733146352
           ],
           "y": [
            0,
            6.934445141444079
           ],
           "z": [
            0,
            5
           ]
          },
          {
           "line": {
            "color": "green",
            "width": 5
           },
           "marker": {
            "color": "green",
            "size": 5
           },
           "mode": "lines+markers",
           "type": "scatter3d",
           "x": [
            0,
            -2.036582007823378
           ],
           "y": [
            0,
            3.585015163902393
           ],
           "z": [
            0,
            10
           ]
          },
          {
           "line": {
            "color": "red",
            "width": 5
           },
           "marker": {
            "color": "red",
            "size": 5
           },
           "mode": "lines+markers",
           "type": "scatter3d",
           "x": [
            0,
            -3.383085004164644
           ],
           "y": [
            0,
            6.446296289699715
           ],
           "z": [
            0,
            1
           ]
          }
         ]
        },
        {
         "data": [
          {
           "line": {
            "color": "blue",
            "width": 5
           },
           "marker": {
            "color": "blue",
            "size": 5
           },
           "mode": "lines+markers",
           "type": "scatter3d",
           "x": [
            0,
            5.371992995356656
           ],
           "y": [
            0,
            7.2898347894749325
           ],
           "z": [
            0,
            5
           ]
          },
          {
           "line": {
            "color": "green",
            "width": 5
           },
           "marker": {
            "color": "green",
            "size": 5
           },
           "mode": "lines+markers",
           "type": "scatter3d",
           "x": [
            0,
            -2.259857423073001
           ],
           "y": [
            0,
            3.4486293548860623
           ],
           "z": [
            0,
            10
           ]
          },
          {
           "line": {
            "color": "red",
            "width": 5
           },
           "marker": {
            "color": "red",
            "size": 5
           },
           "mode": "lines+markers",
           "type": "scatter3d",
           "x": [
            0,
            -3.7851231374884686
           ],
           "y": [
            0,
            6.218749298214991
           ],
           "z": [
            0,
            1
           ]
          }
         ]
        },
        {
         "data": [
          {
           "line": {
            "color": "blue",
            "width": 5
           },
           "marker": {
            "color": "blue",
            "size": 5
           },
           "mode": "lines+markers",
           "type": "scatter3d",
           "x": [
            0,
            4.898827539468946
           ],
           "y": [
            0,
            7.615870845710334
           ],
           "z": [
            0,
            5
           ]
          },
          {
           "line": {
            "color": "green",
            "width": 5
           },
           "marker": {
            "color": "green",
            "size": 5
           },
           "mode": "lines+markers",
           "type": "scatter3d",
           "x": [
            0,
            -2.4740331900825048
           ],
           "y": [
            0,
            3.298357132629847
           ],
           "z": [
            0,
            10
           ]
          },
          {
           "line": {
            "color": "red",
            "width": 5
           },
           "marker": {
            "color": "red",
            "size": 5
           },
           "mode": "lines+markers",
           "type": "scatter3d",
           "x": [
            0,
            -4.171919915873253
           ],
           "y": [
            0,
            5.966161598175171
           ],
           "z": [
            0,
            1
           ]
          }
         ]
        },
        {
         "data": [
          {
           "line": {
            "color": "blue",
            "width": 5
           },
           "marker": {
            "color": "blue",
            "size": 5
           },
           "mode": "lines+markers",
           "type": "scatter3d",
           "x": [
            0,
            4.405936234090447
           ],
           "y": [
            0,
            7.91124047802422
           ],
           "z": [
            0,
            5
           ]
          },
          {
           "line": {
            "color": "green",
            "width": 5
           },
           "marker": {
            "color": "green",
            "size": 5
           },
           "mode": "lines+markers",
           "type": "scatter3d",
           "x": [
            0,
            -2.6782468986301446
           ],
           "y": [
            0,
            3.134803590335128
           ],
           "z": [
            0,
            10
           ]
          },
          {
           "line": {
            "color": "red",
            "width": 5
           },
           "marker": {
            "color": "red",
            "size": 5
           },
           "mode": "lines+markers",
           "type": "scatter3d",
           "x": [
            0,
            -4.541917845209953
           ],
           "y": [
            0,
            5.689550271099058
           ],
           "z": [
            0,
            1
           ]
          }
         ]
        },
        {
         "data": [
          {
           "line": {
            "color": "blue",
            "width": 5
           },
           "marker": {
            "color": "blue",
            "size": 5
           },
           "mode": "lines+markers",
           "type": "scatter3d",
           "x": [
            0,
            3.8953037785450073
           ],
           "y": [
            0,
            8.174754337156132
           ],
           "z": [
            0,
            5
           ]
          },
          {
           "line": {
            "color": "green",
            "width": 5
           },
           "marker": {
            "color": "green",
            "size": 5
           },
           "mode": "lines+markers",
           "type": "scatter3d",
           "x": [
            0,
            -2.871676252187555
           ],
           "y": [
            0,
            2.958627300391524
           ],
           "z": [
            0,
            10
           ]
          },
          {
           "line": {
            "color": "red",
            "width": 5
           },
           "marker": {
            "color": "red",
            "size": 5
           },
           "mode": "lines+markers",
           "type": "scatter3d",
           "x": [
            0,
            -4.893627074425596
           ],
           "y": [
            0,
            5.390029133172545
           ],
           "z": [
            0,
            1
           ]
          }
         ]
        },
        {
         "data": [
          {
           "line": {
            "color": "blue",
            "width": 5
           },
           "marker": {
            "color": "blue",
            "size": 5
           },
           "mode": "lines+markers",
           "type": "scatter3d",
           "x": [
            0,
            3.368986309506562
           ],
           "y": [
            0,
            8.405351345800922
           ],
           "z": [
            0,
            5
           ]
          },
          {
           "line": {
            "color": "green",
            "width": 5
           },
           "marker": {
            "color": "green",
            "size": 5
           },
           "mode": "lines+markers",
           "type": "scatter3d",
           "x": [
            0,
            -3.0535423790176455
           ],
           "y": [
            0,
            2.770537662538313
           ],
           "z": [
            0,
            10
           ]
          },
          {
           "line": {
            "color": "red",
            "width": 5
           },
           "marker": {
            "color": "red",
            "size": 5
           },
           "mode": "lines+markers",
           "type": "scatter3d",
           "x": [
            0,
            -5.225631394587709
           ],
           "y": [
            0,
            5.068804250303943
           ],
           "z": [
            0,
            1
           ]
          }
         ]
        },
        {
         "data": [
          {
           "line": {
            "color": "blue",
            "width": 5
           },
           "marker": {
            "color": "blue",
            "size": 5
           },
           "mode": "lines+markers",
           "type": "scatter3d",
           "x": [
            0,
            2.8291031216624596
           ],
           "y": [
            0,
            8.602102971192553
           ],
           "z": [
            0,
            5
           ]
          },
          {
           "line": {
            "color": "green",
            "width": 5
           },
           "marker": {
            "color": "green",
            "size": 5
           },
           "mode": "lines+markers",
           "type": "scatter3d",
           "x": [
            0,
            -3.2231129684161868
           ],
           "y": [
            0,
            2.571292047362064
           ],
           "z": [
            0,
            10
           ]
          },
          {
           "line": {
            "color": "red",
            "width": 5
           },
           "marker": {
            "color": "red",
            "size": 5
           },
           "mode": "lines+markers",
           "type": "scatter3d",
           "x": [
            0,
            -5.5365939414778556
           ],
           "y": [
            0,
            4.727169081722241
           ],
           "z": [
            0,
            1
           ]
          }
         ]
        },
        {
         "data": [
          {
           "line": {
            "color": "blue",
            "width": 5
           },
           "marker": {
            "color": "blue",
            "size": 5
           },
           "mode": "lines+markers",
           "type": "scatter3d",
           "x": [
            0,
            2.2778281340617403
           ],
           "y": [
            0,
            8.764216963977832
           ],
           "z": [
            0,
            5
           ]
          },
          {
           "line": {
            "color": "green",
            "width": 5
           },
           "marker": {
            "color": "green",
            "size": 5
           },
           "mode": "lines+markers",
           "type": "scatter3d",
           "x": [
            0,
            -3.379705219468555
           ],
           "y": [
            0,
            2.361692746632594
           ],
           "z": [
            0,
            10
           ]
          },
          {
           "line": {
            "color": "red",
            "width": 5
           },
           "marker": {
            "color": "red",
            "size": 5
           },
           "mode": "lines+markers",
           "type": "scatter3d",
           "x": [
            0,
            -5.825262578672003
           ],
           "y": [
            0,
            4.366499271673317
           ],
           "z": [
            0,
            1
           ]
          }
         ]
        },
        {
         "data": [
          {
           "line": {
            "color": "blue",
            "width": 5
           },
           "marker": {
            "color": "blue",
            "size": 5
           },
           "mode": "lines+markers",
           "type": "scatter3d",
           "x": [
            0,
            1.7173811365104004
           ],
           "y": [
            0,
            8.89104054832494
           ],
           "z": [
            0,
            5
           ]
          },
          {
           "line": {
            "color": "green",
            "width": 5
           },
           "marker": {
            "color": "green",
            "size": 5
           },
           "mode": "lines+markers",
           "type": "scatter3d",
           "x": [
            0,
            -3.5226885904480207
           ],
           "y": [
            0,
            2.1425837427571737
           ],
           "z": [
            0,
            10
           ]
          },
          {
           "line": {
            "color": "red",
            "width": 5
           },
           "marker": {
            "color": "red",
            "size": 5
           },
           "mode": "lines+markers",
           "type": "scatter3d",
           "x": [
            0,
            -6.090474939451967
           ],
           "y": [
            0,
            3.988247110186072
           ],
           "z": [
            0,
            1
           ]
          }
         ]
        },
        {
         "data": [
          {
           "line": {
            "color": "blue",
            "width": 5
           },
           "marker": {
            "color": "blue",
            "size": 5
           },
           "mode": "lines+markers",
           "type": "scatter3d",
           "x": [
            0,
            1.1500188512613039
           ],
           "y": [
            0,
            8.982063050421301
           ],
           "z": [
            0,
            5
           ]
          },
          {
           "line": {
            "color": "green",
            "width": 5
           },
           "marker": {
            "color": "green",
            "size": 5
           },
           "mode": "lines+markers",
           "type": "scatter3d",
           "x": [
            0,
            -3.651487337784739
           ],
           "y": [
            0,
            1.9148473103612509
           ],
           "z": [
            0,
            10
           ]
          },
          {
           "line": {
            "color": "red",
            "width": 5
           },
           "marker": {
            "color": "red",
            "size": 5
           },
           "mode": "lines+markers",
           "type": "scatter3d",
           "x": [
            0,
            -6.331163107245937
           ],
           "y": [
            0,
            3.593935685213074
           ],
           "z": [
            0,
            1
           ]
          }
         ]
        },
        {
         "data": [
          {
           "line": {
            "color": "blue",
            "width": 5
           },
           "marker": {
            "color": "blue",
            "size": 5
           },
           "mode": "lines+markers",
           "type": "scatter3d",
           "x": [
            0,
            0.5780258459901658
           ],
           "y": [
            0,
            9.036917954776802
           ],
           "z": [
            0,
            5
           ]
          },
          {
           "line": {
            "color": "green",
            "width": 5
           },
           "marker": {
            "color": "green",
            "size": 5
           },
           "mode": "lines+markers",
           "type": "scatter3d",
           "x": [
            0,
            -3.7655828343819016
           ],
           "y": [
            0,
            1.6794004636799298
           ],
           "z": [
            0,
            10
           ]
          },
          {
           "line": {
            "color": "red",
            "width": 5
           },
           "marker": {
            "color": "red",
            "size": 5
           },
           "mode": "lines+markers",
           "type": "scatter3d",
           "x": [
            0,
            -6.546357915751595
           ],
           "y": [
            0,
            3.1851527496929286
           ],
           "z": [
            0,
            1
           ]
          }
         ]
        },
        {
         "data": [
          {
           "line": {
            "color": "blue",
            "width": 5
           },
           "marker": {
            "color": "blue",
            "size": 5
           },
           "mode": "lines+markers",
           "type": "scatter3d",
           "x": [
            0,
            0.003705334647845726
           ],
           "y": [
            0,
            9.055384380052297
           ],
           "z": [
            0,
            5
           ]
          },
          {
           "line": {
            "color": "green",
            "width": 5
           },
           "marker": {
            "color": "green",
            "size": 5
           },
           "mode": "lines+markers",
           "type": "scatter3d",
           "x": [
            0,
            -3.8645156579440054
           ],
           "y": [
            0,
            1.4371912640652984
           ],
           "z": [
            0,
            10
           ]
          },
          {
           "line": {
            "color": "red",
            "width": 5
           },
           "marker": {
            "color": "red",
            "size": 5
           },
           "mode": "lines+markers",
           "type": "scatter3d",
           "x": [
            0,
            -6.735192851426757
           ],
           "y": [
            0,
            2.763544328229586
           ],
           "z": [
            0,
            1
           ]
          }
         ]
        },
        {
         "data": [
          {
           "line": {
            "color": "blue",
            "width": 5
           },
           "marker": {
            "color": "blue",
            "size": 5
           },
           "mode": "lines+markers",
           "type": "scatter3d",
           "x": [
            0,
            -0.5706300967693283
           ],
           "y": [
            0,
            9.037387968470814
           ],
           "z": [
            0,
            5
           ]
          },
          {
           "line": {
            "color": "green",
            "width": 5
           },
           "marker": {
            "color": "green",
            "size": 5
           },
           "mode": "lines+markers",
           "type": "scatter3d",
           "x": [
            0,
            -3.9478874409082896
           ],
           "y": [
            0,
            1.1891950024779767
           ],
           "z": [
            0,
            10
           ]
          },
          {
           "line": {
            "color": "red",
            "width": 5
           },
           "marker": {
            "color": "red",
            "size": 5
           },
           "mode": "lines+markers",
           "type": "scatter3d",
           "x": [
            0,
            -6.8969075426335715
           ],
           "y": [
            0,
            2.330808089132211
           ],
           "z": [
            0,
            1
           ]
          }
         ]
        },
        {
         "data": [
          {
           "line": {
            "color": "blue",
            "width": 5
           },
           "marker": {
            "color": "blue",
            "size": 5
           },
           "mode": "lines+markers",
           "type": "scatter3d",
           "x": [
            0,
            -1.1426678021871473
           ],
           "y": [
            0,
            8.983001185230068
           ],
           "z": [
            0,
            5
           ]
          },
          {
           "line": {
            "color": "green",
            "width": 5
           },
           "marker": {
            "color": "green",
            "size": 5
           },
           "mode": "lines+markers",
           "type": "scatter3d",
           "x": [
            0,
            -4.015362474530308
           ],
           "y": [
            0,
            0.9364102723346429
           ],
           "z": [
            0,
            10
           ]
          },
          {
           "line": {
            "color": "red",
            "width": 5
           },
           "marker": {
            "color": "red",
            "size": 5
           },
           "mode": "lines+markers",
           "type": "scatter3d",
           "x": [
            0,
            -7.030850821386742
           ],
           "y": [
            0,
            1.888686508504094
           ],
           "z": [
            0,
            1
           ]
          }
         ]
        },
        {
         "data": [
          {
           "line": {
            "color": "blue",
            "width": 5
           },
           "marker": {
            "color": "blue",
            "size": 5
           },
           "mode": "lines+markers",
           "type": "scatter3d",
           "x": [
            0,
            -1.7101043876630393
           ],
           "y": [
            0,
            8.892443026710692
           ],
           "z": [
            0,
            5
           ]
          },
          {
           "line": {
            "color": "green",
            "width": 5
           },
           "marker": {
            "color": "green",
            "size": 5
           },
           "mode": "lines+markers",
           "type": "scatter3d",
           "x": [
            0,
            -4.066669060664558
           ],
           "y": [
            0,
            0.6798549485247882
           ],
           "z": [
            0,
            10
           ]
          },
          {
           "line": {
            "color": "red",
            "width": 5
           },
           "marker": {
            "color": "red",
            "size": 5
           },
           "mode": "lines+markers",
           "type": "scatter3d",
           "x": [
            0,
            -7.136483345377173
           ],
           "y": [
            0,
            1.438959853906365
           ],
           "z": [
            0,
            1
           ]
          }
         ]
        },
        {
         "data": [
          {
           "line": {
            "color": "blue",
            "width": 5
           },
           "marker": {
            "color": "blue",
            "size": 5
           },
           "mode": "lines+markers",
           "type": "scatter3d",
           "x": [
            0,
            -2.2706549863405
           ],
           "y": [
            0,
            8.766078138655109
           ],
           "z": [
            0,
            5
           ]
          },
          {
           "line": {
            "color": "green",
            "width": 5
           },
           "marker": {
            "color": "green",
            "size": 5
           },
           "mode": "lines+markers",
           "type": "scatter3d",
           "x": [
            0,
            -4.101600605797016
           ],
           "y": [
            0,
            0.4205620887877918
           ],
           "z": [
            0,
            10
           ]
          },
          {
           "line": {
            "color": "red",
            "width": 5
           },
           "marker": {
            "color": "red",
            "size": 5
           },
           "mode": "lines+markers",
           "type": "scatter3d",
           "x": [
            0,
            -7.213379769713099
           ],
           "y": [
            0,
            0.9834390158488688
           ],
           "z": [
            0,
            1
           ]
          }
         ]
        },
        {
         "data": [
          {
           "line": {
            "color": "blue",
            "width": 5
           },
           "marker": {
            "color": "blue",
            "size": 5
           },
           "mode": "lines+markers",
           "type": "scatter3d",
           "x": [
            0,
            -2.8220624588014953
           ],
           "y": [
            0,
            8.604415347867818
           ],
           "z": [
            0,
            5
           ]
          },
          {
           "line": {
            "color": "green",
            "width": 5
           },
           "marker": {
            "color": "green",
            "size": 5
           },
           "mode": "lines+markers",
           "type": "scatter3d",
           "x": [
            0,
            -4.120016452924306
           ],
           "y": [
            0,
            0.1595757739540158
           ],
           "z": [
            0,
            10
           ]
          },
          {
           "line": {
            "color": "red",
            "width": 5
           },
           "marker": {
            "color": "red",
            "size": 5
           },
           "mode": "lines+markers",
           "type": "scatter3d",
           "x": [
            0,
            -7.261230459633833
           ],
           "y": [
            0,
            0.5239582159732223
           ],
           "z": [
            0,
            1
           ]
          }
         ]
        },
        {
         "data": [
          {
           "line": {
            "color": "blue",
            "width": 5
           },
           "marker": {
            "color": "blue",
            "size": 5
           },
           "mode": "lines+markers",
           "type": "scatter3d",
           "x": [
            0,
            -3.3621064817702573
           ],
           "y": [
            0,
            8.408105613349443
           ],
           "z": [
            0,
            5
           ]
          },
          {
           "line": {
            "color": "green",
            "width": 5
           },
           "marker": {
            "color": "green",
            "size": 5
           },
           "mode": "lines+markers",
           "type": "scatter3d",
           "x": [
            0,
            -4.1218424479298035
           ],
           "y": [
            0,
            -0.10205309620019809
           ],
           "z": [
            0,
            10
           ]
          },
          {
           "line": {
            "color": "red",
            "width": 5
           },
           "marker": {
            "color": "red",
            "size": 5
           },
           "mode": "lines+markers",
           "type": "scatter3d",
           "x": [
            0,
            -7.279842737299664
           ],
           "y": [
            0,
            0.06236762128963891
           ],
           "z": [
            0,
            1
           ]
          }
         ]
        },
        {
         "data": [
          {
           "line": {
            "color": "blue",
            "width": 5
           },
           "marker": {
            "color": "blue",
            "size": 5
           },
           "mode": "lines+markers",
           "type": "scatter3d",
           "x": [
            0,
            -3.8886124885714635
           ],
           "y": [
            0,
            8.177939405114595
           ],
           "z": [
            0,
            5
           ]
          },
          {
           "line": {
            "color": "green",
            "width": 5
           },
           "marker": {
            "color": "green",
            "size": 5
           },
           "mode": "lines+markers",
           "type": "scatter3d",
           "x": [
            0,
            -4.107071238176095
           ],
           "y": [
            0,
            -0.3632710345550182
           ],
           "z": [
            0,
            10
           ]
          },
          {
           "line": {
            "color": "red",
            "width": 5
           },
           "marker": {
            "color": "red",
            "size": 5
           },
           "mode": "lines+markers",
           "type": "scatter3d",
           "x": [
            0,
            -7.2691416576375225
           ],
           "y": [
            0,
            -0.39947410579261455
           ],
           "z": [
            0,
            1
           ]
          }
         ]
        },
        {
         "data": [
          {
           "line": {
            "color": "blue",
            "width": 5
           },
           "marker": {
            "color": "blue",
            "size": 5
           },
           "mode": "lines+markers",
           "type": "scatter3d",
           "x": [
            0,
            -4.399460425342739
           ],
           "y": [
            0,
            7.9148435212481045
           ],
           "z": [
            0,
            5
           ]
          },
          {
           "line": {
            "color": "green",
            "width": 5
           },
           "marker": {
            "color": "green",
            "size": 5
           },
           "mode": "lines+markers",
           "type": "scatter3d",
           "x": [
            0,
            -4.075762302111454
           ],
           "y": [
            0,
            -0.6230262086679333
           ],
           "z": [
            0,
            10
           ]
          },
          {
           "line": {
            "color": "red",
            "width": 5
           },
           "marker": {
            "color": "red",
            "size": 5
           },
           "mode": "lines+markers",
           "type": "scatter3d",
           "x": [
            0,
            -7.229170310118327
           ],
           "y": [
            0,
            -0.859707291642738
           ],
           "z": [
            0,
            1
           ]
          }
         ]
        },
        {
         "data": [
          {
           "line": {
            "color": "blue",
            "width": 5
           },
           "marker": {
            "color": "blue",
            "size": 5
           },
           "mode": "lines+markers",
           "type": "scatter3d",
           "x": [
            0,
            -4.892593287743303
           ],
           "y": [
            0,
            7.619877356016249
           ],
           "z": [
            0,
            5
           ]
          },
          {
           "line": {
            "color": "green",
            "width": 5
           },
           "marker": {
            "color": "green",
            "size": 5
           },
           "mode": "lines+markers",
           "type": "scatter3d",
           "x": [
            0,
            -4.028041709771117
           ],
           "y": [
            0,
            -0.8802726761317606
           ],
           "z": [
            0,
            10
           ]
          },
          {
           "line": {
            "color": "red",
            "width": 5
           },
           "marker": {
            "color": "red",
            "size": 5
           },
           "mode": "lines+markers",
           "type": "scatter3d",
           "x": [
            0,
            -7.160089645250899
           ],
           "y": [
            0,
            -1.3164787396577473
           ],
           "z": [
            0,
            1
           ]
          }
         ]
        },
        {
         "data": [
          {
           "line": {
            "color": "blue",
            "width": 5
           },
           "marker": {
            "color": "blue",
            "size": 5
           },
           "mode": "lines+markers",
           "type": "scatter3d",
           "x": [
            0,
            -5.36602540378444
           ],
           "y": [
            0,
            7.294228634059947
           ],
           "z": [
            0,
            5
           ]
          },
          {
           "line": {
            "color": "green",
            "width": 5
           },
           "marker": {
            "color": "green",
            "size": 5
           },
           "mode": "lines+markers",
           "type": "scatter3d",
           "x": [
            0,
            -3.9641016151377544
           ],
           "y": [
            0,
            -1.1339745962155623
           ],
           "z": [
            0,
            10
           ]
          },
          {
           "line": {
            "color": "red",
            "width": 5
           },
           "marker": {
            "color": "red",
            "size": 5
           },
           "mode": "lines+markers",
           "type": "scatter3d",
           "x": [
            0,
            -7.062177826491071
           ],
           "y": [
            0,
            -1.7679491924311246
           ],
           "z": [
            0,
            1
           ]
          }
         ]
        },
        {
         "data": [
          {
           "line": {
            "color": "blue",
            "width": 5
           },
           "marker": {
            "color": "blue",
            "size": 5
           },
           "mode": "lines+markers",
           "type": "scatter3d",
           "x": [
            0,
            -5.817850429429764
           ],
           "y": [
            0,
            6.939208627846832
           ],
           "z": [
            0,
            5
           ]
          },
          {
           "line": {
            "color": "green",
            "width": 5
           },
           "marker": {
            "color": "green",
            "size": 5
           },
           "mode": "lines+markers",
           "type": "scatter3d",
           "x": [
            0,
            -3.884199482405196
           ],
           "y": [
            0,
            -1.3831104008296697
           ],
           "z": [
            0,
            10
           ]
          },
          {
           "line": {
            "color": "red",
            "width": 5
           },
           "marker": {
            "color": "red",
            "size": 5
           },
           "mode": "lines+markers",
           "type": "scatter3d",
           "x": [
            0,
            -6.935829110175621
           ],
           "y": [
            0,
            -2.212300737793229
           ],
           "z": [
            0,
            1
           ]
          }
         ]
        },
        {
         "data": [
          {
           "line": {
            "color": "blue",
            "width": 5
           },
           "marker": {
            "color": "blue",
            "size": 5
           },
           "mode": "lines+markers",
           "type": "scatter3d",
           "x": [
            0,
            -6.246249024769834
           ],
           "y": [
            0,
            6.556246877639821
           ],
           "z": [
            0,
            5
           ]
          },
          {
           "line": {
            "color": "green",
            "width": 5
           },
           "marker": {
            "color": "green",
            "size": 5
           },
           "mode": "lines+markers",
           "type": "scatter3d",
           "x": [
            0,
            -3.788657049260995
           ],
           "y": [
            0,
            -1.6266769080198353
           ],
           "z": [
            0,
            10
           ]
          },
          {
           "line": {
            "color": "red",
            "width": 5
           },
           "marker": {
            "color": "red",
            "size": 5
           },
           "mode": "lines+markers",
           "type": "scatter3d",
           "x": [
            0,
            -6.781552257991157
           ],
           "y": [
            0,
            -2.6477441289020036
           ],
           "z": [
            0,
            1
           ]
          }
         ]
        },
        {
         "data": [
          {
           "line": {
            "color": "blue",
            "width": 5
           },
           "marker": {
            "color": "blue",
            "size": 5
           },
           "mode": "lines+markers",
           "type": "scatter3d",
           "x": [
            0,
            -6.649496179861823
           ],
           "y": [
            0,
            6.146885435243039
           ],
           "z": [
            0,
            5
           ]
          },
          {
           "line": {
            "color": "green",
            "width": 5
           },
           "marker": {
            "color": "green",
            "size": 5
           },
           "mode": "lines+markers",
           "type": "scatter3d",
           "x": [
            0,
            -3.677859031362318
           ],
           "y": [
            0,
            -1.8636933614268818
           ],
           "z": [
            0,
            10
           ]
          },
          {
           "line": {
            "color": "red",
            "width": 5
           },
           "marker": {
            "color": "red",
            "size": 5
           },
           "mode": "lines+markers",
           "type": "scatter3d",
           "x": [
            0,
            -6.5999684883703775
           ],
           "y": [
            0,
            -3.0725259889084784
           ],
           "z": [
            0,
            1
           ]
          }
         ]
        },
        {
         "data": [
          {
           "line": {
            "color": "blue",
            "width": 5
           },
           "marker": {
            "color": "blue",
            "size": 5
           },
           "mode": "lines+markers",
           "type": "scatter3d",
           "x": [
            0,
            -7.025968160735755
           ],
           "y": [
            0,
            5.712772654703444
           ],
           "z": [
            0,
            5
           ]
          },
          {
           "line": {
            "color": "green",
            "width": 5
           },
           "marker": {
            "color": "green",
            "size": 5
           },
           "mode": "lines+markers",
           "type": "scatter3d",
           "x": [
            0,
            -3.5522515732217723
           ],
           "y": [
            0,
            -2.093205379446423
           ],
           "z": [
            0,
            10
           ]
          },
          {
           "line": {
            "color": "red",
            "width": 5
           },
           "marker": {
            "color": "red",
            "size": 5
           },
           "mode": "lines+markers",
           "type": "scatter3d",
           "x": [
            0,
            -6.391808975064682
           ],
           "y": [
            0,
            -3.484935871186525
           ],
           "z": [
            0,
            1
           ]
          }
         ]
        },
        {
         "data": [
          {
           "line": {
            "color": "blue",
            "width": 5
           },
           "marker": {
            "color": "blue",
            "size": 5
           },
           "mode": "lines+markers",
           "type": "scatter3d",
           "x": [
            0,
            -7.374149047598084
           ],
           "y": [
            0,
            5.255656554970869
           ],
           "z": [
            0,
            5
           ]
          },
          {
           "line": {
            "color": "green",
            "width": 5
           },
           "marker": {
            "color": "green",
            "size": 5
           },
           "mode": "lines+markers",
           "type": "scatter3d",
           "x": [
            0,
            -3.412340451740921
           ],
           "y": [
            0,
            -2.314288798186727
           ],
           "z": [
            0,
            10
           ]
          },
          {
           "line": {
            "color": "red",
            "width": 5
           },
           "marker": {
            "color": "red",
            "size": 5
           },
           "mode": "lines+markers",
           "type": "scatter3d",
           "x": [
            0,
            -6.157911902965551
           ],
           "y": [
            0,
            -3.883313146697699
           ],
           "z": [
            0,
            1
           ]
          }
         ]
        },
        {
         "data": [
          {
           "line": {
            "color": "blue",
            "width": 5
           },
           "marker": {
            "color": "blue",
            "size": 5
           },
           "mode": "lines+markers",
           "type": "scatter3d",
           "x": [
            0,
            -7.692636838905693
           ],
           "y": [
            0,
            4.7773777812426585
           ],
           "z": [
            0,
            5
           ]
          },
          {
           "line": {
            "color": "green",
            "width": 5
           },
           "marker": {
            "color": "green",
            "size": 5
           },
           "mode": "lines+markers",
           "type": "scatter3d",
           "x": [
            0,
            -3.2586890396252084
           ],
           "y": [
            0,
            -2.526053392750545
           ],
           "z": [
            0,
            10
           ]
          },
          {
           "line": {
            "color": "red",
            "width": 5
           },
           "marker": {
            "color": "red",
            "size": 5
           },
           "mode": "lines+markers",
           "type": "scatter3d",
           "x": [
            0,
            -5.899219093029812
           ],
           "y": [
            0,
            -4.2660536907583015
           ],
           "z": [
            0,
            1
           ]
          }
         ]
        },
        {
         "data": [
          {
           "line": {
            "color": "blue",
            "width": 5
           },
           "marker": {
            "color": "blue",
            "size": 5
           },
           "mode": "lines+markers",
           "type": "scatter3d",
           "x": [
            0,
            -7.980149096731266
           ],
           "y": [
            0,
            4.279862193335105
           ],
           "z": [
            0,
            5
           ]
          },
          {
           "line": {
            "color": "green",
            "width": 5
           },
           "marker": {
            "color": "green",
            "size": 5
           },
           "mode": "lines+markers",
           "type": "scatter3d",
           "x": [
            0,
            -3.091916036880916
           ],
           "y": [
            0,
            -2.72764646185656
           ],
           "z": [
            0,
            10
           ]
          },
          {
           "line": {
            "color": "red",
            "width": 5
           },
           "marker": {
            "color": "red",
            "size": 5
           },
           "mode": "lines+markers",
           "type": "scatter3d",
           "x": [
            0,
            -5.616772209899061
           ],
           "y": [
            0,
            -4.631616342283287
           ],
           "z": [
            0,
            1
           ]
          }
         ]
        },
        {
         "data": [
          {
           "line": {
            "color": "blue",
            "width": 5
           },
           "marker": {
            "color": "blue",
            "size": 5
           },
           "mode": "lines+markers",
           "type": "scatter3d",
           "x": [
            0,
            -8.2355281106882
           ],
           "y": [
            0,
            3.7651131109256797
           ],
           "z": [
            0,
            5
           ]
          },
          {
           "line": {
            "color": "green",
            "width": 5
           },
           "marker": {
            "color": "green",
            "size": 5
           },
           "mode": "lines+markers",
           "type": "scatter3d",
           "x": [
            0,
            -2.912692979528602
           ],
           "y": [
            0,
            -2.918256261366502
           ],
           "z": [
            0,
            10
           ]
          },
          {
           "line": {
            "color": "red",
            "width": 5
           },
           "marker": {
            "color": "red",
            "size": 5
           },
           "mode": "lines+markers",
           "type": "scatter3d",
           "x": [
            0,
            -5.311708567483798
           ],
           "y": [
            0,
            -4.978529109498027
           ],
           "z": [
            0,
            1
           ]
          }
         ]
        },
        {
         "data": [
          {
           "line": {
            "color": "blue",
            "width": 5
           },
           "marker": {
            "color": "blue",
            "size": 5
           },
           "mode": "lines+markers",
           "type": "scatter3d",
           "x": [
            0,
            -8.45774555962172
           ],
           "y": [
            0,
            3.2352032468917713
           ],
           "z": [
            0,
            5
           ]
          },
          {
           "line": {
            "color": "green",
            "width": 5
           },
           "marker": {
            "color": "green",
            "size": 5
           },
           "mode": "lines+markers",
           "type": "scatter3d",
           "x": [
            0,
            -2.7217415355645653
           ],
           "y": [
            0,
            -3.097115272892283
           ],
           "z": [
            0,
            10
           ]
          },
          {
           "line": {
            "color": "red",
            "width": 5
           },
           "marker": {
            "color": "red",
            "size": 5
           },
           "mode": "lines+markers",
           "type": "scatter3d",
           "x": [
            0,
            -4.98525654940172
           ],
           "y": [
            0,
            -5.305395097129643
           ],
           "z": [
            0,
            1
           ]
          }
         ]
        },
        {
         "data": [
          {
           "line": {
            "color": "blue",
            "width": 5
           },
           "marker": {
            "color": "blue",
            "size": 5
           },
           "mode": "lines+markers",
           "type": "scatter3d",
           "x": [
            0,
            -8.64590665229524
           ],
           "y": [
            0,
            2.692266361227453
           ],
           "z": [
            0,
            5
           ]
          },
          {
           "line": {
            "color": "green",
            "width": 5
           },
           "marker": {
            "color": "green",
            "size": 5
           },
           "mode": "lines+markers",
           "type": "scatter3d",
           "x": [
            0,
            -2.519830599058524
           ],
           "y": [
            0,
            -3.263503294321665
           ],
           "z": [
            0,
            10
           ]
          },
          {
           "line": {
            "color": "red",
            "width": 5
           },
           "marker": {
            "color": "red",
            "size": 5
           },
           "mode": "lines+markers",
           "type": "scatter3d",
           "x": [
            0,
            -4.638730662710435
           ],
           "y": [
            0,
            -5.61089813121126
           ],
           "z": [
            0,
            1
           ]
          }
         ]
        },
        {
         "data": [
          {
           "line": {
            "color": "blue",
            "width": 5
           },
           "marker": {
            "color": "blue",
            "size": 5
           },
           "mode": "lines+markers",
           "type": "scatter3d",
           "x": [
            0,
            -8.799253730398844
           ],
           "y": [
            0,
            2.1384886691451115
           ],
           "z": [
            0,
            5
           ]
          },
          {
           "line": {
            "color": "green",
            "width": 5
           },
           "marker": {
            "color": "green",
            "size": 5
           },
           "mode": "lines+markers",
           "type": "scatter3d",
           "x": [
            0,
            -2.307773194088584
           ],
           "y": [
            0,
            -3.4167503398179644
           ],
           "z": [
            0,
            10
           ]
          },
          {
           "line": {
            "color": "red",
            "width": 5
           },
           "marker": {
            "color": "red",
            "size": 5
           },
           "mode": "lines+markers",
           "type": "scatter3d",
           "x": [
            0,
            -4.273526244851499
           ],
           "y": [
            0,
            -5.893808058850021
           ],
           "z": [
            0,
            1
           ]
          }
         ]
        },
        {
         "data": [
          {
           "line": {
            "color": "blue",
            "width": 5
           },
           "marker": {
            "color": "blue",
            "size": 5
           },
           "mode": "lines+markers",
           "type": "scatter3d",
           "x": [
            0,
            -8.917169319371906
           ],
           "y": [
            0,
            1.5761000379583696
           ],
           "z": [
            0,
            5
           ]
          },
          {
           "line": {
            "color": "green",
            "width": 5
           },
           "marker": {
            "color": "green",
            "size": 5
           },
           "mode": "lines+markers",
           "type": "scatter3d",
           "x": [
            0,
            -2.086423200980216
           ],
           "y": [
            0,
            -3.5562393376165597
           ],
           "z": [
            0,
            10
           ]
          },
          {
           "line": {
            "color": "red",
            "width": 5
           },
           "marker": {
            "color": "red",
            "size": 5
           },
           "mode": "lines+markers",
           "type": "scatter3d",
           "x": [
            0,
            -3.891113845119002
           ],
           "y": [
            0,
            -6.152985701618622
           ],
           "z": [
            0,
            1
           ]
          }
         ]
        },
        {
         "data": [
          {
           "line": {
            "color": "blue",
            "width": 5
           },
           "marker": {
            "color": "blue",
            "size": 5
           },
           "mode": "lines+markers",
           "type": "scatter3d",
           "x": [
            0,
            -8.999178614755206
           ],
           "y": [
            0,
            1.0073650081934602
           ],
           "z": [
            0,
            5
           ]
          },
          {
           "line": {
            "color": "green",
            "width": 5
           },
           "marker": {
            "color": "green",
            "size": 5
           },
           "mode": "lines+markers",
           "type": "scatter3d",
           "x": [
            0,
            -1.8566719180315703
           ],
           "y": [
            0,
            -3.6814086147550875
           ],
           "z": [
            0,
            10
           ]
          },
          {
           "line": {
            "color": "red",
            "width": 5
           },
           "marker": {
            "color": "red",
            "size": 5
           },
           "mode": "lines+markers",
           "type": "scatter3d",
           "x": [
            0,
            -3.4930333032766
           ],
           "y": [
            0,
            -6.387387442624768
           ],
           "z": [
            0,
            1
           ]
          }
         ]
        },
        {
         "data": [
          {
           "line": {
            "color": "blue",
            "width": 5
           },
           "marker": {
            "color": "blue",
            "size": 5
           },
           "mode": "lines+markers",
           "type": "scatter3d",
           "x": [
            0,
            -9.044951394060899
           ],
           "y": [
            0,
            0.4345736750837548
           ],
           "z": [
            0,
            5
           ]
          },
          {
           "line": {
            "color": "green",
            "width": 5
           },
           "marker": {
            "color": "green",
            "size": 5
           },
           "mode": "lines+markers",
           "type": "scatter3d",
           "x": [
            0,
            -1.6194444725697938
           ],
           "y": [
            0,
            -3.7917541587322274
           ],
           "z": [
            0,
            10
           ]
          },
          {
           "line": {
            "color": "red",
            "width": 5
           },
           "marker": {
            "color": "red",
            "size": 5
           },
           "mode": "lines+markers",
           "type": "scatter3d",
           "x": [
            0,
            -3.0808875491662375
           ],
           "y": [
            0,
            -6.596069428788061
           ],
           "z": [
            0,
            1
           ]
          }
         ]
        },
        {
         "data": [
          {
           "line": {
            "color": "blue",
            "width": 5
           },
           "marker": {
            "color": "blue",
            "size": 5
           },
           "mode": "lines+markers",
           "type": "scatter3d",
           "x": [
            0,
            -9.054303346461944
           ],
           "y": [
            0,
            -0.1399675328354426
           ],
           "z": [
            0,
            5
           ]
          },
          {
           "line": {
            "color": "green",
            "width": 5
           },
           "marker": {
            "color": "green",
            "size": 5
           },
           "mode": "lines+markers",
           "type": "scatter3d",
           "x": [
            0,
            -1.3756960957898143
           ],
           "y": [
            0,
            -3.886831646988156
           ],
           "z": [
            0,
            10
           ]
          },
          {
           "line": {
            "color": "red",
            "width": 5
           },
           "marker": {
            "color": "red",
            "size": 5
           },
           "mode": "lines+markers",
           "type": "scatter3d",
           "x": [
            0,
            -2.656336148275446
           ],
           "y": [
            0,
            -6.778191371403227
           ],
           "z": [
            0,
            1
           ]
          }
         ]
        },
        {
         "data": [
          {
           "line": {
            "color": "blue",
            "width": 5
           },
           "marker": {
            "color": "blue",
            "size": 5
           },
           "mode": "lines+markers",
           "type": "scatter3d",
           "x": [
            0,
            -9.027196814946734
           ],
           "y": [
            0,
            -0.7139451409005761
           ],
           "z": [
            0,
            5
           ]
          },
          {
           "line": {
            "color": "green",
            "width": 5
           },
           "marker": {
            "color": "green",
            "size": 5
           },
           "mode": "lines+markers",
           "type": "scatter3d",
           "x": [
            0,
            -1.1264082763754557
           ],
           "y": [
            0,
            -3.9662582360346725
           ],
           "z": [
            0,
            10
           ]
          },
          {
           "line": {
            "color": "red",
            "width": 5
           },
           "marker": {
            "color": "red",
            "size": 5
           },
           "mode": "lines+markers",
           "type": "scatter3d",
           "x": [
            0,
            -2.2210886192528436
           ],
           "y": [
            0,
            -6.93301992968616
           ],
           "z": [
            0,
            1
           ]
          }
         ]
        },
        {
         "data": [
          {
           "line": {
            "color": "blue",
            "width": 5
           },
           "marker": {
            "color": "blue",
            "size": 5
           },
           "mode": "lines+markers",
           "type": "scatter3d",
           "x": [
            0,
            -8.963740947950598
           ],
           "y": [
            0,
            -1.2850479438657958
           ],
           "z": [
            0,
            5
           ]
          },
          {
           "line": {
            "color": "green",
            "width": 5
           },
           "marker": {
            "color": "green",
            "size": 5
           },
           "mode": "lines+markers",
           "type": "scatter3d",
           "x": [
            0,
            -0.8725848083909137
           ],
           "y": [
            0,
            -4.029714103030808
           ],
           "z": [
            0,
            10
           ]
          },
          {
           "line": {
            "color": "red",
            "width": 5
           },
           "marker": {
            "color": "red",
            "size": 5
           },
           "mode": "lines+markers",
           "type": "scatter3d",
           "x": [
            0,
            -1.7768975502798952
           ],
           "y": [
            0,
            -7.059931663678431
           ],
           "z": [
            0,
            1
           ]
          }
         ]
        },
        {
         "data": [
          {
           "line": {
            "color": "blue",
            "width": 5
           },
           "marker": {
            "color": "blue",
            "size": 5
           },
           "mode": "lines+markers",
           "type": "scatter3d",
           "x": [
            0,
            -8.864191259853579
           ],
           "y": [
            0,
            -1.8509763123107281
           ],
           "z": [
            0,
            5
           ]
          },
          {
           "line": {
            "color": "green",
            "width": 5
           },
           "marker": {
            "color": "green",
            "size": 5
           },
           "mode": "lines+markers",
           "type": "scatter3d",
           "x": [
            0,
            -0.6152477493563541
           ],
           "y": [
            0,
            -4.076943733596521
           ],
           "z": [
            0,
            10
           ]
          },
          {
           "line": {
            "color": "red",
            "width": 5
           },
           "marker": {
            "color": "red",
            "size": 5
           },
           "mode": "lines+markers",
           "type": "scatter3d",
           "x": [
            0,
            -1.3255515420168908
           ],
           "y": [
            0,
            -7.158415544619957
           ],
           "z": [
            0,
            1
           ]
          }
         ]
        },
        {
         "data": [
          {
           "line": {
            "color": "blue",
            "width": 5
           },
           "marker": {
            "color": "blue",
            "size": 5
           },
           "mode": "lines+markers",
           "type": "scatter3d",
           "x": [
            0,
            -8.728948602114198
           ],
           "y": [
            0,
            -2.409451452436545
           ],
           "z": [
            0,
            5
           ]
          },
          {
           "line": {
            "color": "green",
            "width": 5
           },
           "marker": {
            "color": "green",
            "size": 5
           },
           "mode": "lines+markers",
           "type": "scatter3d",
           "x": [
            0,
            -0.35543330478299395
           ],
           "y": [
            0,
            -4.107756950678927
           ],
           "z": [
            0,
            10
           ]
          },
          {
           "line": {
            "color": "red",
            "width": 5
           },
           "marker": {
            "color": "red",
            "size": 5
           },
           "mode": "lines+markers",
           "type": "scatter3d",
           "x": [
            0,
            -0.8688680055393381
           ],
           "y": [
            0,
            -7.228075012681461
           ],
           "z": [
            0,
            1
           ]
          }
         ]
        },
        {
         "data": [
          {
           "line": {
            "color": "blue",
            "width": 5
           },
           "marker": {
            "color": "blue",
            "size": 5
           },
           "mode": "lines+markers",
           "type": "scatter3d",
           "x": [
            0,
            -8.558557549182124
           ],
           "y": [
            0,
            -2.9582245819642723
           ],
           "z": [
            0,
            5
           ]
          },
          {
           "line": {
            "color": "green",
            "width": 5
           },
           "marker": {
            "color": "green",
            "size": 5
           },
           "mode": "lines+markers",
           "type": "scatter3d",
           "x": [
            0,
            -0.09418765573924481
           ],
           "y": [
            0,
            -4.122029680328168
           ],
           "z": [
            0,
            10
           ]
          },
          {
           "line": {
            "color": "red",
            "width": 5
           },
           "marker": {
            "color": "red",
            "size": 5
           },
           "mode": "lines+markers",
           "type": "scatter3d",
           "x": [
            0,
            -0.4086858442650303
           ],
           "y": [
            0,
            -7.268629573770931
           ],
           "z": [
            0,
            1
           ]
          }
         ]
        },
        {
         "data": [
          {
           "line": {
            "color": "blue",
            "width": 5
           },
           "marker": {
            "color": "blue",
            "size": 5
           },
           "mode": "lines+markers",
           "type": "scatter3d",
           "x": [
            0,
            -8.353704205689047
           ],
           "y": [
            0,
            -3.495085985187366
           ],
           "z": [
            0,
            5
           ]
          },
          {
           "line": {
            "color": "green",
            "width": 5
           },
           "marker": {
            "color": "green",
            "size": 5
           },
           "mode": "lines+markers",
           "type": "scatter3d",
           "x": [
            0,
            0.16743725375122198
           ],
           "y": [
            0,
            -4.11970445129942
           ],
           "z": [
            0,
            10
           ]
          },
          {
           "line": {
            "color": "red",
            "width": 5
           },
           "marker": {
            "color": "red",
            "size": 5
           },
           "mode": "lines+markers",
           "type": "scatter3d",
           "x": [
            0,
            0.05314195066101424
           ],
           "y": [
            0,
            -7.279915928984341
           ],
           "z": [
            0,
            1
           ]
          }
         ]
        },
        {
         "data": [
          {
           "line": {
            "color": "blue",
            "width": 5
           },
           "marker": {
            "color": "blue",
            "size": 5
           },
           "mode": "lines+markers",
           "type": "scatter3d",
           "x": [
            0,
            -8.115213443747507
           ],
           "y": [
            0,
            -4.017873910716926
           ],
           "z": [
            0,
            5
           ]
          },
          {
           "line": {
            "color": "green",
            "width": 5
           },
           "marker": {
            "color": "green",
            "size": 5
           },
           "mode": "lines+markers",
           "type": "scatter3d",
           "x": [
            0,
            0.4283879525167662
           ],
           "y": [
            0,
            -4.100790626469302
           ],
           "z": [
            0,
            10
           ]
          },
          {
           "line": {
            "color": "red",
            "width": 5
           },
           "marker": {
            "color": "red",
            "size": 5
           },
           "mode": "lines+markers",
           "type": "scatter3d",
           "x": [
            0,
            0.514755761707864
           ],
           "y": [
            0,
            -7.261888632152695
           ],
           "z": [
            0,
            1
           ]
          }
         ]
        },
        {
         "data": [
          {
           "line": {
            "color": "blue",
            "width": 5
           },
           "marker": {
            "color": "blue",
            "size": 5
           },
           "mode": "lines+markers",
           "type": "scatter3d",
           "x": [
            0,
            -7.844045581482012
           ],
           "y": [
            0,
            -4.524483276091594
           ],
           "z": [
            0,
            5
           ]
          },
          {
           "line": {
            "color": "green",
            "width": 5
           },
           "marker": {
            "color": "green",
            "size": 5
           },
           "mode": "lines+markers",
           "type": "scatter3d",
           "x": [
            0,
            0.6876136841943855
           ],
           "y": [
            0,
            -4.065364365134892
           ],
           "z": [
            0,
            10
           ]
          },
          {
           "line": {
            "color": "red",
            "width": 5
           },
           "marker": {
            "color": "red",
            "size": 5
           },
           "mode": "lines+markers",
           "type": "scatter3d",
           "x": [
            0,
            0.9742968329821571
           ],
           "y": [
            0,
            -7.214620272837715
           ],
           "z": [
            0,
            1
           ]
          }
         ]
        },
        {
         "data": [
          {
           "line": {
            "color": "blue",
            "width": 5
           },
           "marker": {
            "color": "blue",
            "size": 5
           },
           "mode": "lines+markers",
           "type": "scatter3d",
           "x": [
            0,
            -7.541292516166901
           ],
           "y": [
            0,
            -5.012874144201616
           ],
           "z": [
            0,
            5
           ]
          },
          {
           "line": {
            "color": "green",
            "width": 5
           },
           "marker": {
            "color": "green",
            "size": 5
           },
           "mode": "lines+markers",
           "type": "scatter3d",
           "x": [
            0,
            0.9440706382547177
           ],
           "y": [
            0,
            -4.013568316347104
           ],
           "z": [
            0,
            10
           ]
          },
          {
           "line": {
            "color": "red",
            "width": 5
           },
           "marker": {
            "color": "red",
            "size": 5
           },
           "mode": "lines+markers",
           "type": "scatter3d",
           "x": [
            0,
            1.429914754782025
           ],
           "y": [
            0,
            -7.138301184039285
           ],
           "z": [
            0,
            1
           ]
          }
         ]
        },
        {
         "data": [
          {
           "line": {
            "color": "blue",
            "width": 5
           },
           "marker": {
            "color": "blue",
            "size": 5
           },
           "mode": "lines+markers",
           "type": "scatter3d",
           "x": [
            0,
            -7.208173327541386
           ],
           "y": [
            0,
            -5.481079937395634
           ],
           "z": [
            0,
            5
           ]
          },
          {
           "line": {
            "color": "green",
            "width": 5
           },
           "marker": {
            "color": "green",
            "size": 5
           },
           "mode": "lines+markers",
           "type": "scatter3d",
           "x": [
            0,
            1.1967261530586488
           ],
           "y": [
            0,
            -3.9456110445133143
           ],
           "z": [
            0,
            10
           ]
          },
          {
           "line": {
            "color": "red",
            "width": 5
           },
           "marker": {
            "color": "red",
            "size": 5
           },
           "mode": "lines+markers",
           "type": "scatter3d",
           "x": [
            0,
            1.879774914543891
           ],
           "y": [
            0,
            -7.033238675791652
           ],
           "z": [
            0,
            1
           ]
          }
         ]
        },
        {
         "data": [
          {
           "line": {
            "color": "blue",
            "width": 5
           },
           "marker": {
            "color": "blue",
            "size": 5
           },
           "mode": "lines+markers",
           "type": "scatter3d",
           "x": [
            0,
            -6.846029369005725
           ],
           "y": [
            0,
            -5.927215356194768
           ],
           "z": [
            0,
            5
           ]
          },
          {
           "line": {
            "color": "green",
            "width": 5
           },
           "marker": {
            "color": "green",
            "size": 5
           },
           "mode": "lines+markers",
           "type": "scatter3d",
           "x": [
            0,
            1.4445628740212497
           ],
           "y": [
            0,
            -3.861766189582102
           ],
           "z": [
            0,
            10
           ]
          },
          {
           "line": {
            "color": "red",
            "width": 5
           },
           "marker": {
            "color": "red",
            "size": 5
           },
           "mode": "lines+markers",
           "type": "scatter3d",
           "x": [
            0,
            2.322065884179729
           ],
           "y": [
            0,
            -6.899855797734371
           ],
           "z": [
            0,
            1
           ]
          }
         ]
        },
        {
         "data": [
          {
           "line": {
            "color": "blue",
            "width": 5
           },
           "marker": {
            "color": "blue",
            "size": 5
           },
           "mode": "lines+markers",
           "type": "scatter3d",
           "x": [
            0,
            -6.456318866464482
           ],
           "y": [
            0,
            -6.349483970728235
           ],
           "z": [
            0,
            5
           ]
          },
          {
           "line": {
            "color": "green",
            "width": 5
           },
           "marker": {
            "color": "green",
            "size": 5
           },
           "mode": "lines+markers",
           "type": "scatter3d",
           "x": [
            0,
            1.6865828501396338
           ],
           "y": [
            0,
            -3.762371365191755
           ],
           "z": [
            0,
            10
           ]
          },
          {
           "line": {
            "color": "red",
            "width": 5
           },
           "marker": {
            "color": "red",
            "size": 5
           },
           "mode": "lines+markers",
           "type": "scatter3d",
           "x": [
            0,
            2.7550067140586627
           ],
           "y": [
            0,
            -6.738689635640722
           ],
           "z": [
            0,
            1
           ]
          }
         ]
        },
        {
         "data": [
          {
           "line": {
            "color": "blue",
            "width": 5
           },
           "marker": {
            "color": "blue",
            "size": 5
           },
           "mode": "lines+markers",
           "type": "scatter3d",
           "x": [
            0,
            -6.040611046565502
           ],
           "y": [
            0,
            -6.7461854543223785
           ],
           "z": [
            0,
            5
           ]
          },
          {
           "line": {
            "color": "green",
            "width": 5
           },
           "marker": {
            "color": "green",
            "size": 5
           },
           "mode": "lines+markers",
           "type": "scatter3d",
           "x": [
            0,
            1.9218115523894113
           ],
           "y": [
            0,
            -3.6478267992193105
           ],
           "z": [
            0,
            10
           ]
          },
          {
           "line": {
            "color": "red",
            "width": 5
           },
           "marker": {
            "color": "red",
            "size": 5
           },
           "mode": "lines+markers",
           "type": "scatter3d",
           "x": [
            0,
            3.176854104262531
           ],
           "y": [
            0,
            -6.550389148762866
           ],
           "z": [
            0,
            1
           ]
          }
         ]
        },
        {
         "data": [
          {
           "line": {
            "color": "blue",
            "width": 5
           },
           "marker": {
            "color": "blue",
            "size": 5
           },
           "mode": "lines+markers",
           "type": "scatter3d",
           "x": [
            0,
            -5.600579817978028
           ],
           "y": [
            0,
            -7.1157224301160875
           ],
           "z": [
            0,
            5
           ]
          },
          {
           "line": {
            "color": "green",
            "width": 5
           },
           "marker": {
            "color": "green",
            "size": 5
           },
           "mode": "lines+markers",
           "type": "scatter3d",
           "x": [
            0,
            2.14930179780913
           ],
           "y": [
            0,
            -3.518593722204148
           ],
           "z": [
            0,
            10
           ]
          },
          {
           "line": {
            "color": "red",
            "width": 5
           },
           "marker": {
            "color": "red",
            "size": 5
           },
           "mode": "lines+markers",
           "type": "scatter3d",
           "x": [
            0,
            3.585909424239398
           ],
           "y": [
            0,
            -6.335712556701975
           ],
           "z": [
            0,
            1
           ]
          }
         ]
        },
        {
         "data": [
          {
           "line": {
            "color": "blue",
            "width": 5
           },
           "marker": {
            "color": "blue",
            "size": 5
           },
           "mode": "lines+markers",
           "type": "scatter3d",
           "x": [
            0,
            -5.137997031153309
           ],
           "y": [
            0,
            -7.456606903133609
           ],
           "z": [
            0,
            5
           ]
          },
          {
           "line": {
            "color": "green",
            "width": 5
           },
           "marker": {
            "color": "green",
            "size": 5
           },
           "mode": "lines+markers",
           "type": "scatter3d",
           "x": [
            0,
            2.3681375634717474
           ],
           "y": [
            0,
            -3.375192510135399
           ],
           "z": [
            0,
            10
           ]
          },
          {
           "line": {
            "color": "red",
            "width": 5
           },
           "marker": {
            "color": "red",
            "size": 5
           },
           "mode": "lines+markers",
           "type": "scatter3d",
           "x": [
            0,
            3.9805255525892367
           ],
           "y": [
            0,
            -6.095524286325513
           ],
           "z": [
            0,
            1
           ]
          }
         ]
        },
        {
         "data": [
          {
           "line": {
            "color": "blue",
            "width": 5
           },
           "marker": {
            "color": "blue",
            "size": 5
           },
           "mode": "lines+markers",
           "type": "scatter3d",
           "x": [
            0,
            -4.654725343708168
           ],
           "y": [
            0,
            -7.767466251915156
           ],
           "z": [
            0,
            5
           ]
          },
          {
           "line": {
            "color": "green",
            "width": 5
           },
           "marker": {
            "color": "green",
            "size": 5
           },
           "mode": "lines+markers",
           "type": "scatter3d",
           "x": [
            0,
            2.577437674985662
           ],
           "y": [
            0,
            -3.2182005890814986
           ],
           "z": [
            0,
            10
           ]
          },
          {
           "line": {
            "color": "red",
            "width": 5
           },
           "marker": {
            "color": "red",
            "size": 5
           },
           "mode": "lines+markers",
           "type": "scatter3d",
           "x": [
            0,
            4.359113509440491
           ],
           "y": [
            0,
            -5.83079149102533
           ],
           "z": [
            0,
            1
           ]
          }
         ]
        },
        {
         "data": [
          {
           "line": {
            "color": "blue",
            "width": 5
           },
           "marker": {
            "color": "blue",
            "size": 5
           },
           "mode": "lines+markers",
           "type": "scatter3d",
           "x": [
            0,
            -4.152710720160223
           ],
           "y": [
            0,
            -8.047048755579052
           ],
           "z": [
            0,
            5
           ]
          },
          {
           "line": {
            "color": "green",
            "width": 5
           },
           "marker": {
            "color": "green",
            "size": 5
           },
           "mode": "lines+markers",
           "type": "scatter3d",
           "x": [
            0,
            2.776359354672975
           ],
           "y": [
            0,
            -3.048250110099213
           ],
           "z": [
            0,
            10
           ]
          },
          {
           "line": {
            "color": "red",
            "width": 5
           },
           "marker": {
            "color": "red",
            "size": 5
           },
           "mode": "lines+markers",
           "type": "scatter3d",
           "x": [
            0,
            4.720148854711178
           ],
           "y": [
            0,
            -5.542580156332316
           ],
           "z": [
            0,
            1
           ]
          }
         ]
        },
        {
         "data": [
          {
           "line": {
            "color": "blue",
            "width": 5
           },
           "marker": {
            "color": "blue",
            "size": 5
           },
           "mode": "lines+markers",
           "type": "scatter3d",
           "x": [
            0,
            -3.6339745962155576
           ],
           "y": [
            0,
            -8.29422863405995
           ],
           "z": [
            0,
            5
           ]
          },
          {
           "line": {
            "color": "green",
            "width": 5
           },
           "marker": {
            "color": "green",
            "size": 5
           },
           "mode": "lines+markers",
           "type": "scatter3d",
           "x": [
            0,
            2.9641016151377557
           ],
           "y": [
            0,
            -2.8660254037844375
           ],
           "z": [
            0,
            10
           ]
          },
          {
           "line": {
            "color": "red",
            "width": 5
           },
           "marker": {
            "color": "red",
            "size": 5
           },
           "mode": "lines+markers",
           "type": "scatter3d",
           "x": [
            0,
            5.062177826491072
           ],
           "y": [
            0,
            -5.232050807568875
           ],
           "z": [
            0,
            1
           ]
          }
         ]
        },
        {
         "data": [
          {
           "line": {
            "color": "blue",
            "width": 5
           },
           "marker": {
            "color": "blue",
            "size": 5
           },
           "mode": "lines+markers",
           "type": "scatter3d",
           "x": [
            0,
            -3.1006057391606294
           ],
           "y": [
            0,
            -8.508010581227797
           ],
           "z": [
            0,
            5
           ]
          },
          {
           "line": {
            "color": "green",
            "width": 5
           },
           "marker": {
            "color": "green",
            "size": 5
           },
           "mode": "lines+markers",
           "type": "scatter3d",
           "x": [
            0,
            3.13990848455957
           ],
           "y": [
            0,
            -2.6722602247144316
           ],
           "z": [
            0,
            10
           ]
          },
          {
           "line": {
            "color": "red",
            "width": 5
           },
           "marker": {
            "color": "red",
            "size": 5
           },
           "mode": "lines+markers",
           "type": "scatter3d",
           "x": [
            0,
            5.383823194827804
           ],
           "y": [
            0,
            -4.90045383682309
           ],
           "z": [
            0,
            1
           ]
          }
         ]
        },
        {
         "data": [
          {
           "line": {
            "color": "blue",
            "width": 5
           },
           "marker": {
            "color": "blue",
            "size": 5
           },
           "mode": "lines+markers",
           "type": "scatter3d",
           "x": [
            0,
            -2.5547518371335767
           ],
           "y": [
            0,
            -8.687533772634362
           ],
           "z": [
            0,
            5
           ]
          },
          {
           "line": {
            "color": "green",
            "width": 5
           },
           "marker": {
            "color": "green",
            "size": 5
           },
           "mode": "lines+markers",
           "type": "scatter3d",
           "x": [
            0,
            3.3030720507251967
           ],
           "y": [
            0,
            -2.467734796877096
           ],
           "z": [
            0,
            10
           ]
          },
          {
           "line": {
            "color": "red",
            "width": 5
           },
           "marker": {
            "color": "red",
            "size": 5
           },
           "mode": "lines+markers",
           "type": "scatter3d",
           "x": [
            0,
            5.683789807345812
           ],
           "y": [
            0,
            -4.549124468061064
           ],
           "z": [
            0,
            1
           ]
          }
         ]
        },
        {
         "data": [
          {
           "line": {
            "color": "blue",
            "width": 5
           },
           "marker": {
            "color": "blue",
            "size": 5
           },
           "mode": "lines+markers",
           "type": "scatter3d",
           "x": [
            0,
            -1.9986108511421286
           ],
           "y": [
            0,
            -8.832075331749436
           ],
           "z": [
            0,
            5
           ]
          },
          {
           "line": {
            "color": "green",
            "width": 5
           },
           "marker": {
            "color": "green",
            "size": 5
           },
           "mode": "lines+markers",
           "type": "scatter3d",
           "x": [
            0,
            3.4529353115412516
           ],
           "y": [
            0,
            -2.253272671984356
           ],
           "z": [
            0,
            10
           ]
          },
          {
           "line": {
            "color": "red",
            "width": 5
           },
           "marker": {
            "color": "red",
            "size": 5
           },
           "mode": "lines+markers",
           "type": "scatter3d",
           "x": [
            0,
            5.960869804367835
           ],
           "y": [
            0,
            -4.17947738065129
           ],
           "z": [
            0,
            1
           ]
          }
         ]
        },
        {
         "data": [
          {
           "line": {
            "color": "blue",
            "width": 5
           },
           "marker": {
            "color": "blue",
            "size": 5
           },
           "mode": "lines+markers",
           "type": "scatter3d",
           "x": [
            0,
            -1.4344221646503699
           ],
           "y": [
            0,
            -8.941053240729513
           ],
           "z": [
            0,
            5
           ]
          },
          {
           "line": {
            "color": "green",
            "width": 5
           },
           "marker": {
            "color": "green",
            "size": 5
           },
           "mode": "lines+markers",
           "type": "scatter3d",
           "x": [
            0,
            3.5888948205497337
           ],
           "y": [
            0,
            -2.0297374133200807
           ],
           "z": [
            0,
            10
           ]
          },
          {
           "line": {
            "color": "red",
            "width": 5
           },
           "marker": {
            "color": "red",
            "size": 5
           },
           "mode": "lines+markers",
           "type": "scatter3d",
           "x": [
            0,
            6.213947482539526
           ],
           "y": [
            0,
            -3.7930010129501266
           ],
           "z": [
            0,
            1
           ]
          }
         ]
        },
        {
         "data": [
          {
           "line": {
            "color": "blue",
            "width": 5
           },
           "marker": {
            "color": "blue",
            "size": 5
           },
           "mode": "lines+markers",
           "type": "scatter3d",
           "x": [
            0,
            -0.8644575663719362
           ],
           "y": [
            0,
            -9.014028683998198
           ],
           "z": [
            0,
            5
           ]
          },
          {
           "line": {
            "color": "green",
            "width": 5
           },
           "marker": {
            "color": "green",
            "size": 5
           },
           "mode": "lines+markers",
           "type": "scatter3d",
           "x": [
            0,
            3.710403116793924
           ],
           "y": [
            0,
            -1.798029118475541
           ],
           "z": [
            0,
            10
           ]
          },
          {
           "line": {
            "color": "red",
            "width": 5
           },
           "marker": {
            "color": "red",
            "size": 5
           },
           "mode": "lines+markers",
           "type": "scatter3d",
           "x": [
            0,
            6.44200378737307
           ],
           "y": [
            0,
            -3.3912515688858913
           ],
           "z": [
            0,
            1
           ]
          }
         ]
        },
        {
         "data": [
          {
           "line": {
            "color": "blue",
            "width": 5
           },
           "marker": {
            "color": "blue",
            "size": 5
           },
           "mode": "lines+markers",
           "type": "scatter3d",
           "x": [
            0,
            -0.2910121025786344
           ],
           "y": [
            0,
            -9.050707815201678
           ],
           "z": [
            0,
            5
           ]
          },
          {
           "line": {
            "color": "green",
            "width": 5
           },
           "marker": {
            "color": "green",
            "size": 5
           },
           "mode": "lines+markers",
           "type": "scatter3d",
           "x": [
            0,
            3.8169709292504455
           ],
           "y": [
            0,
            -1.5590807949740735
           ],
           "z": [
            0,
            10
           ]
          },
          {
           "line": {
            "color": "red",
            "width": 5
           },
           "marker": {
            "color": "red",
            "size": 5
           },
           "mode": "lines+markers",
           "type": "scatter3d",
           "x": [
            0,
            6.644120416619958
           ],
           "y": [
            0,
            -2.9758467516748617
           ],
           "z": [
            0,
            1
           ]
          }
         ]
        },
        {
         "data": [
          {
           "line": {
            "color": "blue",
            "width": 5
           },
           "marker": {
            "color": "blue",
            "size": 5
           },
           "mode": "lines+markers",
           "type": "scatter3d",
           "x": [
            0,
            0.28360516424084314
           ],
           "y": [
            0,
            -9.05094294042427
           ],
           "z": [
            0,
            5
           ]
          },
          {
           "line": {
            "color": "green",
            "width": 5
           },
           "marker": {
            "color": "green",
            "size": 5
           },
           "mode": "lines+markers",
           "type": "scatter3d",
           "x": [
            0,
            3.9081691469509803
           ],
           "y": [
            0,
            -1.3138546033790974
           ],
           "z": [
            0,
            10
           ]
          },
          {
           "line": {
            "color": "red",
            "width": 5
           },
           "marker": {
            "color": "red",
            "size": 5
           },
           "mode": "lines+markers",
           "type": "scatter3d",
           "x": [
            0,
            6.819483517950018
           ],
           "y": [
            0,
            -2.548459249901406
           ],
           "z": [
            0,
            1
           ]
          }
         ]
        },
        {
         "data": [
          {
           "line": {
            "color": "blue",
            "width": 5
           },
           "marker": {
            "color": "blue",
            "size": 5
           },
           "mode": "lines+markers",
           "type": "scatter3d",
           "x": [
            0,
            0.8570804531606067
           ],
           "y": [
            0,
            -9.014733112899682
           ],
           "z": [
            0,
            5
           ]
          },
          {
           "line": {
            "color": "green",
            "width": 5
           },
           "marker": {
            "color": "green",
            "size": 5
           },
           "mode": "lines+markers",
           "type": "scatter3d",
           "x": [
            0,
            3.9836305468606925
           ],
           "y": [
            0,
            -1.0633379830131056
           ],
           "z": [
            0,
            10
           ]
          },
          {
           "line": {
            "color": "red",
            "width": 5
           },
           "marker": {
            "color": "red",
            "size": 5
           },
           "mode": "lines+markers",
           "type": "scatter3d",
           "x": [
            0,
            6.96738696604751
           ],
           "y": [
            0,
            -2.1108100021914034
           ],
           "z": [
            0,
            1
           ]
          }
         ]
        },
        {
         "data": [
          {
           "line": {
            "color": "blue",
            "width": 5
           },
           "marker": {
            "color": "blue",
            "size": 5
           },
           "mode": "lines+markers",
           "type": "scatter3d",
           "x": [
            0,
            1.4271045815966894
           ],
           "y": [
            0,
            -8.942224136823329
           ],
           "z": [
            0,
            5
           ]
          },
          {
           "line": {
            "color": "green",
            "width": 5
           },
           "marker": {
            "color": "green",
            "size": 5
           },
           "mode": "lines+markers",
           "type": "scatter3d",
           "x": [
            0,
            4.043051272555775
           ],
           "y": [
            0,
            -0.8085396758880384
           ],
           "z": [
            0,
            10
           ]
          },
          {
           "line": {
            "color": "red",
            "width": 5
           },
           "marker": {
            "color": "red",
            "size": 5
           },
           "mode": "lines+markers",
           "type": "scatter3d",
           "x": [
            0,
            7.087235205928541
           ],
           "y": [
            0,
            -1.6646612675998194
           ],
           "z": [
            0,
            1
           ]
          }
         ]
        },
        {
         "data": [
          {
           "line": {
            "color": "blue",
            "width": 5
           },
           "marker": {
            "color": "blue",
            "size": 5
           },
           "mode": "lines+markers",
           "type": "scatter3d",
           "x": [
            0,
            1.991382263570352
           ],
           "y": [
            0,
            -8.833707980250276
           ],
           "z": [
            0,
            5
           ]
          },
          {
           "line": {
            "color": "green",
            "width": 5
           },
           "marker": {
            "color": "green",
            "size": 5
           },
           "mode": "lines+markers",
           "type": "scatter3d",
           "x": [
            0,
            4.086192057746027
           ],
           "y": [
            0,
            -0.5504856648572107
           ],
           "z": [
            0,
            10
           ]
          },
          {
           "line": {
            "color": "red",
            "width": 5
           },
           "marker": {
            "color": "red",
            "size": 5
           },
           "mode": "lines+markers",
           "type": "scatter3d",
           "x": [
            0,
            7.1785456510308014
           ],
           "y": [
            0,
            -1.211809529615432
           ],
           "z": [
            0,
            1
           ]
          }
         ]
        },
        {
         "data": [
          {
           "line": {
            "color": "blue",
            "width": 5
           },
           "marker": {
            "color": "blue",
            "size": 5
           },
           "mode": "lines+markers",
           "type": "scatter3d",
           "x": [
            0,
            2.547641352014578
           ],
           "y": [
            0,
            -8.689621599442944
           ],
           "z": [
            0,
            5
           ]
          },
          {
           "line": {
            "color": "green",
            "width": 5
           },
           "marker": {
            "color": "green",
            "size": 5
           },
           "mode": "lines+markers",
           "type": "scatter3d",
           "x": [
            0,
            4.112879189715763
           ],
           "y": [
            0,
            -0.29021504234448825
           ],
           "z": [
            0,
            10
           ]
          },
          {
           "line": {
            "color": "red",
            "width": 5
           },
           "marker": {
            "color": "red",
            "size": 5
           },
           "mode": "lines+markers",
           "type": "scatter3d",
           "x": [
            0,
            7.240950626419317
           ],
           "y": [
            0,
            -0.7540782623559066
           ],
           "z": [
            0,
            1
           ]
          }
         ]
        },
        {
         "data": [
          {
           "line": {
            "color": "blue",
            "width": 5
           },
           "marker": {
            "color": "blue",
            "size": 5
           },
           "mode": "lines+markers",
           "type": "scatter3d",
           "x": [
            0,
            3.093641987908389
           ],
           "y": [
            0,
            -8.510545179402447
           ],
           "z": [
            0,
            5
           ]
          },
          {
           "line": {
            "color": "green",
            "width": 5
           },
           "marker": {
            "color": "green",
            "size": 5
           },
           "mode": "lines+markers",
           "type": "scatter3d",
           "x": [
            0,
            4.123005208803594
           ],
           "y": [
            0,
            -0.02877582628583175
           ],
           "z": [
            0,
            10
           ]
          },
          {
           "line": {
            "color": "red",
            "width": 5
           },
           "marker": {
            "color": "red",
            "size": 5
           },
           "mode": "lines+markers",
           "type": "scatter3d",
           "x": [
            0,
            7.274198849283646
           ],
           "y": [
            0,
            -0.2933105880810909
           ],
           "z": [
            0,
            1
           ]
          }
         ]
        },
        {
         "data": [
          {
           "line": {
            "color": "blue",
            "width": 5
           },
           "marker": {
            "color": "blue",
            "size": 5
           },
           "mode": "lines+markers",
           "type": "scatter3d",
           "x": [
            0,
            3.627185619398548
           ],
           "y": [
            0,
            -8.297199797668389
           ],
           "z": [
            0,
            5
           ]
          },
          {
           "line": {
            "color": "green",
            "width": 5
           },
           "marker": {
            "color": "green",
            "size": 5
           },
           "mode": "lines+markers",
           "type": "scatter3d",
           "x": [
            0,
            4.11652934110457
           ],
           "y": [
            0,
            0.2327792598690258
           ],
           "z": [
            0,
            10
           ]
          },
          {
           "line": {
            "color": "red",
            "width": 5
           },
           "marker": {
            "color": "red",
            "size": 5
           },
           "mode": "lines+markers",
           "type": "scatter3d",
           "x": [
            0,
            7.278156440765066
           ],
           "y": [
            0,
            0.16863814440977687
           ],
           "z": [
            0,
            1
           ]
          }
         ]
        },
        {
         "data": [
          {
           "line": {
            "color": "blue",
            "width": 5
           },
           "marker": {
            "color": "blue",
            "size": 5
           },
           "mode": "lines+markers",
           "type": "scatter3d",
           "x": [
            0,
            4.146123854591952
           ],
           "y": [
            0,
            -8.05044452079409
           ],
           "z": [
            0,
            5
           ]
          },
          {
           "line": {
            "color": "green",
            "width": 5
           },
           "marker": {
            "color": "green",
            "size": 5
           },
           "mode": "lines+markers",
           "type": "scatter3d",
           "x": [
            0,
            4.093477662652298
           ],
           "y": [
            0,
            0.4933970261023799
           ],
           "z": [
            0,
            10
           ]
          },
          {
           "line": {
            "color": "red",
            "width": 5
           },
           "marker": {
            "color": "red",
            "size": 5
           },
           "mode": "lines+markers",
           "type": "scatter3d",
           "x": [
            0,
            7.252807465039491
           ],
           "y": [
            0,
            0.629907830612888
           ],
           "z": [
            0,
            1
           ]
          }
         ]
        },
        {
         "data": [
          {
           "line": {
            "color": "blue",
            "width": 5
           },
           "marker": {
            "color": "blue",
            "size": 5
           },
           "mode": "lines+markers",
           "type": "scatter3d",
           "x": [
            0,
            4.6483671123715
           ],
           "y": [
            0,
            -7.771272945188777
           ],
           "z": [
            0,
            5
           ]
          },
          {
           "line": {
            "color": "green",
            "width": 5
           },
           "marker": {
            "color": "green",
            "size": 5
           },
           "mode": "lines+markers",
           "type": "scatter3d",
           "x": [
            0,
            4.05394299441996
           ],
           "y": [
            0,
            0.7520280566530291
           ],
           "z": [
            0,
            10
           ]
          },
          {
           "line": {
            "color": "red",
            "width": 5
           },
           "marker": {
            "color": "red",
            "size": 5
           },
           "mode": "lines+markers",
           "type": "scatter3d",
           "x": [
            0,
            7.198253993485402
           ],
           "y": [
            0,
            1.0886411003041712
           ],
           "z": [
            0,
            1
           ]
          }
         ]
        },
        {
         "data": [
          {
           "line": {
            "color": "blue",
            "width": 5
           },
           "marker": {
            "color": "blue",
            "size": 5
           },
           "mode": "lines+markers",
           "type": "scatter3d",
           "x": [
            0,
            5.131893036401728
           ],
           "y": [
            0,
            -7.460809196255554
           ],
           "z": [
            0,
            5
           ]
          },
          {
           "line": {
            "color": "green",
            "width": 5
           },
           "marker": {
            "color": "green",
            "size": 5
           },
           "mode": "lines+markers",
           "type": "scatter3d",
           "x": [
            0,
            3.9980845285630107
           ],
           "y": [
            0,
            1.0076309356431494
           ],
           "z": [
            0,
            10
           ]
          },
          {
           "line": {
            "color": "red",
            "width": 5
           },
           "marker": {
            "color": "red",
            "size": 5
           },
           "mode": "lines+markers",
           "type": "scatter3d",
           "x": [
            0,
            7.1147156936784395
           ],
           "y": [
            0,
            1.5429907965136163
           ],
           "z": [
            0,
            1
           ]
          }
         ]
        },
        {
         "data": [
          {
           "line": {
            "color": "blue",
            "width": 5
           },
           "marker": {
            "color": "blue",
            "size": 5
           },
           "mode": "lines+markers",
           "type": "scatter3d",
           "x": [
            0,
            5.594754638444036
           ],
           "y": [
            0,
            -7.120303401935127
           ],
           "z": [
            0,
            5
           ]
          },
          {
           "line": {
            "color": "green",
            "width": 5
           },
           "marker": {
            "color": "green",
            "size": 5
           },
           "mode": "lines+markers",
           "type": "scatter3d",
           "x": [
            0,
            3.92612718740856
           ],
           "y": [
            0,
            1.259176440492495
           ],
           "z": [
            0,
            10
           ]
          },
          {
           "line": {
            "color": "red",
            "width": 5
           },
           "marker": {
            "color": "red",
            "size": 5
           },
           "mode": "lines+markers",
           "type": "scatter3d",
           "x": [
            0,
            7.002528944867605
           ],
           "y": [
            0,
            1.9911274133744878
           ],
           "z": [
            0,
            1
           ]
          }
         ]
        },
        {
         "data": [
          {
           "line": {
            "color": "blue",
            "width": 5
           },
           "marker": {
            "color": "blue",
            "size": 5
           },
           "mode": "lines+markers",
           "type": "scatter3d",
           "x": [
            0,
            6.035088138191117
           ],
           "y": [
            0,
            -6.751126658881825
           ],
           "z": [
            0,
            5
           ]
          },
          {
           "line": {
            "color": "green",
            "width": 5
           },
           "marker": {
            "color": "green",
            "size": 5
           },
           "mode": "lines+markers",
           "type": "scatter3d",
           "x": [
            0,
            3.838360717772541
           ],
           "y": [
            0,
            1.5056516862344558
           ],
           "z": [
            0,
            10
           ]
          },
          {
           "line": {
            "color": "red",
            "width": 5
           },
           "marker": {
            "color": "red",
            "size": 5
           },
           "mode": "lines+markers",
           "type": "scatter3d",
           "x": [
            0,
            6.862145483494746
           ],
           "y": [
            0,
            2.4312464628977137
           ],
           "z": [
            0,
            1
           ]
          }
         ]
        },
        {
         "data": [
          {
           "line": {
            "color": "blue",
            "width": 5
           },
           "marker": {
            "color": "blue",
            "size": 5
           },
           "mode": "lines+markers",
           "type": "scatter3d",
           "x": [
            0,
            6.451120468052462
           ],
           "y": [
            0,
            -6.354765511541287
           ],
           "z": [
            0,
            5
           ]
          },
          {
           "line": {
            "color": "green",
            "width": 5
           },
           "marker": {
            "color": "green",
            "size": 5
           },
           "mode": "lines+markers",
           "type": "scatter3d",
           "x": [
            0,
            3.7351385242515494
           ],
           "y": [
            0,
            1.7460642040463348
           ],
           "z": [
            0,
            10
           ]
          },
          {
           "line": {
            "color": "red",
            "width": 5
           },
           "marker": {
            "color": "red",
            "size": 5
           },
           "mode": "lines+markers",
           "type": "scatter3d",
           "x": [
            0,
            6.694130584211342
           ],
           "y": [
            0,
            2.861575741008147
           ],
           "z": [
            0,
            1
           ]
          }
         ]
        },
        {
         "data": [
          {
           "line": {
            "color": "blue",
            "width": 5
           },
           "marker": {
            "color": "blue",
            "size": 5
           },
           "mode": "lines+markers",
           "type": "scatter3d",
           "x": [
            0,
            6.841176412671723
           ],
           "y": [
            0,
            -5.932815966360665
           ],
           "z": [
            0,
            5
           ]
          },
          {
           "line": {
            "color": "green",
            "width": 5
           },
           "marker": {
            "color": "green",
            "size": 5
           },
           "mode": "lines+markers",
           "type": "scatter3d",
           "x": [
            0,
            3.6168762461872648
           ],
           "y": [
            0,
            1.979445937570996
           ],
           "z": [
            0,
            10
           ]
          },
          {
           "line": {
            "color": "red",
            "width": 5
           },
           "marker": {
            "color": "red",
            "size": 5
           },
           "mode": "lines+markers",
           "type": "scatter3d",
           "x": [
            0,
            6.499160783716997
           ],
           "y": [
            0,
            3.2803824635848597
           ],
           "z": [
            0,
            1
           ]
          }
         ]
        },
        {
         "data": [
          {
           "line": {
            "color": "blue",
            "width": 5
           },
           "marker": {
            "color": "blue",
            "size": 5
           },
           "mode": "lines+markers",
           "type": "scatter3d",
           "x": [
            0,
            7.203685354427742
           ],
           "y": [
            0,
            -5.486977065233939
           ],
           "z": [
            0,
            5
           ]
          },
          {
           "line": {
            "color": "green",
            "width": 5
           },
           "marker": {
            "color": "green",
            "size": 5
           },
           "mode": "lines+markers",
           "type": "scatter3d",
           "x": [
            0,
            3.4840500840335182
           ],
           "y": [
            0,
            2.2048571409381683
           ],
           "z": [
            0,
            10
           ]
          },
          {
           "line": {
            "color": "red",
            "width": 5
           },
           "marker": {
            "color": "red",
            "size": 5
           },
           "mode": "lines+markers",
           "type": "scatter3d",
           "x": [
            0,
            6.278021156584924
           ],
           "y": [
            0,
            3.685980243771267
           ],
           "z": [
            0,
            1
           ]
          }
         ]
        },
        {
         "data": [
          {
           "line": {
            "color": "blue",
            "width": 5
           },
           "marker": {
            "color": "blue",
            "size": 5
           },
           "mode": "lines+markers",
           "type": "scatter3d",
           "x": [
            0,
            7.53718759775734
           ],
           "y": [
            0,
            -5.0190440440598785
           ],
           "z": [
            0,
            5
           ]
          },
          {
           "line": {
            "color": "green",
            "width": 5
           },
           "marker": {
            "color": "green",
            "size": 5
           },
           "mode": "lines+markers",
           "type": "scatter3d",
           "x": [
            0,
            3.3371948818651362
           ],
           "y": [
            0,
            2.4213901627893715
           ],
           "z": [
            0,
            10
           ]
          },
          {
           "line": {
            "color": "red",
            "width": 5
           },
           "marker": {
            "color": "red",
            "size": 5
           },
           "mode": "lines+markers",
           "type": "scatter3d",
           "x": [
            0,
            6.031602154043733
           ],
           "y": [
            0,
            4.076735882459765
           ],
           "z": [
            0,
            1
           ]
          }
         ]
        },
        {
         "data": [
          {
           "line": {
            "color": "blue",
            "width": 5
           },
           "marker": {
            "color": "blue",
            "size": 5
           },
           "mode": "lines+markers",
           "type": "scatter3d",
           "x": [
            0,
            7.8403402468341685
           ],
           "y": [
            0,
            -4.530901103960702
           ],
           "z": [
            0,
            5
           ]
          },
          {
           "line": {
            "color": "green",
            "width": 5
           },
           "marker": {
            "color": "green",
            "size": 5
           },
           "mode": "lines+markers",
           "type": "scatter3d",
           "x": [
            0,
            3.1769019737496196
           ],
           "y": [
            0,
            2.628173101069595
           ],
           "z": [
            0,
            10
           ]
          },
          {
           "line": {
            "color": "red",
            "width": 5
           },
           "marker": {
            "color": "red",
            "size": 5
           },
           "mode": "lines+markers",
           "type": "scatter3d",
           "x": [
            0,
            5.760896018444599
           ],
           "y": [
            0,
            4.451075944608131
           ],
           "z": [
            0,
            1
           ]
          }
         ]
        },
        {
         "data": [
          {
           "line": {
            "color": "blue",
            "width": 5
           },
           "marker": {
            "color": "blue",
            "size": 5
           },
           "mode": "lines+markers",
           "type": "scatter3d",
           "x": [
            0,
            8.111922612936228
           ],
           "y": [
            0,
            -4.024513824269196
           ],
           "z": [
            0,
            5
           ]
          },
          {
           "line": {
            "color": "green",
            "width": 5
           },
           "marker": {
            "color": "green",
            "size": 5
           },
           "mode": "lines+markers",
           "type": "scatter3d",
           "x": [
            0,
            3.0038168026535708
           ],
           "y": [
            0,
            2.8243733138691276
           ],
           "z": [
            0,
            10
           ]
          },
          {
           "line": {
            "color": "red",
            "width": 5
           },
           "marker": {
            "color": "red",
            "size": 5
           },
           "mode": "lines+markers",
           "type": "scatter3d",
           "x": [
            0,
            5.466992787851545
           ],
           "y": [
            0,
            4.807493094907073
           ],
           "z": [
            0,
            1
           ]
          }
         ]
        },
        {
         "data": [
          {
           "line": {
            "color": "blue",
            "width": 5
           },
           "marker": {
            "color": "blue",
            "size": 5
           },
           "mode": "lines+markers",
           "type": "scatter3d",
           "x": [
            0,
            8.350841129728533
           ],
           "y": [
            0,
            -3.501921247834434
           ],
           "z": [
            0,
            5
           ]
          },
          {
           "line": {
            "color": "green",
            "width": 5
           },
           "marker": {
            "color": "green",
            "size": 5
           },
           "mode": "lines+markers",
           "type": "scatter3d",
           "x": [
            0,
            2.81863632147166
           ],
           "y": [
            0,
            3.0092007721786707
           ],
           "z": [
            0,
            10
           ]
          },
          {
           "line": {
            "color": "red",
            "width": 5
           },
           "marker": {
            "color": "red",
            "size": 5
           },
           "mode": "lines+markers",
           "type": "scatter3d",
           "x": [
            0,
            5.151075906842852
           ],
           "y": [
            0,
            5.144552167287556
           ],
           "z": [
            0,
            1
           ]
          }
         ]
        },
        {
         "data": [
          {
           "line": {
            "color": "blue",
            "width": 5
           },
           "marker": {
            "color": "blue",
            "size": 5
           },
           "mode": "lines+markers",
           "type": "scatter3d",
           "x": [
            0,
            8.55613375666876
           ],
           "y": [
            0,
            -2.9652276705159264
           ],
           "z": [
            0,
            5
           ]
          },
          {
           "line": {
            "color": "green",
            "width": 5
           },
           "marker": {
            "color": "green",
            "size": 5
           },
           "mode": "lines+markers",
           "type": "scatter3d",
           "x": [
            0,
            2.622106186643309
           ],
           "y": [
            0,
            3.1819112410573123
           ],
           "z": [
            0,
            10
           ]
          },
          {
           "line": {
            "color": "red",
            "width": 5
           },
           "marker": {
            "color": "red",
            "size": 5
           },
           "mode": "lines+markers",
           "type": "scatter3d",
           "x": [
            0,
            4.814417461197445
           ],
           "y": [
            0,
            5.460895943828003
           ],
           "z": [
            0,
            1
           ]
          }
         ]
        },
        {
         "data": [
          {
           "line": {
            "color": "blue",
            "width": 5
           },
           "marker": {
            "color": "blue",
            "size": 5
           },
           "mode": "lines+markers",
           "type": "scatter3d",
           "x": [
            0,
            8.726973852804981
           ],
           "y": [
            0,
            -2.4165941679268728
           ],
           "z": [
            0,
            5
           ]
          },
          {
           "line": {
            "color": "green",
            "width": 5
           },
           "marker": {
            "color": "green",
            "size": 5
           },
           "mode": "lines+markers",
           "type": "scatter3d",
           "x": [
            0,
            2.4150177556573817
           ],
           "y": [
            0,
            3.3418092764039633
           ],
           "z": [
            0,
            10
           ]
          },
          {
           "line": {
            "color": "red",
            "width": 5
           },
           "marker": {
            "color": "red",
            "size": 5
           },
           "mode": "lines+markers",
           "type": "scatter3d",
           "x": [
            0,
            4.458373055654436
           ],
           "y": [
            0,
            5.755250619791854
           ],
           "z": [
            0,
            1
           ]
          }
         ]
        },
        {
         "data": [
          {
           "line": {
            "color": "blue",
            "width": 5
           },
           "marker": {
            "color": "blue",
            "size": 5
           },
           "mode": "lines+markers",
           "type": "scatter3d",
           "x": [
            0,
            8.862673505366997
           ],
           "y": [
            0,
            -1.8582298935454382
           ],
           "z": [
            0,
            5
           ]
          },
          {
           "line": {
            "color": "green",
            "width": 5
           },
           "marker": {
            "color": "green",
            "size": 5
           },
           "mode": "lines+markers",
           "type": "scatter3d",
           "x": [
            0,
            2.198204900534894
           ],
           "y": [
            0,
            3.4882510252652947
           ],
           "z": [
            0,
            10
           ]
          },
          {
           "line": {
            "color": "red",
            "width": 5
           },
           "marker": {
            "color": "red",
            "size": 5
           },
           "mode": "lines+markers",
           "type": "scatter3d",
           "x": [
            0,
            4.0843763553713
           ],
           "y": [
            0,
            6.026430932789644
           ],
           "z": [
            0,
            1
           ]
          }
         ]
        },
        {
         "data": [
          {
           "line": {
            "color": "blue",
            "width": 5
           },
           "marker": {
            "color": "blue",
            "size": 5
           },
           "mode": "lines+markers",
           "type": "scatter3d",
           "x": [
            0,
            8.962686299748286
           ],
           "y": [
            0,
            -1.2923831832333583
           ],
           "z": [
            0,
            5
           ]
          },
          {
           "line": {
            "color": "green",
            "width": 5
           },
           "marker": {
            "color": "green",
            "size": 5
           },
           "mode": "lines+markers",
           "type": "scatter3d",
           "x": [
            0,
            1.9725406501206737
           ],
           "y": [
            0,
            3.6206468184043454
           ],
           "z": [
            0,
            10
           ]
          },
          {
           "line": {
            "color": "red",
            "width": 5
           },
           "marker": {
            "color": "red",
            "size": 5
           },
           "mode": "lines+markers",
           "type": "scatter3d",
           "x": [
            0,
            3.6939333130602683
           ],
           "y": [
            0,
            6.273344935412335
           ],
           "z": [
            0,
            1
           ]
          }
         ]
        },
        {
         "data": [
          {
           "line": {
            "color": "blue",
            "width": 5
           },
           "marker": {
            "color": "blue",
            "size": 5
           },
           "mode": "lines+markers",
           "type": "scatter3d",
           "x": [
            0,
            9.02660951972477
           ],
           "y": [
            0,
            -0.7213325019809809
           ],
           "z": [
            0,
            5
           ]
          },
          {
           "line": {
            "color": "green",
            "width": 5
           },
           "marker": {
            "color": "green",
            "size": 5
           },
           "mode": "lines+markers",
           "type": "scatter3d",
           "x": [
            0,
            1.7389336747043458
           ],
           "y": [
            0,
            3.7384635446904175
           ],
           "z": [
            0,
            10
           ]
          },
          {
           "line": {
            "color": "red",
            "width": 5
           },
           "marker": {
            "color": "red",
            "size": 5
           },
           "mode": "lines+markers",
           "type": "scatter3d",
           "x": [
            0,
            3.288616105048282
           ],
           "y": [
            0,
            6.494998392118128
           ],
           "z": [
            0,
            1
           ]
          }
         ]
        },
        {
         "data": [
          {
           "line": {
            "color": "blue",
            "width": 5
           },
           "marker": {
            "color": "blue",
            "size": 5
           },
           "mode": "lines+markers",
           "type": "scatter3d",
           "x": [
            0,
            9.054185769050907
           ],
           "y": [
            0,
            -0.14737726933294604
           ],
           "z": [
            0,
            5
           ]
          },
          {
           "line": {
            "color": "green",
            "width": 5
           },
           "marker": {
            "color": "green",
            "size": 5
           },
           "mode": "lines+markers",
           "type": "scatter3d",
           "x": [
            0,
            1.4983246271257915
           ],
           "y": [
            0,
            3.8412267977494325
           ],
           "z": [
            0,
            10
           ]
          },
          {
           "line": {
            "color": "red",
            "width": 5
           },
           "marker": {
            "color": "red",
            "size": 5
           },
           "mode": "lines+markers",
           "type": "scatter3d",
           "x": [
            0,
            2.870056800677834
           ],
           "y": [
            0,
            6.690498782668069
           ],
           "z": [
            0,
            1
           ]
          }
         ]
        },
        {
         "data": [
          {
           "line": {
            "color": "blue",
            "width": 5
           },
           "marker": {
            "color": "blue",
            "size": 5
           },
           "mode": "lines+markers",
           "type": "scatter3d",
           "x": [
            0,
            9.045304007903525
           ],
           "y": [
            0,
            0.4271713995628038
           ],
           "z": [
            0,
            5
           ]
          },
          {
           "line": {
            "color": "green",
            "width": 5
           },
           "marker": {
            "color": "green",
            "size": 5
           },
           "mode": "lines+markers",
           "type": "scatter3d",
           "x": [
            0,
            1.2516823550981426
           ],
           "y": [
            0,
            3.9285227862309733
           ],
           "z": [
            0,
            10
           ]
          },
          {
           "line": {
            "color": "red",
            "width": 5
           },
           "marker": {
            "color": "red",
            "size": 5
           },
           "mode": "lines+markers",
           "type": "scatter3d",
           "x": [
            0,
            2.4399407905397203
           ],
           "y": [
            0,
            6.859058895990062
           ],
           "z": [
            0,
            1
           ]
          }
         ]
        },
        {
         "data": [
          {
           "line": {
            "color": "blue",
            "width": 5
           },
           "marker": {
            "color": "blue",
            "size": 5
           },
           "mode": "lines+markers",
           "type": "scatter3d",
           "x": [
            0,
            9
           ],
           "y": [
            0,
            0.9999999999999978
           ],
           "z": [
            0,
            5
           ]
          },
          {
           "line": {
            "color": "green",
            "width": 5
           },
           "marker": {
            "color": "green",
            "size": 5
           },
           "mode": "lines+markers",
           "type": "scatter3d",
           "x": [
            0,
            1.0000000000000009
           ],
           "y": [
            0,
            3.9999999999999996
           ],
           "z": [
            0,
            10
           ]
          },
          {
           "line": {
            "color": "red",
            "width": 5
           },
           "marker": {
            "color": "red",
            "size": 5
           },
           "mode": "lines+markers",
           "type": "scatter3d",
           "x": [
            0,
            2.0000000000000018
           ],
           "y": [
            0,
            6.999999999999999
           ],
           "z": [
            0,
            1
           ]
          }
         ]
        }
       ],
       "layout": {
        "height": 700,
        "plot_bgcolor": "white",
        "scene": {
         "xaxis": {
          "range": [
           -2,
           2
          ],
          "zeroline": true
         },
         "yaxis": {
          "range": [
           -2,
           2
          ],
          "zeroline": true
         },
         "zaxis": {
          "range": [
           -2,
           2
          ],
          "zeroline": true
         }
        },
        "showlegend": true,
        "template": {
         "data": {
          "bar": [
           {
            "error_x": {
             "color": "#2a3f5f"
            },
            "error_y": {
             "color": "#2a3f5f"
            },
            "marker": {
             "line": {
              "color": "#E5ECF6",
              "width": 0.5
             },
             "pattern": {
              "fillmode": "overlay",
              "size": 10,
              "solidity": 0.2
             }
            },
            "type": "bar"
           }
          ],
          "barpolar": [
           {
            "marker": {
             "line": {
              "color": "#E5ECF6",
              "width": 0.5
             },
             "pattern": {
              "fillmode": "overlay",
              "size": 10,
              "solidity": 0.2
             }
            },
            "type": "barpolar"
           }
          ],
          "carpet": [
           {
            "aaxis": {
             "endlinecolor": "#2a3f5f",
             "gridcolor": "white",
             "linecolor": "white",
             "minorgridcolor": "white",
             "startlinecolor": "#2a3f5f"
            },
            "baxis": {
             "endlinecolor": "#2a3f5f",
             "gridcolor": "white",
             "linecolor": "white",
             "minorgridcolor": "white",
             "startlinecolor": "#2a3f5f"
            },
            "type": "carpet"
           }
          ],
          "choropleth": [
           {
            "colorbar": {
             "outlinewidth": 0,
             "ticks": ""
            },
            "type": "choropleth"
           }
          ],
          "contour": [
           {
            "colorbar": {
             "outlinewidth": 0,
             "ticks": ""
            },
            "colorscale": [
             [
              0,
              "#0d0887"
             ],
             [
              0.1111111111111111,
              "#46039f"
             ],
             [
              0.2222222222222222,
              "#7201a8"
             ],
             [
              0.3333333333333333,
              "#9c179e"
             ],
             [
              0.4444444444444444,
              "#bd3786"
             ],
             [
              0.5555555555555556,
              "#d8576b"
             ],
             [
              0.6666666666666666,
              "#ed7953"
             ],
             [
              0.7777777777777778,
              "#fb9f3a"
             ],
             [
              0.8888888888888888,
              "#fdca26"
             ],
             [
              1,
              "#f0f921"
             ]
            ],
            "type": "contour"
           }
          ],
          "contourcarpet": [
           {
            "colorbar": {
             "outlinewidth": 0,
             "ticks": ""
            },
            "type": "contourcarpet"
           }
          ],
          "heatmap": [
           {
            "colorbar": {
             "outlinewidth": 0,
             "ticks": ""
            },
            "colorscale": [
             [
              0,
              "#0d0887"
             ],
             [
              0.1111111111111111,
              "#46039f"
             ],
             [
              0.2222222222222222,
              "#7201a8"
             ],
             [
              0.3333333333333333,
              "#9c179e"
             ],
             [
              0.4444444444444444,
              "#bd3786"
             ],
             [
              0.5555555555555556,
              "#d8576b"
             ],
             [
              0.6666666666666666,
              "#ed7953"
             ],
             [
              0.7777777777777778,
              "#fb9f3a"
             ],
             [
              0.8888888888888888,
              "#fdca26"
             ],
             [
              1,
              "#f0f921"
             ]
            ],
            "type": "heatmap"
           }
          ],
          "heatmapgl": [
           {
            "colorbar": {
             "outlinewidth": 0,
             "ticks": ""
            },
            "colorscale": [
             [
              0,
              "#0d0887"
             ],
             [
              0.1111111111111111,
              "#46039f"
             ],
             [
              0.2222222222222222,
              "#7201a8"
             ],
             [
              0.3333333333333333,
              "#9c179e"
             ],
             [
              0.4444444444444444,
              "#bd3786"
             ],
             [
              0.5555555555555556,
              "#d8576b"
             ],
             [
              0.6666666666666666,
              "#ed7953"
             ],
             [
              0.7777777777777778,
              "#fb9f3a"
             ],
             [
              0.8888888888888888,
              "#fdca26"
             ],
             [
              1,
              "#f0f921"
             ]
            ],
            "type": "heatmapgl"
           }
          ],
          "histogram": [
           {
            "marker": {
             "pattern": {
              "fillmode": "overlay",
              "size": 10,
              "solidity": 0.2
             }
            },
            "type": "histogram"
           }
          ],
          "histogram2d": [
           {
            "colorbar": {
             "outlinewidth": 0,
             "ticks": ""
            },
            "colorscale": [
             [
              0,
              "#0d0887"
             ],
             [
              0.1111111111111111,
              "#46039f"
             ],
             [
              0.2222222222222222,
              "#7201a8"
             ],
             [
              0.3333333333333333,
              "#9c179e"
             ],
             [
              0.4444444444444444,
              "#bd3786"
             ],
             [
              0.5555555555555556,
              "#d8576b"
             ],
             [
              0.6666666666666666,
              "#ed7953"
             ],
             [
              0.7777777777777778,
              "#fb9f3a"
             ],
             [
              0.8888888888888888,
              "#fdca26"
             ],
             [
              1,
              "#f0f921"
             ]
            ],
            "type": "histogram2d"
           }
          ],
          "histogram2dcontour": [
           {
            "colorbar": {
             "outlinewidth": 0,
             "ticks": ""
            },
            "colorscale": [
             [
              0,
              "#0d0887"
             ],
             [
              0.1111111111111111,
              "#46039f"
             ],
             [
              0.2222222222222222,
              "#7201a8"
             ],
             [
              0.3333333333333333,
              "#9c179e"
             ],
             [
              0.4444444444444444,
              "#bd3786"
             ],
             [
              0.5555555555555556,
              "#d8576b"
             ],
             [
              0.6666666666666666,
              "#ed7953"
             ],
             [
              0.7777777777777778,
              "#fb9f3a"
             ],
             [
              0.8888888888888888,
              "#fdca26"
             ],
             [
              1,
              "#f0f921"
             ]
            ],
            "type": "histogram2dcontour"
           }
          ],
          "mesh3d": [
           {
            "colorbar": {
             "outlinewidth": 0,
             "ticks": ""
            },
            "type": "mesh3d"
           }
          ],
          "parcoords": [
           {
            "line": {
             "colorbar": {
              "outlinewidth": 0,
              "ticks": ""
             }
            },
            "type": "parcoords"
           }
          ],
          "pie": [
           {
            "automargin": true,
            "type": "pie"
           }
          ],
          "scatter": [
           {
            "fillpattern": {
             "fillmode": "overlay",
             "size": 10,
             "solidity": 0.2
            },
            "type": "scatter"
           }
          ],
          "scatter3d": [
           {
            "line": {
             "colorbar": {
              "outlinewidth": 0,
              "ticks": ""
             }
            },
            "marker": {
             "colorbar": {
              "outlinewidth": 0,
              "ticks": ""
             }
            },
            "type": "scatter3d"
           }
          ],
          "scattercarpet": [
           {
            "marker": {
             "colorbar": {
              "outlinewidth": 0,
              "ticks": ""
             }
            },
            "type": "scattercarpet"
           }
          ],
          "scattergeo": [
           {
            "marker": {
             "colorbar": {
              "outlinewidth": 0,
              "ticks": ""
             }
            },
            "type": "scattergeo"
           }
          ],
          "scattergl": [
           {
            "marker": {
             "colorbar": {
              "outlinewidth": 0,
              "ticks": ""
             }
            },
            "type": "scattergl"
           }
          ],
          "scattermapbox": [
           {
            "marker": {
             "colorbar": {
              "outlinewidth": 0,
              "ticks": ""
             }
            },
            "type": "scattermapbox"
           }
          ],
          "scatterpolar": [
           {
            "marker": {
             "colorbar": {
              "outlinewidth": 0,
              "ticks": ""
             }
            },
            "type": "scatterpolar"
           }
          ],
          "scatterpolargl": [
           {
            "marker": {
             "colorbar": {
              "outlinewidth": 0,
              "ticks": ""
             }
            },
            "type": "scatterpolargl"
           }
          ],
          "scatterternary": [
           {
            "marker": {
             "colorbar": {
              "outlinewidth": 0,
              "ticks": ""
             }
            },
            "type": "scatterternary"
           }
          ],
          "surface": [
           {
            "colorbar": {
             "outlinewidth": 0,
             "ticks": ""
            },
            "colorscale": [
             [
              0,
              "#0d0887"
             ],
             [
              0.1111111111111111,
              "#46039f"
             ],
             [
              0.2222222222222222,
              "#7201a8"
             ],
             [
              0.3333333333333333,
              "#9c179e"
             ],
             [
              0.4444444444444444,
              "#bd3786"
             ],
             [
              0.5555555555555556,
              "#d8576b"
             ],
             [
              0.6666666666666666,
              "#ed7953"
             ],
             [
              0.7777777777777778,
              "#fb9f3a"
             ],
             [
              0.8888888888888888,
              "#fdca26"
             ],
             [
              1,
              "#f0f921"
             ]
            ],
            "type": "surface"
           }
          ],
          "table": [
           {
            "cells": {
             "fill": {
              "color": "#EBF0F8"
             },
             "line": {
              "color": "white"
             }
            },
            "header": {
             "fill": {
              "color": "#C8D4E3"
             },
             "line": {
              "color": "white"
             }
            },
            "type": "table"
           }
          ]
         },
         "layout": {
          "annotationdefaults": {
           "arrowcolor": "#2a3f5f",
           "arrowhead": 0,
           "arrowwidth": 1
          },
          "autotypenumbers": "strict",
          "coloraxis": {
           "colorbar": {
            "outlinewidth": 0,
            "ticks": ""
           }
          },
          "colorscale": {
           "diverging": [
            [
             0,
             "#8e0152"
            ],
            [
             0.1,
             "#c51b7d"
            ],
            [
             0.2,
             "#de77ae"
            ],
            [
             0.3,
             "#f1b6da"
            ],
            [
             0.4,
             "#fde0ef"
            ],
            [
             0.5,
             "#f7f7f7"
            ],
            [
             0.6,
             "#e6f5d0"
            ],
            [
             0.7,
             "#b8e186"
            ],
            [
             0.8,
             "#7fbc41"
            ],
            [
             0.9,
             "#4d9221"
            ],
            [
             1,
             "#276419"
            ]
           ],
           "sequential": [
            [
             0,
             "#0d0887"
            ],
            [
             0.1111111111111111,
             "#46039f"
            ],
            [
             0.2222222222222222,
             "#7201a8"
            ],
            [
             0.3333333333333333,
             "#9c179e"
            ],
            [
             0.4444444444444444,
             "#bd3786"
            ],
            [
             0.5555555555555556,
             "#d8576b"
            ],
            [
             0.6666666666666666,
             "#ed7953"
            ],
            [
             0.7777777777777778,
             "#fb9f3a"
            ],
            [
             0.8888888888888888,
             "#fdca26"
            ],
            [
             1,
             "#f0f921"
            ]
           ],
           "sequentialminus": [
            [
             0,
             "#0d0887"
            ],
            [
             0.1111111111111111,
             "#46039f"
            ],
            [
             0.2222222222222222,
             "#7201a8"
            ],
            [
             0.3333333333333333,
             "#9c179e"
            ],
            [
             0.4444444444444444,
             "#bd3786"
            ],
            [
             0.5555555555555556,
             "#d8576b"
            ],
            [
             0.6666666666666666,
             "#ed7953"
            ],
            [
             0.7777777777777778,
             "#fb9f3a"
            ],
            [
             0.8888888888888888,
             "#fdca26"
            ],
            [
             1,
             "#f0f921"
            ]
           ]
          },
          "colorway": [
           "#636efa",
           "#EF553B",
           "#00cc96",
           "#ab63fa",
           "#FFA15A",
           "#19d3f3",
           "#FF6692",
           "#B6E880",
           "#FF97FF",
           "#FECB52"
          ],
          "font": {
           "color": "#2a3f5f"
          },
          "geo": {
           "bgcolor": "white",
           "lakecolor": "white",
           "landcolor": "#E5ECF6",
           "showlakes": true,
           "showland": true,
           "subunitcolor": "white"
          },
          "hoverlabel": {
           "align": "left"
          },
          "hovermode": "closest",
          "mapbox": {
           "style": "light"
          },
          "paper_bgcolor": "white",
          "plot_bgcolor": "#E5ECF6",
          "polar": {
           "angularaxis": {
            "gridcolor": "white",
            "linecolor": "white",
            "ticks": ""
           },
           "bgcolor": "#E5ECF6",
           "radialaxis": {
            "gridcolor": "white",
            "linecolor": "white",
            "ticks": ""
           }
          },
          "scene": {
           "xaxis": {
            "backgroundcolor": "#E5ECF6",
            "gridcolor": "white",
            "gridwidth": 2,
            "linecolor": "white",
            "showbackground": true,
            "ticks": "",
            "zerolinecolor": "white"
           },
           "yaxis": {
            "backgroundcolor": "#E5ECF6",
            "gridcolor": "white",
            "gridwidth": 2,
            "linecolor": "white",
            "showbackground": true,
            "ticks": "",
            "zerolinecolor": "white"
           },
           "zaxis": {
            "backgroundcolor": "#E5ECF6",
            "gridcolor": "white",
            "gridwidth": 2,
            "linecolor": "white",
            "showbackground": true,
            "ticks": "",
            "zerolinecolor": "white"
           }
          },
          "shapedefaults": {
           "line": {
            "color": "#2a3f5f"
           }
          },
          "ternary": {
           "aaxis": {
            "gridcolor": "white",
            "linecolor": "white",
            "ticks": ""
           },
           "baxis": {
            "gridcolor": "white",
            "linecolor": "white",
            "ticks": ""
           },
           "bgcolor": "#E5ECF6",
           "caxis": {
            "gridcolor": "white",
            "linecolor": "white",
            "ticks": ""
           }
          },
          "title": {
           "x": 0.05
          },
          "xaxis": {
           "automargin": true,
           "gridcolor": "white",
           "linecolor": "white",
           "ticks": "",
           "title": {
            "standoff": 15
           },
           "zerolinecolor": "white",
           "zerolinewidth": 2
          },
          "yaxis": {
           "automargin": true,
           "gridcolor": "white",
           "linecolor": "white",
           "ticks": "",
           "title": {
            "standoff": 15
           },
           "zerolinecolor": "white",
           "zerolinewidth": 2
          }
         }
        },
        "title": {
         "text": "3D 선형 변환 애니메이션 (Plotly)"
        },
        "updatemenus": [
         {
          "buttons": [
           {
            "args": [
             null,
             {
              "frame": {
               "duration": 50,
               "redraw": true
              },
              "fromcurrent": true,
              "mode": "immediate"
             }
            ],
            "label": "Play",
            "method": "animate"
           },
           {
            "args": [
             [
              null
             ],
             {
              "frame": {
               "duration": 0,
               "redraw": false
              },
              "mode": "immediate"
             }
            ],
            "label": "Pause",
            "method": "animate"
           }
          ],
          "showactive": false,
          "type": "buttons"
         }
        ],
        "width": 700
       }
      }
     },
     "metadata": {},
     "output_type": "display_data"
    }
   ],
   "source": [
    "import numpy as np\n",
    "import plotly.graph_objects as go\n",
    "\n",
    "# 원래의 벡터들 정의 (3차원)\n",
    "v1 = np.array([9, 1, 5])  # x축 방향의 벡터\n",
    "v2 = np.array([1, 4, 10])  # y축 방향의 벡터\n",
    "v3 = np.array([2, 7, 1])  # z축 방향의 벡터\n",
    "\n",
    "# 애니메이션 프레임을 위한 회전 각도 정의\n",
    "theta_values = np.linspace(0, 2 * np.pi, 100)  # 0에서 360도까지 100단계\n",
    "\n",
    "# 회전축: z축을 기준으로 회전\n",
    "axis = np.array([0, 0, 1])\n",
    "\n",
    "# Plotly 그래프 생성\n",
    "fig = go.Figure()\n",
    "\n",
    "# 모든 프레임을 위한 데이터 설정\n",
    "frames = []\n",
    "for theta in theta_values:\n",
    "    # 회전 행렬 생성 (z축을 기준으로 회전)\n",
    "    c, s = np.cos(theta), np.sin(theta)\n",
    "    R = np.array([[c, -s, 0],\n",
    "                  [s,  c, 0],\n",
    "                  [0,  0, 1]])\n",
    "\n",
    "    # 각 벡터에 회전 변환 적용\n",
    "    v1_transformed = R @ v1\n",
    "    v2_transformed = R @ v2\n",
    "    v3_transformed = R @ v3\n",
    "    \n",
    "    # 각 프레임 추가\n",
    "    frames.append(go.Frame(data=[\n",
    "        go.Scatter3d(x=[0, v1_transformed[0]], y=[0, v1_transformed[1]], z=[0, v1_transformed[2]], \n",
    "                     mode='lines+markers', marker=dict(size=5, color='blue'), \n",
    "                     line=dict(width=5, color='blue')),\n",
    "        \n",
    "        go.Scatter3d(x=[0, v2_transformed[0]], y=[0, v2_transformed[1]], z=[0, v2_transformed[2]], \n",
    "                     mode='lines+markers', marker=dict(size=5, color='green'), \n",
    "                     line=dict(width=5, color='green')),\n",
    "\n",
    "        go.Scatter3d(x=[0, v3_transformed[0]], y=[0, v3_transformed[1]], z=[0, v3_transformed[2]], \n",
    "                     mode='lines+markers', marker=dict(size=5, color='red'), \n",
    "                     line=dict(width=5, color='red'))\n",
    "    ]))\n",
    "\n",
    "# 초기 상태 (원래 벡터들) 설정\n",
    "fig.add_trace(go.Scatter3d(x=[0, v1[0]], y=[0, v1[1]], z=[0, v1[2]], \n",
    "                           mode='lines+markers', \n",
    "                           marker=dict(size=5, color='blue'), \n",
    "                           line=dict(width=5, color='blue'), \n",
    "                           name='v1 (1, 0, 0)'))\n",
    "\n",
    "fig.add_trace(go.Scatter3d(x=[0, v2[0]], y=[0, v2[1]], z=[0, v2[2]], \n",
    "                           mode='lines+markers', \n",
    "                           marker=dict(size=5, color='green'), \n",
    "                           line=dict(width=5, color='green'), \n",
    "                           name='v2 (0, 1, 0)'))\n",
    "\n",
    "fig.add_trace(go.Scatter3d(x=[0, v3[0]], y=[0, v3[1]], z=[0, v3[2]], \n",
    "                           mode='lines+markers', \n",
    "                           marker=dict(size=5, color='red'), \n",
    "                           line=dict(width=5, color='red'), \n",
    "                           name='v3 (0, 0, 1)'))\n",
    "\n",
    "# 레이아웃 및 애니메이션 설정\n",
    "fig.update_layout(\n",
    "    scene=dict(\n",
    "        xaxis=dict(range=[-2, 2], zeroline=True),\n",
    "        yaxis=dict(range=[-2, 2], zeroline=True),\n",
    "        zaxis=dict(range=[-2, 2], zeroline=True)\n",
    "    ),\n",
    "    title=\"3D 선형 변환 애니메이션 (Plotly)\",\n",
    "    showlegend=True,\n",
    "    width=700,\n",
    "    height=700,\n",
    "    plot_bgcolor='white',\n",
    "    updatemenus=[dict(type=\"buttons\", showactive=False,\n",
    "                      buttons=[dict(label=\"Play\", method=\"animate\", \n",
    "                                    args=[None, dict(frame=dict(duration=50, redraw=True), \n",
    "                                                     fromcurrent=True, mode='immediate')]),\n",
    "                               dict(label=\"Pause\", method=\"animate\", \n",
    "                                    args=[[None], dict(frame=dict(duration=0, redraw=False), \n",
    "                                                       mode='immediate')])])])\n",
    "\n",
    "# 프레임 추가\n",
    "fig.frames = frames\n",
    "\n",
    "# 그래프 출력\n",
    "fig.show()"
   ]
  },
  {
   "cell_type": "code",
   "execution_count": 9,
   "metadata": {},
   "outputs": [
    {
     "name": "stdout",
     "output_type": "stream",
     "text": [
      "[1 1 1 1 1 1 1 1 1 1 1 1 1 1 1 1 1 1 1 1 1 1 1 1 1 1 1 1 1 1 1 1 1 1 1 1 1\n",
      " 1 1 1 1 1 1 1 1 1 1 1 1 1 2 0 2 0 0 0 0 0 0 0 0 0 0 0 0 0 0 0 0 0 0 0 0 0\n",
      " 0 0 0 2 0 0 0 0 0 0 0 0 0 0 0 0 0 0 0 0 0 0 0 0 0 0 2 0 2 2 2 2 0 2 2 2 2\n",
      " 2 2 0 0 2 2 2 2 0 2 0 2 0 2 2 0 0 2 2 2 2 2 0 2 2 2 2 0 2 2 2 0 2 2 2 0 2\n",
      " 2 0]\n"
     ]
    }
   ],
   "source": [
    "# 데이터포인트 : 150개 => 데이터포인트별로 레이블 부여(0, 1, 2), 품종은 아니다\n",
    "print(kmeans.labels_)"
   ]
  },
  {
   "cell_type": "code",
   "execution_count": 10,
   "metadata": {},
   "outputs": [
    {
     "data": {
      "text/html": [
       "<div>\n",
       "<style scoped>\n",
       "    .dataframe tbody tr th:only-of-type {\n",
       "        vertical-align: middle;\n",
       "    }\n",
       "\n",
       "    .dataframe tbody tr th {\n",
       "        vertical-align: top;\n",
       "    }\n",
       "\n",
       "    .dataframe thead th {\n",
       "        text-align: right;\n",
       "    }\n",
       "</style>\n",
       "<table border=\"1\" class=\"dataframe\">\n",
       "  <thead>\n",
       "    <tr style=\"text-align: right;\">\n",
       "      <th></th>\n",
       "      <th>sepal_length</th>\n",
       "      <th>sepal_width</th>\n",
       "      <th>petal_length</th>\n",
       "      <th>petal_width</th>\n",
       "      <th>target</th>\n",
       "    </tr>\n",
       "  </thead>\n",
       "  <tbody>\n",
       "    <tr>\n",
       "      <th>0</th>\n",
       "      <td>5.1</td>\n",
       "      <td>3.5</td>\n",
       "      <td>1.4</td>\n",
       "      <td>0.2</td>\n",
       "      <td>0</td>\n",
       "    </tr>\n",
       "    <tr>\n",
       "      <th>1</th>\n",
       "      <td>4.9</td>\n",
       "      <td>3.0</td>\n",
       "      <td>1.4</td>\n",
       "      <td>0.2</td>\n",
       "      <td>0</td>\n",
       "    </tr>\n",
       "    <tr>\n",
       "      <th>2</th>\n",
       "      <td>4.7</td>\n",
       "      <td>3.2</td>\n",
       "      <td>1.3</td>\n",
       "      <td>0.2</td>\n",
       "      <td>0</td>\n",
       "    </tr>\n",
       "    <tr>\n",
       "      <th>3</th>\n",
       "      <td>4.6</td>\n",
       "      <td>3.1</td>\n",
       "      <td>1.5</td>\n",
       "      <td>0.2</td>\n",
       "      <td>0</td>\n",
       "    </tr>\n",
       "    <tr>\n",
       "      <th>4</th>\n",
       "      <td>5.0</td>\n",
       "      <td>3.6</td>\n",
       "      <td>1.4</td>\n",
       "      <td>0.2</td>\n",
       "      <td>0</td>\n",
       "    </tr>\n",
       "  </tbody>\n",
       "</table>\n",
       "</div>"
      ],
      "text/plain": [
       "   sepal_length  sepal_width  petal_length  petal_width  target\n",
       "0           5.1          3.5           1.4          0.2       0\n",
       "1           4.9          3.0           1.4          0.2       0\n",
       "2           4.7          3.2           1.3          0.2       0\n",
       "3           4.6          3.1           1.5          0.2       0\n",
       "4           5.0          3.6           1.4          0.2       0"
      ]
     },
     "execution_count": 10,
     "metadata": {},
     "output_type": "execute_result"
    }
   ],
   "source": [
    "# 원래답과 위 레이블의 정확도를 확인\n",
    "# irisDF에 원래답 추가\n",
    "irisDF['target'] = iris.target\n",
    "irisDF.head()"
   ]
  },
  {
   "cell_type": "code",
   "execution_count": 11,
   "metadata": {},
   "outputs": [
    {
     "data": {
      "text/html": [
       "<div>\n",
       "<style scoped>\n",
       "    .dataframe tbody tr th:only-of-type {\n",
       "        vertical-align: middle;\n",
       "    }\n",
       "\n",
       "    .dataframe tbody tr th {\n",
       "        vertical-align: top;\n",
       "    }\n",
       "\n",
       "    .dataframe thead th {\n",
       "        text-align: right;\n",
       "    }\n",
       "</style>\n",
       "<table border=\"1\" class=\"dataframe\">\n",
       "  <thead>\n",
       "    <tr style=\"text-align: right;\">\n",
       "      <th></th>\n",
       "      <th>sepal_length</th>\n",
       "      <th>sepal_width</th>\n",
       "      <th>petal_length</th>\n",
       "      <th>petal_width</th>\n",
       "      <th>target</th>\n",
       "      <th>cluster</th>\n",
       "    </tr>\n",
       "  </thead>\n",
       "  <tbody>\n",
       "    <tr>\n",
       "      <th>0</th>\n",
       "      <td>5.1</td>\n",
       "      <td>3.5</td>\n",
       "      <td>1.4</td>\n",
       "      <td>0.2</td>\n",
       "      <td>0</td>\n",
       "      <td>1</td>\n",
       "    </tr>\n",
       "    <tr>\n",
       "      <th>1</th>\n",
       "      <td>4.9</td>\n",
       "      <td>3.0</td>\n",
       "      <td>1.4</td>\n",
       "      <td>0.2</td>\n",
       "      <td>0</td>\n",
       "      <td>1</td>\n",
       "    </tr>\n",
       "    <tr>\n",
       "      <th>2</th>\n",
       "      <td>4.7</td>\n",
       "      <td>3.2</td>\n",
       "      <td>1.3</td>\n",
       "      <td>0.2</td>\n",
       "      <td>0</td>\n",
       "      <td>1</td>\n",
       "    </tr>\n",
       "    <tr>\n",
       "      <th>3</th>\n",
       "      <td>4.6</td>\n",
       "      <td>3.1</td>\n",
       "      <td>1.5</td>\n",
       "      <td>0.2</td>\n",
       "      <td>0</td>\n",
       "      <td>1</td>\n",
       "    </tr>\n",
       "    <tr>\n",
       "      <th>4</th>\n",
       "      <td>5.0</td>\n",
       "      <td>3.6</td>\n",
       "      <td>1.4</td>\n",
       "      <td>0.2</td>\n",
       "      <td>0</td>\n",
       "      <td>1</td>\n",
       "    </tr>\n",
       "  </tbody>\n",
       "</table>\n",
       "</div>"
      ],
      "text/plain": [
       "   sepal_length  sepal_width  petal_length  petal_width  target  cluster\n",
       "0           5.1          3.5           1.4          0.2       0        1\n",
       "1           4.9          3.0           1.4          0.2       0        1\n",
       "2           4.7          3.2           1.3          0.2       0        1\n",
       "3           4.6          3.1           1.5          0.2       0        1\n",
       "4           5.0          3.6           1.4          0.2       0        1"
      ]
     },
     "execution_count": 11,
     "metadata": {},
     "output_type": "execute_result"
    }
   ],
   "source": [
    "# 데이터프레임에 레이블을 추가\n",
    "irisDF['cluster'] = kmeans.labels_\n",
    "irisDF.head()"
   ]
  },
  {
   "cell_type": "code",
   "execution_count": 13,
   "metadata": {},
   "outputs": [
    {
     "data": {
      "text/plain": [
       "target  cluster\n",
       "0       1          50\n",
       "1       0          47\n",
       "        2           3\n",
       "2       0          14\n",
       "        2          36\n",
       "Name: sepal_length, dtype: int64"
      ]
     },
     "execution_count": 13,
     "metadata": {},
     "output_type": "execute_result"
    }
   ],
   "source": [
    "# 그룹핑\n",
    "iris_result = irisDF.groupby(['target', 'cluster'])['sepal_length'].count()\n",
    "iris_result"
   ]
  },
  {
   "cell_type": "code",
   "execution_count": 14,
   "metadata": {},
   "outputs": [
    {
     "data": {
      "text/html": [
       "<div>\n",
       "<style scoped>\n",
       "    .dataframe tbody tr th:only-of-type {\n",
       "        vertical-align: middle;\n",
       "    }\n",
       "\n",
       "    .dataframe tbody tr th {\n",
       "        vertical-align: top;\n",
       "    }\n",
       "\n",
       "    .dataframe thead th {\n",
       "        text-align: right;\n",
       "    }\n",
       "</style>\n",
       "<table border=\"1\" class=\"dataframe\">\n",
       "  <thead>\n",
       "    <tr style=\"text-align: right;\">\n",
       "      <th></th>\n",
       "      <th>sepal_length</th>\n",
       "      <th>sepal_width</th>\n",
       "      <th>petal_length</th>\n",
       "      <th>petal_width</th>\n",
       "      <th>target</th>\n",
       "      <th>cluster</th>\n",
       "      <th>pca_x</th>\n",
       "      <th>pca_y</th>\n",
       "    </tr>\n",
       "  </thead>\n",
       "  <tbody>\n",
       "    <tr>\n",
       "      <th>0</th>\n",
       "      <td>5.1</td>\n",
       "      <td>3.5</td>\n",
       "      <td>1.4</td>\n",
       "      <td>0.2</td>\n",
       "      <td>0</td>\n",
       "      <td>1</td>\n",
       "      <td>-2.684126</td>\n",
       "      <td>0.319397</td>\n",
       "    </tr>\n",
       "    <tr>\n",
       "      <th>1</th>\n",
       "      <td>4.9</td>\n",
       "      <td>3.0</td>\n",
       "      <td>1.4</td>\n",
       "      <td>0.2</td>\n",
       "      <td>0</td>\n",
       "      <td>1</td>\n",
       "      <td>-2.714142</td>\n",
       "      <td>-0.177001</td>\n",
       "    </tr>\n",
       "    <tr>\n",
       "      <th>2</th>\n",
       "      <td>4.7</td>\n",
       "      <td>3.2</td>\n",
       "      <td>1.3</td>\n",
       "      <td>0.2</td>\n",
       "      <td>0</td>\n",
       "      <td>1</td>\n",
       "      <td>-2.888991</td>\n",
       "      <td>-0.144949</td>\n",
       "    </tr>\n",
       "  </tbody>\n",
       "</table>\n",
       "</div>"
      ],
      "text/plain": [
       "   sepal_length  sepal_width  petal_length  petal_width  target  cluster  \\\n",
       "0           5.1          3.5           1.4          0.2       0        1   \n",
       "1           4.9          3.0           1.4          0.2       0        1   \n",
       "2           4.7          3.2           1.3          0.2       0        1   \n",
       "\n",
       "      pca_x     pca_y  \n",
       "0 -2.684126  0.319397  \n",
       "1 -2.714142 -0.177001  \n",
       "2 -2.888991 -0.144949  "
      ]
     },
     "execution_count": 14,
     "metadata": {},
     "output_type": "execute_result"
    }
   ],
   "source": [
    "from sklearn.decomposition import PCA\n",
    "\n",
    "pca = PCA(n_components=2)\n",
    "pca_transformed = pca.fit_transform(iris.data)\n",
    "\n",
    "irisDF['pca_x'] = pca_transformed[:,0]\n",
    "irisDF['pca_y'] = pca_transformed[:,1]\n",
    "irisDF.head(3)"
   ]
  },
  {
   "cell_type": "code",
   "execution_count": 18,
   "metadata": {},
   "outputs": [
    {
     "data": {
      "image/png": "[encoded data removed]",
      "text/plain": [
       "<Figure size 640x480 with 1 Axes>"
      ]
     },
     "metadata": {},
     "output_type": "display_data"
    }
   ],
   "source": [
    "# 군집 값이 0, 1, 2인 경우마다 별도의 인덱스(행)로 추출\n",
    "marker0_ind = irisDF[irisDF['cluster']==0].index\n",
    "marker1_ind = irisDF[irisDF['cluster']==1].index\n",
    "marker2_ind = irisDF[irisDF['cluster']==2].index\n",
    "\n",
    "# 군집 값 0, 1, 2에 해당하는 인덱스로 각 군집 레벨의 pca_x, pca_y 값 추출. o, s, ^ 로 마커 표시\n",
    "plt.scatter(x=irisDF.loc[marker0_ind, 'pca_x'], y=irisDF.loc[marker0_ind, 'pca_y'], marker='o')\n",
    "plt.scatter(x=irisDF.loc[marker1_ind, 'pca_x'], y=irisDF.loc[marker1_ind, 'pca_y'], marker='s')\n",
    "plt.scatter(x=irisDF.loc[marker2_ind, 'pca_x'], y=irisDF.loc[marker2_ind, 'pca_y'], marker='^')\n",
    "\n",
    "plt.xlabel('PCA 1')\n",
    "plt.ylabel('PCA 2')\n",
    "plt.title('3 Clusters Visualization by 2 PCA Components')\n",
    "plt.show()"
   ]
  },
  {
   "cell_type": "code",
   "execution_count": 25,
   "metadata": {},
   "outputs": [
    {
     "name": "stdout",
     "output_type": "stream",
     "text": [
      "(200, 2) (200,)\n",
      "[0 1 2] [67 67 66]\n"
     ]
    }
   ],
   "source": [
    "import numpy as np\n",
    "import matplotlib.pyplot as plt\n",
    "from sklearn.cluster import KMeans\n",
    "from sklearn.datasets import make_blobs\n",
    "%matplotlib inline\n",
    "\n",
    "X, y = make_blobs(n_samples=200, n_features=2, centers=3, cluster_std=1.6, random_state=0)\n",
    "print(X.shape, y.shape)\n",
    "\n",
    "# y target 값의 분포를 확인\n",
    "unique, counts = np.unique(y, return_counts=True)\n",
    "print(unique,counts)"
   ]
  },
  {
   "cell_type": "code",
   "execution_count": 26,
   "metadata": {},
   "outputs": [
    {
     "data": {
      "text/html": [
       "<div>\n",
       "<style scoped>\n",
       "    .dataframe tbody tr th:only-of-type {\n",
       "        vertical-align: middle;\n",
       "    }\n",
       "\n",
       "    .dataframe tbody tr th {\n",
       "        vertical-align: top;\n",
       "    }\n",
       "\n",
       "    .dataframe thead th {\n",
       "        text-align: right;\n",
       "    }\n",
       "</style>\n",
       "<table border=\"1\" class=\"dataframe\">\n",
       "  <thead>\n",
       "    <tr style=\"text-align: right;\">\n",
       "      <th></th>\n",
       "      <th>ftr1</th>\n",
       "      <th>ftr2</th>\n",
       "      <th>target</th>\n",
       "    </tr>\n",
       "  </thead>\n",
       "  <tbody>\n",
       "    <tr>\n",
       "      <th>0</th>\n",
       "      <td>-1.857950</td>\n",
       "      <td>4.326169</td>\n",
       "      <td>2</td>\n",
       "    </tr>\n",
       "    <tr>\n",
       "      <th>1</th>\n",
       "      <td>0.419611</td>\n",
       "      <td>4.553946</td>\n",
       "      <td>0</td>\n",
       "    </tr>\n",
       "    <tr>\n",
       "      <th>2</th>\n",
       "      <td>1.224186</td>\n",
       "      <td>4.908847</td>\n",
       "      <td>0</td>\n",
       "    </tr>\n",
       "  </tbody>\n",
       "</table>\n",
       "</div>"
      ],
      "text/plain": [
       "       ftr1      ftr2  target\n",
       "0 -1.857950  4.326169       2\n",
       "1  0.419611  4.553946       0\n",
       "2  1.224186  4.908847       0"
      ]
     },
     "execution_count": 26,
     "metadata": {},
     "output_type": "execute_result"
    }
   ],
   "source": [
    "import pandas as pd\n",
    "\n",
    "clusterDF = pd.DataFrame(data=X, columns=['ftr1', 'ftr2'])\n",
    "clusterDF['target'] = y\n",
    "clusterDF.head(3)"
   ]
  },
  {
   "cell_type": "code",
   "execution_count": 27,
   "metadata": {},
   "outputs": [
    {
     "data": {
      "image/png": "[encoded data removed]",
      "text/plain": [
       "<Figure size 640x480 with 1 Axes>"
      ]
     },
     "metadata": {},
     "output_type": "display_data"
    }
   ],
   "source": [
    "target_list = np.unique(y) # [0, 1, 2]\n",
    "# 각 타깃별 산점도의 마커 값.\n",
    "markers=['o', 's', '^']\n",
    "# 3개의 군집 영역으로 구분한 데이터 세트를 생성했으므로 target_list는 [0, 1, 2]\n",
    "# target==0, target==1, target==2 로 scatter plot을 marker별로 생성.\n",
    "for target in target_list:\n",
    "    target_cluster = clusterDF[clusterDF['target']==target]\n",
    "    plt.scatter(x=target_cluster['ftr1'], y=target_cluster['ftr2'], edgecolor='k',\n",
    "                marker=markers[target] )\n",
    "\n",
    "plt.show()"
   ]
  },
  {
   "cell_type": "code",
   "execution_count": 28,
   "metadata": {},
   "outputs": [
    {
     "name": "stderr",
     "output_type": "stream",
     "text": [
      "c:\\ProgramData\\anaconda3\\envs\\ml-dev\\lib\\site-packages\\sklearn\\cluster\\_kmeans.py:1429: UserWarning:\n",
      "\n",
      "KMeans is known to have a memory leak on Windows with MKL, when there are less chunks than available threads. You can avoid it by setting the environment variable OMP_NUM_THREADS=1.\n",
      "\n"
     ]
    },
    {
     "data": {
      "image/png": "[encoded data removed]",
      "text/plain": [
       "<Figure size 640x480 with 1 Axes>"
      ]
     },
     "metadata": {},
     "output_type": "display_data"
    }
   ],
   "source": [
    "# KMeans 객체를 이용하여 X 데이터를 K-Means 클러스터링 수행 \n",
    "kmeans = KMeans(n_clusters=3, init='k-means++', max_iter=200, random_state=0)\n",
    "cluster_labels = kmeans.fit_predict(X)\n",
    "clusterDF['kmeans_label']  = cluster_labels\n",
    "\n",
    "#cluster_centers_ 는 개별 클러스터의 중심 위치 좌표 시각화를 위해 추출\n",
    "centers = kmeans.cluster_centers_\n",
    "unique_labels = np.unique(cluster_labels)\n",
    "markers=['o', 's', '^']\n",
    "\n",
    "# 군집된 label 유형별로 iteration 하면서 marker 별로 scatter plot 수행. \n",
    "for label in unique_labels:\n",
    "    label_cluster = clusterDF[clusterDF['kmeans_label']==label]\n",
    "    center_x_y = centers[label]\n",
    "    plt.scatter(x=label_cluster['ftr1'], y=label_cluster['ftr2'], edgecolor='k', \n",
    "                marker=markers[label] )\n",
    "    \n",
    "    # 군집별 중심 위치 좌표 시각화 \n",
    "    plt.scatter(x=center_x_y[0], y=center_x_y[1], s=200, color='white',\n",
    "                alpha=0.9, edgecolor='k', marker=markers[label])\n",
    "    plt.scatter(x=center_x_y[0], y=center_x_y[1], s=70, color='k', edgecolor='k', \n",
    "                marker='$%d$' % label)\n",
    "\n",
    "plt.show()"
   ]
  },
  {
   "cell_type": "code",
   "execution_count": 29,
   "metadata": {},
   "outputs": [
    {
     "name": "stdout",
     "output_type": "stream",
     "text": [
      "target  kmeans_label\n",
      "0       0               53\n",
      "        2                8\n",
      "        1                6\n",
      "1       1               57\n",
      "        2                6\n",
      "        0                4\n",
      "2       2               57\n",
      "        0                6\n",
      "        1                3\n",
      "Name: count, dtype: int64\n"
     ]
    }
   ],
   "source": [
    "# clustering\n",
    "# target : 원래답\n",
    "# kmeans_label : 군집화한 결과 값\n",
    "print(clusterDF.groupby('target')['kmeans_label'].value_counts())"
   ]
  },
  {
   "cell_type": "code",
   "execution_count": 30,
   "metadata": {},
   "outputs": [
    {
     "name": "stdout",
     "output_type": "stream",
     "text": [
      "silhouette_samples( ) return 값의 shape (150,)\n",
      "붓꽃 데이터셋 Silhouette Analysis Score:0.551\n"
     ]
    },
    {
     "name": "stderr",
     "output_type": "stream",
     "text": [
      "c:\\ProgramData\\anaconda3\\envs\\ml-dev\\lib\\site-packages\\sklearn\\cluster\\_kmeans.py:1429: UserWarning:\n",
      "\n",
      "KMeans is known to have a memory leak on Windows with MKL, when there are less chunks than available threads. You can avoid it by setting the environment variable OMP_NUM_THREADS=1.\n",
      "\n"
     ]
    },
    {
     "data": {
      "text/html": [
       "<div>\n",
       "<style scoped>\n",
       "    .dataframe tbody tr th:only-of-type {\n",
       "        vertical-align: middle;\n",
       "    }\n",
       "\n",
       "    .dataframe tbody tr th {\n",
       "        vertical-align: top;\n",
       "    }\n",
       "\n",
       "    .dataframe thead th {\n",
       "        text-align: right;\n",
       "    }\n",
       "</style>\n",
       "<table border=\"1\" class=\"dataframe\">\n",
       "  <thead>\n",
       "    <tr style=\"text-align: right;\">\n",
       "      <th></th>\n",
       "      <th>sepal_length</th>\n",
       "      <th>sepal_width</th>\n",
       "      <th>petal_length</th>\n",
       "      <th>petal_width</th>\n",
       "      <th>cluster</th>\n",
       "      <th>silhouette_coeff</th>\n",
       "    </tr>\n",
       "  </thead>\n",
       "  <tbody>\n",
       "    <tr>\n",
       "      <th>0</th>\n",
       "      <td>5.1</td>\n",
       "      <td>3.5</td>\n",
       "      <td>1.4</td>\n",
       "      <td>0.2</td>\n",
       "      <td>1</td>\n",
       "      <td>0.852582</td>\n",
       "    </tr>\n",
       "    <tr>\n",
       "      <th>1</th>\n",
       "      <td>4.9</td>\n",
       "      <td>3.0</td>\n",
       "      <td>1.4</td>\n",
       "      <td>0.2</td>\n",
       "      <td>1</td>\n",
       "      <td>0.814916</td>\n",
       "    </tr>\n",
       "    <tr>\n",
       "      <th>2</th>\n",
       "      <td>4.7</td>\n",
       "      <td>3.2</td>\n",
       "      <td>1.3</td>\n",
       "      <td>0.2</td>\n",
       "      <td>1</td>\n",
       "      <td>0.828797</td>\n",
       "    </tr>\n",
       "  </tbody>\n",
       "</table>\n",
       "</div>"
      ],
      "text/plain": [
       "   sepal_length  sepal_width  petal_length  petal_width  cluster  \\\n",
       "0           5.1          3.5           1.4          0.2        1   \n",
       "1           4.9          3.0           1.4          0.2        1   \n",
       "2           4.7          3.2           1.3          0.2        1   \n",
       "\n",
       "   silhouette_coeff  \n",
       "0          0.852582  \n",
       "1          0.814916  \n",
       "2          0.828797  "
      ]
     },
     "execution_count": 30,
     "metadata": {},
     "output_type": "execute_result"
    }
   ],
   "source": [
    "from sklearn.preprocessing import scale\n",
    "from sklearn.datasets import load_iris\n",
    "from sklearn.cluster import KMeans\n",
    "# 실루엣 분석 metric 값을 구하기 위한 API 추가\n",
    "from sklearn.metrics import silhouette_samples, silhouette_score\n",
    "import matplotlib.pyplot as plt\n",
    "import numpy as np\n",
    "import pandas as pd\n",
    "\n",
    "%matplotlib inline\n",
    "\n",
    "iris = load_iris()\n",
    "feature_names = ['sepal_length','sepal_width','petal_length','petal_width']\n",
    "irisDF = pd.DataFrame(data=iris.data, columns=feature_names)\n",
    "kmeans = KMeans(n_clusters=3, init='k-means++', max_iter=300,random_state=0).fit(irisDF)\n",
    "\n",
    "irisDF['cluster'] = kmeans.labels_ # 데이터포인트(150개)별 군집 결과\n",
    "\n",
    "# iris 의 모든 개별 데이터에 실루엣 계수값을 구함. \n",
    "score_samples = silhouette_samples(iris.data, irisDF['cluster'])\n",
    "print('silhouette_samples( ) return 값의 shape' , score_samples.shape)\n",
    "\n",
    "# irisDF에 실루엣 계수 컬럼 추가\n",
    "irisDF['silhouette_coeff'] = score_samples\n",
    "\n",
    "# 모든 데이터의 평균 실루엣 계수값을 구함. \n",
    "average_score = silhouette_score(iris.data, irisDF['cluster'])\n",
    "print('붓꽃 데이터셋 Silhouette Analysis Score:{0:.3f}'.format(average_score))\n",
    "\n",
    "irisDF.head(3)"
   ]
  },
  {
   "cell_type": "code",
   "execution_count": 31,
   "metadata": {},
   "outputs": [
    {
     "data": {
      "text/plain": [
       "cluster\n",
       "0    0.422323\n",
       "1    0.797604\n",
       "2    0.436842\n",
       "Name: silhouette_coeff, dtype: float64"
      ]
     },
     "execution_count": 31,
     "metadata": {},
     "output_type": "execute_result"
    }
   ],
   "source": [
    "irisDF.groupby('cluster')['silhouette_coeff'].mean()"
   ]
  },
  {
   "cell_type": "code",
   "execution_count": 38,
   "metadata": {},
   "outputs": [
    {
     "name": "stdout",
     "output_type": "stream",
     "text": [
      "<class 'pandas.core.frame.DataFrame'>\n",
      "Index: 21 entries, 50 to 149\n",
      "Data columns (total 6 columns):\n",
      " #   Column            Non-Null Count  Dtype  \n",
      "---  ------            --------------  -----  \n",
      " 0   sepal_length      21 non-null     float64\n",
      " 1   sepal_width       21 non-null     float64\n",
      " 2   petal_length      21 non-null     float64\n",
      " 3   petal_width       21 non-null     float64\n",
      " 4   cluster           21 non-null     int32  \n",
      " 5   silhouette_coeff  21 non-null     float64\n",
      "dtypes: float64(5), int32(1)\n",
      "memory usage: 1.1 KB\n"
     ]
    }
   ],
   "source": [
    "# cluster == 0\n",
    "irisDF[irisDF['silhouette_coeff'] < 0.3].info()"
   ]
  },
  {
   "cell_type": "code",
   "execution_count": 39,
   "metadata": {},
   "outputs": [],
   "source": [
    "### 여러개의 클러스터링 갯수를 List로 입력 받아 각각의 실루엣 계수를 면적으로 시각화한 함수 작성\n",
    "def visualize_silhouette(cluster_lists, X_features): \n",
    "    \n",
    "    from sklearn.datasets import make_blobs\n",
    "    from sklearn.cluster import KMeans\n",
    "    from sklearn.metrics import silhouette_samples, silhouette_score\n",
    "\n",
    "    import matplotlib.pyplot as plt\n",
    "    import matplotlib.cm as cm\n",
    "    import math\n",
    "    \n",
    "    # 입력값으로 클러스터링 갯수들을 리스트로 받아서, 각 갯수별로 클러스터링을 적용하고 실루엣 개수를 구함\n",
    "    n_cols = len(cluster_lists)\n",
    "    \n",
    "    # plt.subplots()으로 리스트에 기재된 클러스터링 수만큼의 sub figures를 가지는 axs 생성 \n",
    "    fig, axs = plt.subplots(figsize=(4*n_cols, 4), nrows=1, ncols=n_cols)\n",
    "    \n",
    "    # 리스트에 기재된 클러스터링 갯수들을 차례로 iteration 수행하면서 실루엣 개수 시각화\n",
    "    for ind, n_cluster in enumerate(cluster_lists):\n",
    "        \n",
    "        # KMeans 클러스터링 수행하고, 실루엣 스코어와 개별 데이터의 실루엣 값 계산. \n",
    "        clusterer = KMeans(n_clusters = n_cluster, max_iter=500, random_state=0)\n",
    "        cluster_labels = clusterer.fit_predict(X_features)\n",
    "        \n",
    "        sil_avg = silhouette_score(X_features, cluster_labels)\n",
    "        sil_values = silhouette_samples(X_features, cluster_labels)\n",
    "        \n",
    "        y_lower = 10\n",
    "        axs[ind].set_title('Number of Cluster : '+ str(n_cluster)+'\\n' \\\n",
    "                          'Silhouette Score :' + str(round(sil_avg,3)) )\n",
    "        axs[ind].set_xlabel(\"The silhouette coefficient values\")\n",
    "        axs[ind].set_ylabel(\"Cluster label\")\n",
    "        axs[ind].set_xlim([-0.1, 1])\n",
    "        axs[ind].set_ylim([0, len(X_features) + (n_cluster + 1) * 10])\n",
    "        axs[ind].set_yticks([])  # Clear the yaxis labels / ticks\n",
    "        axs[ind].set_xticks([0, 0.2, 0.4, 0.6, 0.8, 1])\n",
    "        \n",
    "        # 클러스터링 갯수별로 fill_betweenx( )형태의 막대 그래프 표현. \n",
    "        for i in range(n_cluster):\n",
    "            ith_cluster_sil_values = sil_values[cluster_labels==i]\n",
    "            ith_cluster_sil_values.sort()\n",
    "            \n",
    "            size_cluster_i = ith_cluster_sil_values.shape[0]\n",
    "            y_upper = y_lower + size_cluster_i\n",
    "            \n",
    "            color = cm.nipy_spectral(float(i) / n_cluster)\n",
    "            axs[ind].fill_betweenx(np.arange(y_lower, y_upper), 0, ith_cluster_sil_values, \\\n",
    "                                facecolor=color, edgecolor=color, alpha=0.7)\n",
    "            axs[ind].text(-0.05, y_lower + 0.5 * size_cluster_i, str(i))\n",
    "            y_lower = y_upper + 10\n",
    "            \n",
    "        axs[ind].axvline(x=sil_avg, color=\"red\", linestyle=\"--\")"
   ]
  },
  {
   "cell_type": "code",
   "execution_count": 40,
   "metadata": {},
   "outputs": [
    {
     "name": "stderr",
     "output_type": "stream",
     "text": [
      "c:\\ProgramData\\anaconda3\\envs\\ml-dev\\lib\\site-packages\\sklearn\\cluster\\_kmeans.py:1429: UserWarning:\n",
      "\n",
      "KMeans is known to have a memory leak on Windows with MKL, when there are less chunks than available threads. You can avoid it by setting the environment variable OMP_NUM_THREADS=2.\n",
      "\n",
      "c:\\ProgramData\\anaconda3\\envs\\ml-dev\\lib\\site-packages\\sklearn\\cluster\\_kmeans.py:1429: UserWarning:\n",
      "\n",
      "KMeans is known to have a memory leak on Windows with MKL, when there are less chunks than available threads. You can avoid it by setting the environment variable OMP_NUM_THREADS=2.\n",
      "\n",
      "c:\\ProgramData\\anaconda3\\envs\\ml-dev\\lib\\site-packages\\sklearn\\cluster\\_kmeans.py:1429: UserWarning:\n",
      "\n",
      "KMeans is known to have a memory leak on Windows with MKL, when there are less chunks than available threads. You can avoid it by setting the environment variable OMP_NUM_THREADS=2.\n",
      "\n",
      "c:\\ProgramData\\anaconda3\\envs\\ml-dev\\lib\\site-packages\\sklearn\\cluster\\_kmeans.py:1429: UserWarning:\n",
      "\n",
      "KMeans is known to have a memory leak on Windows with MKL, when there are less chunks than available threads. You can avoid it by setting the environment variable OMP_NUM_THREADS=2.\n",
      "\n"
     ]
    },
    {
     "data": {
      "image/png": "[encoded data removed]",
      "text/plain": [
       "<Figure size 1600x400 with 4 Axes>"
      ]
     },
     "metadata": {},
     "output_type": "display_data"
    }
   ],
   "source": [
    "# make_blobs 을 통해 clustering 을 위한 4개의 클러스터 중심의 500개 2차원 데이터 셋 생성  \n",
    "from sklearn.datasets import make_blobs\n",
    "X, y = make_blobs(n_samples=500, n_features=2, centers=4, cluster_std=1, \\\n",
    "                  center_box=(-10.0, 10.0), shuffle=True, random_state=1)  \n",
    "\n",
    "# cluster 개수를 2개, 3개, 4개, 5개 일때의 클러스터별 실루엣 계수 평균값을 시각화 \n",
    "visualize_silhouette([ 2, 3, 4, 5], X)"
   ]
  },
  {
   "cell_type": "code",
   "execution_count": 41,
   "metadata": {},
   "outputs": [
    {
     "name": "stderr",
     "output_type": "stream",
     "text": [
      "c:\\ProgramData\\anaconda3\\envs\\ml-dev\\lib\\site-packages\\sklearn\\cluster\\_kmeans.py:1429: UserWarning:\n",
      "\n",
      "KMeans is known to have a memory leak on Windows with MKL, when there are less chunks than available threads. You can avoid it by setting the environment variable OMP_NUM_THREADS=1.\n",
      "\n",
      "c:\\ProgramData\\anaconda3\\envs\\ml-dev\\lib\\site-packages\\sklearn\\cluster\\_kmeans.py:1429: UserWarning:\n",
      "\n",
      "KMeans is known to have a memory leak on Windows with MKL, when there are less chunks than available threads. You can avoid it by setting the environment variable OMP_NUM_THREADS=1.\n",
      "\n",
      "c:\\ProgramData\\anaconda3\\envs\\ml-dev\\lib\\site-packages\\sklearn\\cluster\\_kmeans.py:1429: UserWarning:\n",
      "\n",
      "KMeans is known to have a memory leak on Windows with MKL, when there are less chunks than available threads. You can avoid it by setting the environment variable OMP_NUM_THREADS=1.\n",
      "\n",
      "c:\\ProgramData\\anaconda3\\envs\\ml-dev\\lib\\site-packages\\sklearn\\cluster\\_kmeans.py:1429: UserWarning:\n",
      "\n",
      "KMeans is known to have a memory leak on Windows with MKL, when there are less chunks than available threads. You can avoid it by setting the environment variable OMP_NUM_THREADS=1.\n",
      "\n"
     ]
    },
    {
     "data": {
      "image/png": "[encoded data removed]",
      "text/plain": [
       "<Figure size 1600x400 with 4 Axes>"
      ]
     },
     "metadata": {},
     "output_type": "display_data"
    }
   ],
   "source": [
    "from sklearn.datasets import load_iris\n",
    "\n",
    "iris=load_iris()\n",
    "visualize_silhouette([ 2, 3, 4,5 ], iris.data)"
   ]
  },
  {
   "cell_type": "code",
   "execution_count": 42,
   "metadata": {},
   "outputs": [],
   "source": [
    "### 클러스터 결과를 담은 DataFrame과 사이킷런의 Cluster 객체등을 인자로 받아 클러스터링 결과를 시각화하는 함수  \n",
    "def visualize_cluster_plot(clusterobj, dataframe, label_name, iscenter=True):\n",
    "    if iscenter :\n",
    "        centers = clusterobj.cluster_centers_\n",
    "        \n",
    "    unique_labels = np.unique(dataframe[label_name].values)\n",
    "    markers=['o', 's', '^', 'x', '*']\n",
    "    isNoise=False\n",
    "\n",
    "    for label in unique_labels:\n",
    "        label_cluster = dataframe[dataframe[label_name]==label]\n",
    "        if label == -1:\n",
    "            cluster_legend = 'Noise'\n",
    "            isNoise=True\n",
    "        else :\n",
    "            cluster_legend = 'Cluster '+str(label)\n",
    "        \n",
    "        plt.scatter(x=label_cluster['ftr1'], y=label_cluster['ftr2'], s=70,\\\n",
    "                    edgecolor='k', marker=markers[label], label=cluster_legend)\n",
    "        \n",
    "        if iscenter:\n",
    "            center_x_y = centers[label]\n",
    "            plt.scatter(x=center_x_y[0], y=center_x_y[1], s=250, color='white',\n",
    "                        alpha=0.9, edgecolor='k', marker=markers[label])\n",
    "            plt.scatter(x=center_x_y[0], y=center_x_y[1], s=70, color='k',\\\n",
    "                        edgecolor='k', marker='$%d$' % label)\n",
    "    if isNoise:\n",
    "        legend_loc='upper center'\n",
    "    else: legend_loc='upper right'\n",
    "    \n",
    "    plt.legend(loc=legend_loc)\n",
    "    plt.show()"
   ]
  },
  {
   "cell_type": "code",
   "execution_count": 43,
   "metadata": {},
   "outputs": [],
   "source": [
    "from sklearn.datasets import make_blobs\n",
    "\n",
    "# make_blobs() 로 300개의 데이터 셋, 3개의 cluster 셋, cluster_std=0.5 을 만듬. \n",
    "X, y = make_blobs(n_samples=300, n_features=2, centers=3, cluster_std=0.5, random_state=0)"
   ]
  },
  {
   "cell_type": "code",
   "execution_count": 45,
   "metadata": {},
   "outputs": [
    {
     "data": {
      "text/html": [
       "<div>\n",
       "<style scoped>\n",
       "    .dataframe tbody tr th:only-of-type {\n",
       "        vertical-align: middle;\n",
       "    }\n",
       "\n",
       "    .dataframe tbody tr th {\n",
       "        vertical-align: top;\n",
       "    }\n",
       "\n",
       "    .dataframe thead th {\n",
       "        text-align: right;\n",
       "    }\n",
       "</style>\n",
       "<table border=\"1\" class=\"dataframe\">\n",
       "  <thead>\n",
       "    <tr style=\"text-align: right;\">\n",
       "      <th></th>\n",
       "      <th>ftr1</th>\n",
       "      <th>ftr2</th>\n",
       "    </tr>\n",
       "  </thead>\n",
       "  <tbody>\n",
       "    <tr>\n",
       "      <th>0</th>\n",
       "      <td>0.519859</td>\n",
       "      <td>4.862295</td>\n",
       "    </tr>\n",
       "    <tr>\n",
       "      <th>1</th>\n",
       "      <td>1.692469</td>\n",
       "      <td>0.205982</td>\n",
       "    </tr>\n",
       "    <tr>\n",
       "      <th>2</th>\n",
       "      <td>1.356789</td>\n",
       "      <td>4.364625</td>\n",
       "    </tr>\n",
       "    <tr>\n",
       "      <th>3</th>\n",
       "      <td>-1.569869</td>\n",
       "      <td>3.015029</td>\n",
       "    </tr>\n",
       "    <tr>\n",
       "      <th>4</th>\n",
       "      <td>-1.636675</td>\n",
       "      <td>2.375864</td>\n",
       "    </tr>\n",
       "  </tbody>\n",
       "</table>\n",
       "</div>"
      ],
      "text/plain": [
       "       ftr1      ftr2\n",
       "0  0.519859  4.862295\n",
       "1  1.692469  0.205982\n",
       "2  1.356789  4.364625\n",
       "3 -1.569869  3.015029\n",
       "4 -1.636675  2.375864"
      ]
     },
     "execution_count": 45,
     "metadata": {},
     "output_type": "execute_result"
    }
   ],
   "source": [
    "clusterDF = pd.DataFrame(\n",
    "    data=X, # X 원 데이터\n",
    "    columns=['ftr1', 'ftr2']\n",
    ")\n",
    "clusterDF.head()"
   ]
  },
  {
   "cell_type": "code",
   "execution_count": 46,
   "metadata": {},
   "outputs": [
    {
     "data": {
      "text/html": [
       "<div>\n",
       "<style scoped>\n",
       "    .dataframe tbody tr th:only-of-type {\n",
       "        vertical-align: middle;\n",
       "    }\n",
       "\n",
       "    .dataframe tbody tr th {\n",
       "        vertical-align: top;\n",
       "    }\n",
       "\n",
       "    .dataframe thead th {\n",
       "        text-align: right;\n",
       "    }\n",
       "</style>\n",
       "<table border=\"1\" class=\"dataframe\">\n",
       "  <thead>\n",
       "    <tr style=\"text-align: right;\">\n",
       "      <th></th>\n",
       "      <th>ftr1</th>\n",
       "      <th>ftr2</th>\n",
       "      <th>target</th>\n",
       "    </tr>\n",
       "  </thead>\n",
       "  <tbody>\n",
       "    <tr>\n",
       "      <th>0</th>\n",
       "      <td>0.519859</td>\n",
       "      <td>4.862295</td>\n",
       "      <td>0</td>\n",
       "    </tr>\n",
       "    <tr>\n",
       "      <th>1</th>\n",
       "      <td>1.692469</td>\n",
       "      <td>0.205982</td>\n",
       "      <td>1</td>\n",
       "    </tr>\n",
       "    <tr>\n",
       "      <th>2</th>\n",
       "      <td>1.356789</td>\n",
       "      <td>4.364625</td>\n",
       "      <td>0</td>\n",
       "    </tr>\n",
       "    <tr>\n",
       "      <th>3</th>\n",
       "      <td>-1.569869</td>\n",
       "      <td>3.015029</td>\n",
       "      <td>2</td>\n",
       "    </tr>\n",
       "    <tr>\n",
       "      <th>4</th>\n",
       "      <td>-1.636675</td>\n",
       "      <td>2.375864</td>\n",
       "      <td>2</td>\n",
       "    </tr>\n",
       "  </tbody>\n",
       "</table>\n",
       "</div>"
      ],
      "text/plain": [
       "       ftr1      ftr2  target\n",
       "0  0.519859  4.862295       0\n",
       "1  1.692469  0.205982       1\n",
       "2  1.356789  4.364625       0\n",
       "3 -1.569869  3.015029       2\n",
       "4 -1.636675  2.375864       2"
      ]
     },
     "execution_count": 46,
     "metadata": {},
     "output_type": "execute_result"
    }
   ],
   "source": [
    "clusterDF['target'] = y\n",
    "clusterDF.head()"
   ]
  },
  {
   "cell_type": "code",
   "execution_count": 47,
   "metadata": {},
   "outputs": [
    {
     "data": {
      "image/png": "[encoded data removed]",
      "text/plain": [
       "<Figure size 640x480 with 1 Axes>"
      ]
     },
     "metadata": {},
     "output_type": "display_data"
    }
   ],
   "source": [
    "visualize_cluster_plot(None, clusterDF, 'target', iscenter=False)"
   ]
  },
  {
   "cell_type": "code",
   "execution_count": 48,
   "metadata": {},
   "outputs": [
    {
     "data": {
      "image/png": "[encoded data removed]",
      "text/plain": [
       "<Figure size 640x480 with 1 Axes>"
      ]
     },
     "metadata": {},
     "output_type": "display_data"
    }
   ],
   "source": [
    "from sklearn.datasets import make_blobs\n",
    "\n",
    "# make_blobs() 로 300개의 데이터 셋, 3개의 cluster 셋, cluster_std=0.5 을 만듬. \n",
    "X, y = make_blobs(n_samples=300, n_features=2, centers=3, cluster_std=0.5, random_state=0)\n",
    "\n",
    "# 길게 늘어난 타원형의 데이터 셋을 생성하기 위해 변환함. \n",
    "transformation = [[0.60834549, -0.63667341], [-0.40887718, 0.85253229]]\n",
    "X_aniso = np.dot(X, transformation) # 내적 => 변환\n",
    "# feature 데이터 셋과 make_blobs( ) 의 y 결과 값을 DataFrame으로 저장\n",
    "clusterDF = pd.DataFrame(data=X_aniso, columns=['ftr1', 'ftr2'])\n",
    "clusterDF['target'] = y\n",
    "# 생성된 데이터 셋을 target 별로 다른 marker 로 표시하여 시각화 함. \n",
    "visualize_cluster_plot(None, clusterDF, 'target', iscenter=False)"
   ]
  },
  {
   "cell_type": "code",
   "execution_count": 49,
   "metadata": {},
   "outputs": [
    {
     "name": "stderr",
     "output_type": "stream",
     "text": [
      "c:\\ProgramData\\anaconda3\\envs\\ml-dev\\lib\\site-packages\\sklearn\\cluster\\_kmeans.py:1429: UserWarning:\n",
      "\n",
      "KMeans is known to have a memory leak on Windows with MKL, when there are less chunks than available threads. You can avoid it by setting the environment variable OMP_NUM_THREADS=2.\n",
      "\n"
     ]
    },
    {
     "data": {
      "image/png": "[encoded data removed]",
      "text/plain": [
       "<Figure size 640x480 with 1 Axes>"
      ]
     },
     "metadata": {},
     "output_type": "display_data"
    }
   ],
   "source": [
    "# 3개의 Cluster 기반 Kmeans 를 X_aniso 데이터 셋에 적용 \n",
    "kmeans = KMeans(3, random_state=0)\n",
    "kmeans_label = kmeans.fit_predict(X_aniso)\n",
    "clusterDF['kmeans_label'] = kmeans_label\n",
    "\n",
    "visualize_cluster_plot(kmeans, clusterDF, 'kmeans_label',iscenter=True)"
   ]
  },
  {
   "cell_type": "code",
   "execution_count": 51,
   "metadata": {},
   "outputs": [
    {
     "name": "stderr",
     "output_type": "stream",
     "text": [
      "c:\\ProgramData\\anaconda3\\envs\\ml-dev\\lib\\site-packages\\sklearn\\cluster\\_kmeans.py:1429: UserWarning:\n",
      "\n",
      "KMeans is known to have a memory leak on Windows with MKL, when there are less chunks than available threads. You can avoid it by setting the environment variable OMP_NUM_THREADS=2.\n",
      "\n"
     ]
    },
    {
     "data": {
      "image/png": "[encoded data removed]",
      "text/plain": [
       "<Figure size 640x480 with 1 Axes>"
      ]
     },
     "metadata": {},
     "output_type": "display_data"
    }
   ],
   "source": [
    "from sklearn.mixture import GaussianMixture\n",
    "# 3개의 n_components기반 GMM을 X_aniso 데이터 셋에 적용 \n",
    "gmm = GaussianMixture(n_components=3, random_state=0)\n",
    "gmm_label = gmm.fit(X_aniso).predict(X_aniso)\n",
    "clusterDF['gmm_label'] = gmm_label\n",
    "\n",
    "# GaussianMixture는 cluster_centers_ 속성이 없으므로 iscenter를 False로 설정. \n",
    "visualize_cluster_plot(gmm, clusterDF, 'gmm_label',iscenter=False)"
   ]
  },
  {
   "cell_type": "code",
   "execution_count": 52,
   "metadata": {},
   "outputs": [
    {
     "name": "stdout",
     "output_type": "stream",
     "text": [
      "### KMeans Clustering ###\n",
      "target  kmeans_label\n",
      "0       2                73\n",
      "        0                27\n",
      "1       1               100\n",
      "2       0                86\n",
      "        2                14\n",
      "Name: count, dtype: int64\n",
      "\n",
      "### Gaussian Mixture Clustering ###\n",
      "target  gmm_label\n",
      "0       2            100\n",
      "1       1            100\n",
      "2       0            100\n",
      "Name: count, dtype: int64\n"
     ]
    }
   ],
   "source": [
    "print('### KMeans Clustering ###')\n",
    "print(clusterDF.groupby('target')['kmeans_label'].value_counts())\n",
    "print('\\n### Gaussian Mixture Clustering ###')\n",
    "print(clusterDF.groupby('target')['gmm_label'].value_counts())"
   ]
  },
  {
   "cell_type": "code",
   "execution_count": 53,
   "metadata": {},
   "outputs": [],
   "source": [
    "from sklearn.datasets import load_iris\n",
    "\n",
    "import matplotlib.pyplot as plt\n",
    "import numpy as np\n",
    "import pandas as pd\n",
    "%matplotlib inline\n",
    "\n",
    "iris = load_iris()\n",
    "feature_names = ['sepal_length','sepal_width','petal_length','petal_width']\n",
    "\n",
    "# 보다 편리한 데이타 Handling을 위해 DataFrame으로 변환\n",
    "irisDF = pd.DataFrame(data=iris.data, columns=feature_names)\n",
    "irisDF['target'] = iris.target"
   ]
  },
  {
   "cell_type": "code",
   "execution_count": 64,
   "metadata": {},
   "outputs": [
    {
     "name": "stdout",
     "output_type": "stream",
     "text": [
      "target  dbscan_cluster\n",
      "0        0                49\n",
      "        -1                 1\n",
      "1        1                46\n",
      "        -1                 4\n",
      "2        1                42\n",
      "        -1                 8\n",
      "Name: count, dtype: int64\n"
     ]
    }
   ],
   "source": [
    "from sklearn.cluster import DBSCAN\n",
    "\n",
    "dbscan = DBSCAN(eps=0.6, min_samples=8, metric='euclidean')\n",
    "dbscan_labels = dbscan.fit_predict(iris.data)\n",
    "\n",
    "irisDF['dbscan_cluster'] = dbscan_labels\n",
    "irisDF['target'] = iris.target\n",
    "\n",
    "iris_result = irisDF.groupby(['target'])['dbscan_cluster'].value_counts()\n",
    "print(iris_result)"
   ]
  },
  {
   "cell_type": "code",
   "execution_count": 65,
   "metadata": {},
   "outputs": [],
   "source": [
    "### 클러스터 결과를 담은 DataFrame과 사이킷런의 Cluster 객체등을 인자로 받아 클러스터링 결과를 시각화하는 함수  \n",
    "def visualize_cluster_plot(clusterobj, dataframe, label_name, iscenter=True):\n",
    "    if iscenter :\n",
    "        centers = clusterobj.cluster_centers_\n",
    "        \n",
    "    unique_labels = np.unique(dataframe[label_name].values)\n",
    "    markers=['o', 's', '^', 'x', '*']\n",
    "    isNoise=False\n",
    "\n",
    "    for label in unique_labels:\n",
    "        label_cluster = dataframe[dataframe[label_name]==label]\n",
    "        if label == -1:\n",
    "            cluster_legend = 'Noise'\n",
    "            isNoise=True\n",
    "        else :\n",
    "            cluster_legend = 'Cluster '+str(label)\n",
    "        \n",
    "        plt.scatter(x=label_cluster['ftr1'], y=label_cluster['ftr2'], s=70,\\\n",
    "                    edgecolor='k', marker=markers[label], label=cluster_legend)\n",
    "        \n",
    "        if iscenter:\n",
    "            center_x_y = centers[label]\n",
    "            plt.scatter(x=center_x_y[0], y=center_x_y[1], s=250, color='white',\n",
    "                        alpha=0.9, edgecolor='k', marker=markers[label])\n",
    "            plt.scatter(x=center_x_y[0], y=center_x_y[1], s=70, color='k',\\\n",
    "                        edgecolor='k', marker='$%d$' % label)\n",
    "    if isNoise:\n",
    "        legend_loc='upper center'\n",
    "    else: legend_loc='upper right'\n",
    "    \n",
    "    plt.legend(loc=legend_loc)\n",
    "    plt.show()"
   ]
  },
  {
   "cell_type": "code",
   "execution_count": 66,
   "metadata": {},
   "outputs": [
    {
     "data": {
      "image/png": "[encoded data removed]",
      "text/plain": [
       "<Figure size 640x480 with 1 Axes>"
      ]
     },
     "metadata": {},
     "output_type": "display_data"
    }
   ],
   "source": [
    "from sklearn.decomposition import PCA\n",
    "# 2차원으로 시각화하기 위해 PCA n_componets=2로 피처 데이터 세트 변환\n",
    "pca = PCA(n_components=2, random_state=0)\n",
    "pca_transformed = pca.fit_transform(iris.data)\n",
    "# visualize_cluster_2d( ) 함수는 ftr1, ftr2 컬럼을 좌표에 표현하므로 PCA 변환값을 해당 컬럼으로 생성\n",
    "irisDF['ftr1'] = pca_transformed[:,0]\n",
    "irisDF['ftr2'] = pca_transformed[:,1]\n",
    "\n",
    "visualize_cluster_plot(dbscan, irisDF, 'dbscan_cluster', iscenter=False)"
   ]
  },
  {
   "cell_type": "code",
   "execution_count": 67,
   "metadata": {},
   "outputs": [
    {
     "name": "stdout",
     "output_type": "stream",
     "text": [
      "target  dbscan_cluster\n",
      "0        0                50\n",
      "1        1                50\n",
      "2        1                47\n",
      "        -1                 3\n",
      "Name: count, dtype: int64\n"
     ]
    },
    {
     "data": {
      "image/png": "[encoded data removed]",
      "text/plain": [
       "<Figure size 640x480 with 1 Axes>"
      ]
     },
     "metadata": {},
     "output_type": "display_data"
    }
   ],
   "source": [
    "from sklearn.cluster import DBSCAN\n",
    "\n",
    "dbscan = DBSCAN(eps=0.8, min_samples=8, metric='euclidean')\n",
    "dbscan_labels = dbscan.fit_predict(iris.data)\n",
    "\n",
    "irisDF['dbscan_cluster'] = dbscan_labels\n",
    "irisDF['target'] = iris.target\n",
    "\n",
    "iris_result = irisDF.groupby(['target'])['dbscan_cluster'].value_counts()\n",
    "print(iris_result)\n",
    "\n",
    "visualize_cluster_plot(dbscan, irisDF, 'dbscan_cluster', iscenter=False)\n",
    "\n"
   ]
  },
  {
   "cell_type": "code",
   "execution_count": 69,
   "metadata": {},
   "outputs": [
    {
     "data": {
      "text/html": [
       "<div>\n",
       "<style scoped>\n",
       "    .dataframe tbody tr th:only-of-type {\n",
       "        vertical-align: middle;\n",
       "    }\n",
       "\n",
       "    .dataframe tbody tr th {\n",
       "        vertical-align: top;\n",
       "    }\n",
       "\n",
       "    .dataframe thead th {\n",
       "        text-align: right;\n",
       "    }\n",
       "</style>\n",
       "<table border=\"1\" class=\"dataframe\">\n",
       "  <thead>\n",
       "    <tr style=\"text-align: right;\">\n",
       "      <th></th>\n",
       "      <th>sepal_length</th>\n",
       "      <th>sepal_width</th>\n",
       "      <th>petal_length</th>\n",
       "      <th>petal_width</th>\n",
       "      <th>target</th>\n",
       "      <th>dbscan_cluster</th>\n",
       "      <th>ftr1</th>\n",
       "      <th>ftr2</th>\n",
       "    </tr>\n",
       "  </thead>\n",
       "  <tbody>\n",
       "    <tr>\n",
       "      <th>0</th>\n",
       "      <td>5.1</td>\n",
       "      <td>3.5</td>\n",
       "      <td>1.4</td>\n",
       "      <td>0.2</td>\n",
       "      <td>0</td>\n",
       "      <td>0</td>\n",
       "      <td>-2.684126</td>\n",
       "      <td>0.319397</td>\n",
       "    </tr>\n",
       "    <tr>\n",
       "      <th>1</th>\n",
       "      <td>4.9</td>\n",
       "      <td>3.0</td>\n",
       "      <td>1.4</td>\n",
       "      <td>0.2</td>\n",
       "      <td>0</td>\n",
       "      <td>0</td>\n",
       "      <td>-2.714142</td>\n",
       "      <td>-0.177001</td>\n",
       "    </tr>\n",
       "    <tr>\n",
       "      <th>2</th>\n",
       "      <td>4.7</td>\n",
       "      <td>3.2</td>\n",
       "      <td>1.3</td>\n",
       "      <td>0.2</td>\n",
       "      <td>0</td>\n",
       "      <td>0</td>\n",
       "      <td>-2.888991</td>\n",
       "      <td>-0.144949</td>\n",
       "    </tr>\n",
       "    <tr>\n",
       "      <th>3</th>\n",
       "      <td>4.6</td>\n",
       "      <td>3.1</td>\n",
       "      <td>1.5</td>\n",
       "      <td>0.2</td>\n",
       "      <td>0</td>\n",
       "      <td>0</td>\n",
       "      <td>-2.745343</td>\n",
       "      <td>-0.318299</td>\n",
       "    </tr>\n",
       "    <tr>\n",
       "      <th>4</th>\n",
       "      <td>5.0</td>\n",
       "      <td>3.6</td>\n",
       "      <td>1.4</td>\n",
       "      <td>0.2</td>\n",
       "      <td>0</td>\n",
       "      <td>0</td>\n",
       "      <td>-2.728717</td>\n",
       "      <td>0.326755</td>\n",
       "    </tr>\n",
       "  </tbody>\n",
       "</table>\n",
       "</div>"
      ],
      "text/plain": [
       "   sepal_length  sepal_width  petal_length  petal_width  target  \\\n",
       "0           5.1          3.5           1.4          0.2       0   \n",
       "1           4.9          3.0           1.4          0.2       0   \n",
       "2           4.7          3.2           1.3          0.2       0   \n",
       "3           4.6          3.1           1.5          0.2       0   \n",
       "4           5.0          3.6           1.4          0.2       0   \n",
       "\n",
       "   dbscan_cluster      ftr1      ftr2  \n",
       "0               0 -2.684126  0.319397  \n",
       "1               0 -2.714142 -0.177001  \n",
       "2               0 -2.888991 -0.144949  \n",
       "3               0 -2.745343 -0.318299  \n",
       "4               0 -2.728717  0.326755  "
      ]
     },
     "execution_count": 69,
     "metadata": {},
     "output_type": "execute_result"
    }
   ],
   "source": [
    "irisDF.head()"
   ]
  },
  {
   "cell_type": "code",
   "execution_count": 72,
   "metadata": {},
   "outputs": [
    {
     "data": {
      "text/html": [
       "<div>\n",
       "<style scoped>\n",
       "    .dataframe tbody tr th:only-of-type {\n",
       "        vertical-align: middle;\n",
       "    }\n",
       "\n",
       "    .dataframe tbody tr th {\n",
       "        vertical-align: top;\n",
       "    }\n",
       "\n",
       "    .dataframe thead th {\n",
       "        text-align: right;\n",
       "    }\n",
       "</style>\n",
       "<table border=\"1\" class=\"dataframe\">\n",
       "  <thead>\n",
       "    <tr style=\"text-align: right;\">\n",
       "      <th></th>\n",
       "      <th>sepal_length</th>\n",
       "      <th>sepal_width</th>\n",
       "      <th>petal_length</th>\n",
       "      <th>petal_width</th>\n",
       "      <th>target</th>\n",
       "      <th>dbscan_cluster</th>\n",
       "      <th>ftr1</th>\n",
       "      <th>ftr2</th>\n",
       "    </tr>\n",
       "  </thead>\n",
       "  <tbody>\n",
       "    <tr>\n",
       "      <th>117</th>\n",
       "      <td>7.7</td>\n",
       "      <td>3.8</td>\n",
       "      <td>6.7</td>\n",
       "      <td>2.2</td>\n",
       "      <td>2</td>\n",
       "      <td>-1</td>\n",
       "      <td>3.487055</td>\n",
       "      <td>1.175739</td>\n",
       "    </tr>\n",
       "    <tr>\n",
       "      <th>118</th>\n",
       "      <td>7.7</td>\n",
       "      <td>2.6</td>\n",
       "      <td>6.9</td>\n",
       "      <td>2.3</td>\n",
       "      <td>2</td>\n",
       "      <td>-1</td>\n",
       "      <td>3.795645</td>\n",
       "      <td>0.257323</td>\n",
       "    </tr>\n",
       "    <tr>\n",
       "      <th>131</th>\n",
       "      <td>7.9</td>\n",
       "      <td>3.8</td>\n",
       "      <td>6.4</td>\n",
       "      <td>2.0</td>\n",
       "      <td>2</td>\n",
       "      <td>-1</td>\n",
       "      <td>3.230674</td>\n",
       "      <td>1.374165</td>\n",
       "    </tr>\n",
       "  </tbody>\n",
       "</table>\n",
       "</div>"
      ],
      "text/plain": [
       "     sepal_length  sepal_width  petal_length  petal_width  target  \\\n",
       "117           7.7          3.8           6.7          2.2       2   \n",
       "118           7.7          2.6           6.9          2.3       2   \n",
       "131           7.9          3.8           6.4          2.0       2   \n",
       "\n",
       "     dbscan_cluster      ftr1      ftr2  \n",
       "117              -1  3.487055  1.175739  \n",
       "118              -1  3.795645  0.257323  \n",
       "131              -1  3.230674  1.374165  "
      ]
     },
     "execution_count": 72,
     "metadata": {},
     "output_type": "execute_result"
    }
   ],
   "source": [
    "irisDF[irisDF['dbscan_cluster'] == -1].head()"
   ]
  },
  {
   "cell_type": "code",
   "execution_count": 73,
   "metadata": {},
   "outputs": [
    {
     "data": {
      "text/plain": [
       "Index([117, 118, 131], dtype='int64')"
      ]
     },
     "execution_count": 73,
     "metadata": {},
     "output_type": "execute_result"
    }
   ],
   "source": [
    "irisDF[irisDF['dbscan_cluster'] == -1].index"
   ]
  },
  {
   "cell_type": "code",
   "execution_count": 74,
   "metadata": {},
   "outputs": [
    {
     "name": "stdout",
     "output_type": "stream",
     "text": [
      "target  dbscan_cluster\n",
      "0        0                48\n",
      "        -1                 2\n",
      "1        1                44\n",
      "        -1                 6\n",
      "2        1                36\n",
      "        -1                14\n",
      "Name: count, dtype: int64\n"
     ]
    },
    {
     "data": {
      "image/png": "[encoded data removed]",
      "text/plain": [
       "<Figure size 640x480 with 1 Axes>"
      ]
     },
     "metadata": {},
     "output_type": "display_data"
    }
   ],
   "source": [
    "dbscan = DBSCAN(eps=0.6, min_samples=16, metric='euclidean')\n",
    "dbscan_labels = dbscan.fit_predict(iris.data)\n",
    "\n",
    "irisDF['dbscan_cluster'] = dbscan_labels\n",
    "irisDF['target'] = iris.target\n",
    "\n",
    "iris_result = irisDF.groupby(['target'])['dbscan_cluster'].value_counts()\n",
    "print(iris_result)\n",
    "\n",
    "visualize_cluster_plot(dbscan, irisDF, 'dbscan_cluster', iscenter=False)"
   ]
  }
 ],
 "metadata": {
  "kernelspec": {
   "display_name": "ml-dev",
   "language": "python",
   "name": "python3"
  },
  "language_info": {
   "codemirror_mode": {
    "name": "ipython",
    "version": 3
   },
   "file_extension": ".py",
   "mimetype": "text/x-python",
   "name": "python",
   "nbconvert_exporter": "python",
   "pygments_lexer": "ipython3",
   "version": "3.10.14"
  }
 },
 "nbformat": 4,
 "nbformat_minor": 2
}
