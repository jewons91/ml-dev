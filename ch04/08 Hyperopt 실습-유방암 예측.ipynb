{
 "cells": [
  {
   "cell_type": "code",
   "execution_count": 1,
   "metadata": {},
   "outputs": [
    {
     "name": "stdout",
     "output_type": "stream",
     "text": [
      "0.2.7\n"
     ]
    }
   ],
   "source": [
    "# best hyper parameter search\n",
    "import hyperopt\n",
    "\n",
    "print(hyperopt.__version__)"
   ]
  },
  {
   "cell_type": "code",
   "execution_count": 3,
   "metadata": {},
   "outputs": [],
   "source": [
    "# x**2 - 20y 최소되는 x, y 구해보자\n",
    "# 1. search space\n",
    "from hyperopt import hp\n",
    "\n",
    "search_space = {\n",
    "      'x': hp.quniform('x', -10, 10, 1) # -10 < x < 10\n",
    "    , 'y': hp.quniform('y', -15, 15, 1) # -15 < y < 15\n",
    "}"
   ]
  },
  {
   "cell_type": "code",
   "execution_count": 4,
   "metadata": {},
   "outputs": [],
   "source": [
    "from hyperopt import STATUS_OK\n",
    "\n",
    "# 목적 함수를 생성. 변숫값과 변수 검색 공간을 가지는 딕셔너리를 인자로 받고, 특정 값을 반환\n",
    "def objective_func(search_space): # 입력값, 파라미터\n",
    "    x = search_space['x']\n",
    "    y = search_space['y']\n",
    "    retval = x**2 - 20*y\n",
    "    \n",
    "    return retval # 결과값이 리턴되게 지정해야 한다"
   ]
  },
  {
   "cell_type": "code",
   "execution_count": 5,
   "metadata": {},
   "outputs": [
    {
     "name": "stdout",
     "output_type": "stream",
     "text": [
      "100%|██████████| 5/5 [00:00<00:00, 500.35trial/s, best loss: -224.0]\n",
      "best: {'x': np.float64(-4.0), 'y': np.float64(12.0)}\n"
     ]
    }
   ],
   "source": [
    "from hyperopt import fmin, tpe, Trials\n",
    "import numpy as np\n",
    "\n",
    "# 입력 결괏값을 저장한 Trials 객체값 생성.\n",
    "trial_val = Trials()\n",
    "\n",
    "# 목적 함수의 최솟값을 반환하는 최적 입력 변숫값을 5번의 입력값 시도(max_evals=5)로 찾아냄.\n",
    "best_01 = fmin(fn=objective_func, space=search_space, algo=tpe.suggest, max_evals=5\n",
    "               , trials=trial_val, rstate=np.random.default_rng(seed=0))\n",
    "print('best:', best_01)"
   ]
  },
  {
   "cell_type": "code",
   "execution_count": 6,
   "metadata": {},
   "outputs": [
    {
     "data": {
      "text/plain": [
       "-224"
      ]
     },
     "execution_count": 6,
     "metadata": {},
     "output_type": "execute_result"
    }
   ],
   "source": [
    "(-4) ** 2 - 20 * 12"
   ]
  },
  {
   "cell_type": "code",
   "execution_count": 7,
   "metadata": {},
   "outputs": [
    {
     "name": "stdout",
     "output_type": "stream",
     "text": [
      "100%|██████████| 20/20 [00:00<00:00, 526.16trial/s, best loss: -296.0]\n",
      "best: {'x': np.float64(2.0), 'y': np.float64(15.0)}\n"
     ]
    }
   ],
   "source": [
    "trial_val = Trials()\n",
    "\n",
    "# max_evals를 20회로 늘려서 재테스트\n",
    "best_02 = fmin(fn=objective_func, space=search_space, algo=tpe.suggest, max_evals=20\n",
    "               , trials=trial_val, rstate=np.random.default_rng(seed=0))\n",
    "print('best:', best_02)"
   ]
  },
  {
   "cell_type": "code",
   "execution_count": 10,
   "metadata": {},
   "outputs": [
    {
     "name": "stdout",
     "output_type": "stream",
     "text": [
      "100%|██████████| 200/200 [00:01<00:00, 101.94trial/s, best loss: -300.0]\n",
      "best: {'x': np.float64(0.0), 'y': np.float64(15.0)}\n"
     ]
    }
   ],
   "source": [
    "trial_val = Trials()\n",
    "\n",
    "# max_evals를 n회로 늘려서 재테스트\n",
    "best_02 = fmin(fn=objective_func, space=search_space, algo=tpe.suggest, max_evals=200\n",
    "               , trials=trial_val, rstate=np.random.default_rng(seed=0))\n",
    "print('best:', best_02)"
   ]
  },
  {
   "cell_type": "code",
   "execution_count": 11,
   "metadata": {},
   "outputs": [],
   "source": [
    "# Hyperopt, xgboost 사용한 하이퍼 파라미터 최적화\n",
    "# 아래 코드는 이전에 수록된 코드라 책에는 싣지 않았습니다. \n",
    "import pandas as pd\n",
    "import numpy as np\n",
    "from sklearn.datasets import load_breast_cancer\n",
    "from sklearn.model_selection import train_test_split\n",
    "import warnings\n",
    "warnings.filterwarnings('ignore')\n",
    "\n",
    "dataset = load_breast_cancer() # 유방암 데이터 셋\n",
    "\n",
    "cancer_df = pd.DataFrame(data=dataset.data, columns=dataset.feature_names)\n",
    "cancer_df['target']= dataset.target\n",
    "X_features = cancer_df.iloc[:, :-1] # 데이터 추출\n",
    "y_label = cancer_df.iloc[:, -1] # 레이블 추출"
   ]
  },
  {
   "cell_type": "code",
   "execution_count": 12,
   "metadata": {},
   "outputs": [],
   "source": [
    "# 데이터를 학습(X_tr), 검증(X_val), 테스트(X_test) 분리\n",
    "# 전체 데이터 중 80%는 학습용 데이터, 20%는 테스트용 데이터 추출\n",
    "X_train, X_test, y_train, y_test=train_test_split(X_features, y_label, test_size=0.2, random_state=156 )\n",
    "\n",
    "# 앞에서 추출한 학습 데이터를 다시 학습과 검증 데이터로 분리\n",
    "X_tr, X_val, y_tr, y_val= train_test_split(X_train, y_train, test_size=0.1, random_state=156 )"
   ]
  },
  {
   "cell_type": "code",
   "execution_count": 13,
   "metadata": {},
   "outputs": [],
   "source": [
    "# search space 설정\n",
    "from hyperopt import hp\n",
    "\n",
    "# max_depth는 5에서 20까지 1간격으로, min_child_weight는 1에서 2까지 1간격으로\n",
    "# colsample_bytree는 0.5에서 1사이, learning_rate는 0.01에서 0.2 사이 정규 분포된 값으로 검색.\n",
    "xgb_search_space = {'max_depth': hp.quniform('max_depth', 5, 20, 1), # 5부터 20까지 1씩 증가\n",
    "                    'min_child_weight': hp.quniform('min_child_weight', 1, 2, 1), # 1, 2\n",
    "                    'learning_rate': hp.uniform('learning_rate', 0.01, 0.2), \n",
    "                    'colsample_bytree': hp.uniform('colsample_bytree', 0.5, 1) # 컬럼 개수 : 0.5 ~ 1\n",
    "                   }"
   ]
  },
  {
   "cell_type": "code",
   "execution_count": 14,
   "metadata": {},
   "outputs": [],
   "source": [
    "from sklearn.model_selection import cross_val_score # 교차 검증 정확도 점수만 출력\n",
    "from xgboost import XGBClassifier # 분류 모델\n",
    "from hyperopt import STATUS_OK \n",
    "\n",
    "# fmin()에서 입력된 search_space 값으로 입력된 모든 값은 실수형임.\n",
    "# XGBClassifier의 정수형 하이퍼 파라미터는 정수형 변환을 해줘야 함.\n",
    "# 정확도는 높을수록 더 좋은 수치임. -1 * 정확도를 곱해서 큰 정확도 값일수록 최소가 되도록 변환\n",
    "def objective_func(search_space):\n",
    "    # 수행 시간 절약을 위해 nestimators(트리개수)는 100으로 축소\n",
    "    xgb_clf = XGBClassifier(n_estimators=100, max_depth=int(search_space['max_depth']),\n",
    "                            min_child_weight=int(search_space['min_child_weight']),\n",
    "                            learning_rate=search_space['learning_rate'],\n",
    "                            colsample_bytree=search_space['colsample_bytree'],\n",
    "                            eval_metric='logloss') # 평가지표\n",
    "    accuracy = cross_val_score(xgb_clf, X_train, y_train, scoring='accuracy', cv=3)\n",
    "    \n",
    "    # accuracy는 cv=3 개수만큼 roc-auc 결과를 리스트로 가짐. 이를 평균해서 반환하되 -1을 곱함.\n",
    "    return {'loss':-1 * np.mean(accuracy), 'status': STATUS_OK}"
   ]
  },
  {
   "cell_type": "code",
   "execution_count": 15,
   "metadata": {},
   "outputs": [
    {
     "name": "stdout",
     "output_type": "stream",
     "text": [
      "100%|██████████| 50/50 [00:21<00:00,  2.33trial/s, best loss: -0.9714621819449286]\n",
      "best: {'colsample_bytree': np.float64(0.5036717216371022), 'learning_rate': np.float64(0.19808959234346474), 'max_depth': np.float64(12.0), 'min_child_weight': np.float64(1.0)}\n"
     ]
    }
   ],
   "source": [
    "from hyperopt import fmin, tpe, Trials\n",
    "\n",
    "trial_val = Trials() \n",
    "# fmin => best hyper parameter value return {파라미터명:값, ...} => best\n",
    "best = fmin(fn=objective_func,\n",
    "            space=xgb_search_space,\n",
    "            algo=tpe.suggest,\n",
    "            max_evals=50, # 최대 반복 횟수를 지정합니다.\n",
    "            trials=trial_val, rstate=np.random.default_rng(seed=9))\n",
    "print('best:', best) # 베스트 파라미터 값 추출"
   ]
  },
  {
   "cell_type": "code",
   "execution_count": 16,
   "metadata": {},
   "outputs": [],
   "source": [
    "# 모델 생성 성능 평가 : get_clf_eval(원래답, 예측값, 예측확률)\n",
    "from sklearn.metrics import confusion_matrix, accuracy_score\n",
    "from sklearn.metrics import precision_score, recall_score\n",
    "from sklearn.metrics import f1_score, roc_auc_score\n",
    "\n",
    "def get_clf_eval(y_test, pred=None, pred_proba=None):\n",
    "    confusion = confusion_matrix( y_test, pred)\n",
    "    accuracy = accuracy_score(y_test , pred) # 정확도 점수\n",
    "    precision = precision_score(y_test , pred) # 정밀도 점수\n",
    "    recall = recall_score(y_test , pred) # 재현율 점수\n",
    "    f1 = f1_score(y_test,pred) # 정밀도, 재현율 조화평균 값\n",
    "    # ROC-AUC 추가 \n",
    "    roc_auc = roc_auc_score(y_test, pred_proba) # AUC 점수 : \n",
    "    print('오차 행렬')\n",
    "    print(confusion)\n",
    "    # ROC-AUC print 추가\n",
    "    print('정확도: {0:.4f}, 정밀도: {1:.4f}, 재현율: {2:.4f},\\\n",
    "    F1: {3:.4f}, AUC:{4:.4f}'.format(accuracy, precision, recall, f1, roc_auc))"
   ]
  },
  {
   "cell_type": "code",
   "execution_count": 18,
   "metadata": {},
   "outputs": [
    {
     "name": "stdout",
     "output_type": "stream",
     "text": [
      "[0]\tvalidation_0-logloss:0.51050\tvalidation_1-logloss:0.54091\n",
      "[1]\tvalidation_0-logloss:0.40643\tvalidation_1-logloss:0.46300\n",
      "[2]\tvalidation_0-logloss:0.32978\tvalidation_1-logloss:0.40989\n",
      "[3]\tvalidation_0-logloss:0.27058\tvalidation_1-logloss:0.37503\n",
      "[4]\tvalidation_0-logloss:0.22553\tvalidation_1-logloss:0.35076\n",
      "[5]\tvalidation_0-logloss:0.19073\tvalidation_1-logloss:0.32314\n",
      "[6]\tvalidation_0-logloss:0.16231\tvalidation_1-logloss:0.30427\n",
      "[7]\tvalidation_0-logloss:0.13942\tvalidation_1-logloss:0.29606\n",
      "[8]\tvalidation_0-logloss:0.12122\tvalidation_1-logloss:0.28180\n",
      "[9]\tvalidation_0-logloss:0.10559\tvalidation_1-logloss:0.27067\n",
      "[10]\tvalidation_0-logloss:0.09315\tvalidation_1-logloss:0.26813\n",
      "[11]\tvalidation_0-logloss:0.08209\tvalidation_1-logloss:0.26516\n",
      "[12]\tvalidation_0-logloss:0.07277\tvalidation_1-logloss:0.26080\n",
      "[13]\tvalidation_0-logloss:0.06506\tvalidation_1-logloss:0.25770\n",
      "[14]\tvalidation_0-logloss:0.05796\tvalidation_1-logloss:0.25109\n",
      "[15]\tvalidation_0-logloss:0.05245\tvalidation_1-logloss:0.24523\n",
      "[16]\tvalidation_0-logloss:0.04791\tvalidation_1-logloss:0.24931\n",
      "[17]\tvalidation_0-logloss:0.04305\tvalidation_1-logloss:0.24370\n",
      "[18]\tvalidation_0-logloss:0.03942\tvalidation_1-logloss:0.24515\n",
      "[19]\tvalidation_0-logloss:0.03630\tvalidation_1-logloss:0.24000\n",
      "[20]\tvalidation_0-logloss:0.03330\tvalidation_1-logloss:0.23932\n",
      "[21]\tvalidation_0-logloss:0.03138\tvalidation_1-logloss:0.24440\n",
      "[22]\tvalidation_0-logloss:0.02908\tvalidation_1-logloss:0.24568\n",
      "[23]\tvalidation_0-logloss:0.02696\tvalidation_1-logloss:0.25086\n",
      "[24]\tvalidation_0-logloss:0.02518\tvalidation_1-logloss:0.25136\n",
      "[25]\tvalidation_0-logloss:0.02357\tvalidation_1-logloss:0.24964\n",
      "[26]\tvalidation_0-logloss:0.02235\tvalidation_1-logloss:0.25309\n",
      "[27]\tvalidation_0-logloss:0.02118\tvalidation_1-logloss:0.25270\n",
      "[28]\tvalidation_0-logloss:0.02027\tvalidation_1-logloss:0.24802\n",
      "[29]\tvalidation_0-logloss:0.01913\tvalidation_1-logloss:0.25007\n",
      "[30]\tvalidation_0-logloss:0.01834\tvalidation_1-logloss:0.25162\n",
      "[31]\tvalidation_0-logloss:0.01741\tvalidation_1-logloss:0.25474\n",
      "[32]\tvalidation_0-logloss:0.01674\tvalidation_1-logloss:0.25576\n",
      "[33]\tvalidation_0-logloss:0.01614\tvalidation_1-logloss:0.25682\n",
      "[34]\tvalidation_0-logloss:0.01546\tvalidation_1-logloss:0.25649\n",
      "[35]\tvalidation_0-logloss:0.01498\tvalidation_1-logloss:0.25702\n",
      "[36]\tvalidation_0-logloss:0.01451\tvalidation_1-logloss:0.26138\n",
      "[37]\tvalidation_0-logloss:0.01408\tvalidation_1-logloss:0.26013\n",
      "[38]\tvalidation_0-logloss:0.01365\tvalidation_1-logloss:0.25723\n",
      "[39]\tvalidation_0-logloss:0.01320\tvalidation_1-logloss:0.25623\n",
      "[40]\tvalidation_0-logloss:0.01283\tvalidation_1-logloss:0.25530\n",
      "[41]\tvalidation_0-logloss:0.01250\tvalidation_1-logloss:0.25671\n",
      "[42]\tvalidation_0-logloss:0.01224\tvalidation_1-logloss:0.25614\n",
      "[43]\tvalidation_0-logloss:0.01197\tvalidation_1-logloss:0.25537\n",
      "[44]\tvalidation_0-logloss:0.01163\tvalidation_1-logloss:0.25187\n",
      "[45]\tvalidation_0-logloss:0.01139\tvalidation_1-logloss:0.25527\n",
      "[46]\tvalidation_0-logloss:0.01119\tvalidation_1-logloss:0.25314\n",
      "[47]\tvalidation_0-logloss:0.01098\tvalidation_1-logloss:0.25588\n",
      "[48]\tvalidation_0-logloss:0.01078\tvalidation_1-logloss:0.25573\n",
      "[49]\tvalidation_0-logloss:0.01067\tvalidation_1-logloss:0.25404\n",
      "[50]\tvalidation_0-logloss:0.01050\tvalidation_1-logloss:0.25659\n",
      "[51]\tvalidation_0-logloss:0.01041\tvalidation_1-logloss:0.25509\n",
      "[52]\tvalidation_0-logloss:0.01028\tvalidation_1-logloss:0.25732\n",
      "[53]\tvalidation_0-logloss:0.01015\tvalidation_1-logloss:0.26002\n",
      "[54]\tvalidation_0-logloss:0.01006\tvalidation_1-logloss:0.25981\n",
      "[55]\tvalidation_0-logloss:0.00989\tvalidation_1-logloss:0.25827\n",
      "[56]\tvalidation_0-logloss:0.00980\tvalidation_1-logloss:0.25774\n",
      "[57]\tvalidation_0-logloss:0.00961\tvalidation_1-logloss:0.25920\n",
      "[58]\tvalidation_0-logloss:0.00954\tvalidation_1-logloss:0.25777\n",
      "[59]\tvalidation_0-logloss:0.00944\tvalidation_1-logloss:0.25747\n",
      "[60]\tvalidation_0-logloss:0.00921\tvalidation_1-logloss:0.25458\n",
      "[61]\tvalidation_0-logloss:0.00903\tvalidation_1-logloss:0.25192\n",
      "[62]\tvalidation_0-logloss:0.00897\tvalidation_1-logloss:0.25172\n",
      "[63]\tvalidation_0-logloss:0.00892\tvalidation_1-logloss:0.25300\n",
      "[64]\tvalidation_0-logloss:0.00884\tvalidation_1-logloss:0.25521\n",
      "[65]\tvalidation_0-logloss:0.00878\tvalidation_1-logloss:0.25392\n",
      "[66]\tvalidation_0-logloss:0.00872\tvalidation_1-logloss:0.25597\n",
      "[67]\tvalidation_0-logloss:0.00865\tvalidation_1-logloss:0.25572\n",
      "[68]\tvalidation_0-logloss:0.00860\tvalidation_1-logloss:0.25356\n",
      "[69]\tvalidation_0-logloss:0.00854\tvalidation_1-logloss:0.25232\n",
      "오차 행렬\n",
      "[[35  2]\n",
      " [ 4 73]]\n",
      "정확도: 0.9474, 정밀도: 0.9733, 재현율: 0.9481,    F1: 0.9605, AUC:0.9926\n"
     ]
    }
   ],
   "source": [
    "xgb_wrapper = XGBClassifier(n_estimators=400,\n",
    "                            learning_rate=round(best['learning_rate'], 5),\n",
    "                            max_depth=int(best['max_depth']),\n",
    "                            min_child_weight=int(best['min_child_weight']),\n",
    "                            colsample_bytree=round(best['colsample_bytree'], 5),\n",
    "                            early_stopping_rounds=50, eval_metric='logloss'\n",
    "                           )\n",
    "\n",
    "evals = [(X_tr, y_tr), (X_val, y_val)]\n",
    "xgb_wrapper.fit(X_tr, y_tr,\n",
    "                eval_set=evals, verbose=True)\n",
    "\n",
    "preds = xgb_wrapper.predict(X_test) # 예측값\n",
    "pred_proba = xgb_wrapper.predict_proba(X_test)[:, 1] # 예측 확률\n",
    "\n",
    "get_clf_eval(y_test, preds, pred_proba)"
   ]
  },
  {
   "cell_type": "code",
   "execution_count": null,
   "metadata": {},
   "outputs": [],
   "source": []
  }
 ],
 "metadata": {
  "kernelspec": {
   "display_name": "ml-dev",
   "language": "python",
   "name": "python3"
  },
  "language_info": {
   "codemirror_mode": {
    "name": "ipython",
    "version": 3
   },
   "file_extension": ".py",
   "mimetype": "text/x-python",
   "name": "python",
   "nbconvert_exporter": "python",
   "pygments_lexer": "ipython3",
   "version": "3.10.14"
  }
 },
 "nbformat": 4,
 "nbformat_minor": 2
}
