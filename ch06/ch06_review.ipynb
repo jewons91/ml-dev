{
 "cells": [
  {
   "cell_type": "markdown",
   "metadata": {},
   "source": [
    "# CHAPTER 06 차원 축소\n",
    "### 01 차원 축소(Dimension Reduction) 개요\n",
    "### 02 PCA(Principal Component Analysis)\n",
    "##### PCA 개요"
   ]
  },
  {
   "cell_type": "markdown",
   "metadata": {},
   "source": []
  }
 ],
 "metadata": {
  "language_info": {
   "name": "python"
  }
 },
 "nbformat": 4,
 "nbformat_minor": 2
}
