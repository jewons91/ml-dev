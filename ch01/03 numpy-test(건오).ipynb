{
 "cells": [
  {
   "cell_type": "code",
   "execution_count": 2,
   "metadata": {},
   "outputs": [],
   "source": [
    "import numpy as np\n",
    "import pandas as pd"
   ]
  },
  {
   "cell_type": "code",
   "execution_count": 9,
   "metadata": {},
   "outputs": [
    {
     "name": "stdout",
     "output_type": "stream",
     "text": [
      "<class 'numpy.ndarray'>\n",
      "(3,)\n",
      "1\n"
     ]
    }
   ],
   "source": [
    "# ndarray 생성\n",
    "# shap : 배열의 구조값, ndim : 차원값 확인\n",
    "# 1. array functhon 사용\n",
    "array1 = np.array([1,2,3])\n",
    "print(type(array1))\n",
    "# print(dir(array1)) # dir : 오브젝트 멤버(변수, 메소드) 목록 출력 함수\n",
    "print(array1.shape)\n",
    "print(array1.ndim)\n"
   ]
  },
  {
   "cell_type": "code",
   "execution_count": 10,
   "metadata": {},
   "outputs": [
    {
     "name": "stdout",
     "output_type": "stream",
     "text": [
      "[[1 2]\n",
      " [3 4]]\n",
      "[[1 3]\n",
      " [2 4]]\n",
      "[[1 3]\n",
      " [2 4]]\n"
     ]
    }
   ],
   "source": [
    "arr = np.array([[1,2],[3,4]])\n",
    "print(arr)\n",
    "print(arr.T)\n",
    "print(arr.transpose())"
   ]
  },
  {
   "cell_type": "code",
   "execution_count": 13,
   "metadata": {},
   "outputs": [
    {
     "name": "stdout",
     "output_type": "stream",
     "text": [
      "[[1, 2, 3], [4, 5, 6]]\n"
     ]
    }
   ],
   "source": [
    "list_2d = [[1,2,3],[4,5,6]]\n",
    "print(list_2d)"
   ]
  },
  {
   "cell_type": "code",
   "execution_count": 17,
   "metadata": {},
   "outputs": [
    {
     "name": "stdout",
     "output_type": "stream",
     "text": [
      "int64\n",
      "float64\n"
     ]
    }
   ],
   "source": [
    "# 타입 변경\n",
    "array_int = np.array([1,2,3])\n",
    "print(array_int.dtype)\n",
    "# 실수로 변환\n",
    "array_float=array_int.astype('float64')\n",
    "print(array_float.dtype)\n",
    "\n"
   ]
  },
  {
   "cell_type": "code",
   "execution_count": 21,
   "metadata": {},
   "outputs": [
    {
     "name": "stdout",
     "output_type": "stream",
     "text": [
      "[0 1 2 3 4 5 6 7 8 9]\n",
      "int64\n",
      "(10,)\n"
     ]
    }
   ],
   "source": [
    "seq_arr=np.arange(10)\n",
    "print(seq_arr)\n",
    "print(seq_arr.dtype)\n",
    "print(seq_arr.shape)"
   ]
  },
  {
   "cell_type": "code",
   "execution_count": 24,
   "metadata": {},
   "outputs": [
    {
     "name": "stdout",
     "output_type": "stream",
     "text": [
      "[[0. 0.]\n",
      " [0. 0.]\n",
      " [0. 0.]]\n",
      "(3, 2)\n"
     ]
    }
   ],
   "source": [
    "# 2.2 zeros((행,열)) : nbarray object 생성하고 0 으로 초기화\n",
    "zeros_arr = np.zeros((3,2))\n",
    "print(zeros_arr)\n",
    "print(zeros_arr.shape)"
   ]
  },
  {
   "cell_type": "code",
   "execution_count": 26,
   "metadata": {},
   "outputs": [
    {
     "name": "stdout",
     "output_type": "stream",
     "text": [
      "[[1. 1.]\n",
      " [1. 1.]\n",
      " [1. 1.]]\n"
     ]
    }
   ],
   "source": [
    "ones_arr = np.ones((3,2))\n",
    "print(ones_arr)"
   ]
  },
  {
   "cell_type": "code",
   "execution_count": 31,
   "metadata": {},
   "outputs": [
    {
     "name": "stdout",
     "output_type": "stream",
     "text": [
      "[0 1 2 3 4 5 6 7 8 9]\n",
      "[[0 1 2 3 4]\n",
      " [5 6 7 8 9]]\n",
      "[[0 1]\n",
      " [2 3]\n",
      " [4 5]\n",
      " [6 7]\n",
      " [8 9]]\n"
     ]
    }
   ],
   "source": [
    "arr1 = np.arange(10)\n",
    "print(arr1)\n",
    "arr2 = arr1.reshape(2,5)\n",
    "print(arr2)\n",
    "arr3 = arr1.reshape(5,2)\n",
    "print(arr3)"
   ]
  },
  {
   "cell_type": "code",
   "execution_count": 36,
   "metadata": {},
   "outputs": [
    {
     "name": "stdout",
     "output_type": "stream",
     "text": [
      "[      0       1       2 ... 1000002 1000003 1000004]\n",
      "[      0       1       2 ... 1000002 1000003 1000004]\n",
      "[[      0       1       2       3       4]\n",
      " [      5       6       7       8       9]\n",
      " [     10      11      12      13      14]\n",
      " ...\n",
      " [ 999990  999991  999992  999993  999994]\n",
      " [ 999995  999996  999997  999998  999999]\n",
      " [1000000 1000001 1000002 1000003 1000004]]\n",
      "[[      0       1       2       3       4]\n",
      " [      5       6       7       8       9]\n",
      " [     10      11      12      13      14]\n",
      " ...\n",
      " [ 999990  999991  999992  999993  999994]\n",
      " [ 999995  999996  999997  999998  999999]\n",
      " [1000000 1000001 1000002 1000003 1000004]]\n",
      "[[      0       1       2 ...  199998  199999  200000]\n",
      " [ 200001  200002  200003 ...  399999  400000  400001]\n",
      " [ 400002  400003  400004 ...  600000  600001  600002]\n",
      " [ 600003  600004  600005 ...  800001  800002  800003]\n",
      " [ 800004  800005  800006 ... 1000002 1000003 1000004]]\n"
     ]
    }
   ],
   "source": [
    "# reshape 유용한 기능\n",
    "data_num = 1000005\n",
    "arr1 = np.arange(data_num)\n",
    "print(arr1)\n",
    "# 5열짜지로 만들고자 한다\n",
    "\n",
    "c_n=int(data_num/5)\n",
    "print(arr1)\n",
    "print(arr1.reshape(c_n,5))\n",
    "print(arr1.reshape(-1,5))\n",
    "print(arr1.reshape(5,-1))"
   ]
  },
  {
   "cell_type": "code",
   "execution_count": 46,
   "metadata": {},
   "outputs": [
    {
     "name": "stdout",
     "output_type": "stream",
     "text": [
      "[ 0  1  2  3  4  5  6  7  8  9 10 11]\n",
      "1 차원\n",
      "2 차원\n",
      "[[[ 0  1  2]\n",
      "  [ 3  4  5]]\n",
      "\n",
      " [[ 6  7  8]\n",
      "  [ 9 10 11]]]\n",
      "3 차원\n",
      "[[ 0  1  2  3]\n",
      " [ 4  5  6  7]\n",
      " [ 8  9 10 11]]\n",
      "2 차원\n",
      "[[ 0  1  2]\n",
      " [ 3  4  5]\n",
      " [ 6  7  8]\n",
      " [ 9 10 11]]\n",
      "[ 0  1  2  3  4  5  6  7  8  9 10 11]\n"
     ]
    }
   ],
   "source": [
    "arr1=np.arange(12)\n",
    "print(arr1)\n",
    "print(arr1.ndim, '차원')\n",
    "arr2=arr1.reshape(3,4)\n",
    "print(arr2.ndim, '차원')\n",
    "\n",
    "arr3 = arr1.reshape(2,2,3)\n",
    "print(arr3)\n",
    "print(arr3.ndim,'차원')\n",
    "\n",
    "arr4 = arr3.reshape(-1,4)\n",
    "print(arr4)\n",
    "print(arr4.ndim, '차원')\n",
    "\n",
    "arr5=arr3.reshape(4,-1)\n",
    "print(arr5)\n",
    "\n",
    "arr6=arr3.reshape(-1)\n",
    "print(arr6)"
   ]
  },
  {
   "cell_type": "code",
   "execution_count": 50,
   "metadata": {},
   "outputs": [
    {
     "name": "stdout",
     "output_type": "stream",
     "text": [
      "[1 2 3 4 5 6 7 8 9]\n",
      "[ 1  2 13  4  5  6  7  8  9]\n",
      "3\n",
      "9\n",
      "<class 'numpy.int64'>\n"
     ]
    }
   ],
   "source": [
    "arr1=np.arange(1,10)\n",
    "print(arr1)\n",
    "value=arr1[2]\n",
    "value1=arr1[-1]\n",
    "arr1[2] = 13\n",
    "print(arr1)\n",
    "print(value)\n",
    "print(value1)\n",
    "print(type(value))"
   ]
  },
  {
   "cell_type": "code",
   "execution_count": 53,
   "metadata": {},
   "outputs": [
    {
     "name": "stdout",
     "output_type": "stream",
     "text": [
      "[1 2 3 4 5 6 7 8 9]\n",
      "[[1 2 3]\n",
      " [4 5 6]\n",
      " [7 8 9]]\n",
      "6\n"
     ]
    }
   ],
   "source": [
    "# 2차원 데이터 인덱싱\n",
    "arr1d = np.arange(1,10)\n",
    "print(arr1d)\n",
    "arr2d = arr1d.reshape(3,3)\n",
    "print(arr2d)\n",
    "print(arr2d[1,2])"
   ]
  },
  {
   "cell_type": "code",
   "execution_count": 56,
   "metadata": {},
   "outputs": [
    {
     "name": "stdout",
     "output_type": "stream",
     "text": [
      "[1 2 3 4 5 6 7 8 9]\n",
      "[1 2 3]\n",
      "<class 'numpy.ndarray'>\n"
     ]
    }
   ],
   "source": [
    "arr1 = np.arange(1,10)\n",
    "print(arr1)\n",
    "arr3 = arr1[0:3]\n",
    "print(arr3)\n",
    "print(type(arr3))"
   ]
  },
  {
   "cell_type": "code",
   "execution_count": 59,
   "metadata": {},
   "outputs": [
    {
     "name": "stdout",
     "output_type": "stream",
     "text": [
      "[1 2 3 4 5 6 7 8 9]\n",
      "[1 2 3]\n",
      "[4 5 6 7 8 9]\n",
      "[1 2 3 4 5 6 7 8 9]\n"
     ]
    }
   ],
   "source": [
    "print(arr1)\n",
    "arr4=arr1[:3]\n",
    "print(arr4)\n",
    "arr5=arr1[3:]\n",
    "print(arr5)\n",
    "\n",
    "arr6 = arr1[:]\n",
    "print(arr6)"
   ]
  },
  {
   "cell_type": "code",
   "execution_count": 61,
   "metadata": {},
   "outputs": [
    {
     "name": "stdout",
     "output_type": "stream",
     "text": [
      "[[1 2 3]\n",
      " [4 5 6]\n",
      " [7 8 9]]\n",
      "[[5 6]\n",
      " [8 9]]\n"
     ]
    }
   ],
   "source": [
    "print(arr2d)\n",
    "print(arr2d[1:,1:])"
   ]
  },
  {
   "cell_type": "code",
   "execution_count": 63,
   "metadata": {},
   "outputs": [
    {
     "name": "stdout",
     "output_type": "stream",
     "text": [
      "[[1 2 3]\n",
      " [4 5 6]\n",
      " [7 8 9]]\n"
     ]
    }
   ],
   "source": [
    "print(arr2d)\n",
    " "
   ]
  },
  {
   "cell_type": "code",
   "execution_count": 66,
   "metadata": {},
   "outputs": [
    {
     "name": "stdout",
     "output_type": "stream",
     "text": [
      "[False False False False False  True  True  True  True]\n",
      "[6 7 8 9]\n",
      "[6 7 8 9]\n"
     ]
    }
   ],
   "source": [
    "arr1d=np.arange(1,10)\n",
    "print(arr1d > 5)\n",
    "print(arr1d[[False,False,False,False,False,True,True,True,True]])\n",
    "print(arr1d[arr1d>5])"
   ]
  },
  {
   "cell_type": "code",
   "execution_count": 68,
   "metadata": {},
   "outputs": [
    {
     "name": "stdout",
     "output_type": "stream",
     "text": [
      "[False False False False False  True  True  True  True]\n",
      "[6 7 8 9]\n"
     ]
    }
   ],
   "source": [
    "# 32page\n",
    "boolean_indexes = np.array([False,False,False,False,False,True,True,True,True])\n",
    "print(boolean_indexes)\n",
    "print(arr1d[boolean_indexes]) \n"
   ]
  }
 ],
 "metadata": {
  "kernelspec": {
   "display_name": "ml-dev",
   "language": "python",
   "name": "python3"
  },
  "language_info": {
   "codemirror_mode": {
    "name": "ipython",
    "version": 3
   },
   "file_extension": ".py",
   "mimetype": "text/x-python",
   "name": "python",
   "nbconvert_exporter": "python",
   "pygments_lexer": "ipython3",
   "version": "3.10.14"
  }
 },
 "nbformat": 4,
 "nbformat_minor": 2
}
