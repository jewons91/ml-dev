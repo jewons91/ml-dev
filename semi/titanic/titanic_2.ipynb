{
 "cells": [
  {
   "cell_type": "code",
   "execution_count": 569,
   "metadata": {},
   "outputs": [],
   "source": [
    "import warnings\n",
    "warnings.filterwarnings(\"ignore\")\n",
    "\n",
    "import pandas as pd\n",
    "import numpy as np\n",
    "import matplotlib.pyplot as plt\n",
    "\n",
    "from sklearn.preprocessing import LabelEncoder\n",
    "from sklearn import datasets\n",
    "from sklearn import model_selection\n",
    "from sklearn import linear_model\n",
    "from sklearn import ensemble\n",
    "from sklearn import neighbors\n",
    "from sklearn.metrics import mean_squared_error, accuracy_score\n",
    "from sklearn.model_selection import train_test_split\n",
    "from sklearn.svm import SVC\n",
    "from sklearn.ensemble import ExtraTreesClassifier, RandomForestClassifier\n",
    "\n",
    "from xgboost import XGBClassifier, plot_importance"
   ]
  },
  {
   "cell_type": "code",
   "execution_count": 570,
   "metadata": {},
   "outputs": [],
   "source": [
    "from sklearn.metrics import confusion_matrix, accuracy_score, precision_score, recall_score, f1_score\n",
    "from sklearn.metrics import roc_auc_score\n",
    "\n",
    "def get_clf_eval(y_test, pred=None, pred_proba=None):\n",
    "    confusion = confusion_matrix( y_test, pred)\n",
    "    accuracy = accuracy_score(y_test , pred)\n",
    "    precision = precision_score(y_test , pred)\n",
    "    recall = recall_score(y_test , pred)\n",
    "    f1 = f1_score(y_test,pred)\n",
    "    # ROC-AUC 추가 \n",
    "    roc_auc = roc_auc_score(y_test, pred_proba)\n",
    "    print('오차 행렬')\n",
    "    print(confusion)\n",
    "    # ROC-AUC print 추가\n",
    "    print('정확도: {0:.4f}, 정밀도: {1:.4f}, 재현율: {2:.4f},\\\n",
    "    F1: {3:.4f}, AUC:{4:.4f}'.format(accuracy, precision, recall, f1, roc_auc))\n"
   ]
  },
  {
   "cell_type": "code",
   "execution_count": 571,
   "metadata": {},
   "outputs": [],
   "source": [
    "# 인자로 사이킷런의 Estimator객체와, 학습/테스트 데이터 세트를 입력 받아서 학습/예측/평가 수행.\n",
    "def get_model_train_eval(model, ftr_train=None, ftr_test=None, tgt_train=None, tgt_test=None, eval_set=None):\n",
    "    model.fit(ftr_train, tgt_train, eval_set=eval_set)\n",
    "    pred = model.predict(ftr_test)\n",
    "    pred_proba = model.predict_proba(ftr_test)[:, 1]\n",
    "    get_clf_eval(tgt_test, pred, pred_proba)\n"
   ]
  },
  {
   "cell_type": "code",
   "execution_count": 572,
   "metadata": {},
   "outputs": [
    {
     "data": {
      "text/html": [
       "<div>\n",
       "<style scoped>\n",
       "    .dataframe tbody tr th:only-of-type {\n",
       "        vertical-align: middle;\n",
       "    }\n",
       "\n",
       "    .dataframe tbody tr th {\n",
       "        vertical-align: top;\n",
       "    }\n",
       "\n",
       "    .dataframe thead th {\n",
       "        text-align: right;\n",
       "    }\n",
       "</style>\n",
       "<table border=\"1\" class=\"dataframe\">\n",
       "  <thead>\n",
       "    <tr style=\"text-align: right;\">\n",
       "      <th></th>\n",
       "      <th>PassengerId</th>\n",
       "      <th>Survived</th>\n",
       "      <th>Pclass</th>\n",
       "      <th>Name</th>\n",
       "      <th>Sex</th>\n",
       "      <th>Age</th>\n",
       "      <th>SibSp</th>\n",
       "      <th>Parch</th>\n",
       "      <th>Ticket</th>\n",
       "      <th>Fare</th>\n",
       "      <th>Cabin</th>\n",
       "      <th>Embarked</th>\n",
       "    </tr>\n",
       "  </thead>\n",
       "  <tbody>\n",
       "    <tr>\n",
       "      <th>0</th>\n",
       "      <td>1</td>\n",
       "      <td>0</td>\n",
       "      <td>3</td>\n",
       "      <td>Braund, Mr. Owen Harris</td>\n",
       "      <td>male</td>\n",
       "      <td>22.0</td>\n",
       "      <td>1</td>\n",
       "      <td>0</td>\n",
       "      <td>A/5 21171</td>\n",
       "      <td>7.2500</td>\n",
       "      <td>NaN</td>\n",
       "      <td>S</td>\n",
       "    </tr>\n",
       "    <tr>\n",
       "      <th>1</th>\n",
       "      <td>2</td>\n",
       "      <td>1</td>\n",
       "      <td>1</td>\n",
       "      <td>Cumings, Mrs. John Bradley (Florence Briggs Th...</td>\n",
       "      <td>female</td>\n",
       "      <td>38.0</td>\n",
       "      <td>1</td>\n",
       "      <td>0</td>\n",
       "      <td>PC 17599</td>\n",
       "      <td>71.2833</td>\n",
       "      <td>C85</td>\n",
       "      <td>C</td>\n",
       "    </tr>\n",
       "    <tr>\n",
       "      <th>2</th>\n",
       "      <td>3</td>\n",
       "      <td>1</td>\n",
       "      <td>3</td>\n",
       "      <td>Heikkinen, Miss. Laina</td>\n",
       "      <td>female</td>\n",
       "      <td>26.0</td>\n",
       "      <td>0</td>\n",
       "      <td>0</td>\n",
       "      <td>STON/O2. 3101282</td>\n",
       "      <td>7.9250</td>\n",
       "      <td>NaN</td>\n",
       "      <td>S</td>\n",
       "    </tr>\n",
       "  </tbody>\n",
       "</table>\n",
       "</div>"
      ],
      "text/plain": [
       "   PassengerId  Survived  Pclass  \\\n",
       "0            1         0       3   \n",
       "1            2         1       1   \n",
       "2            3         1       3   \n",
       "\n",
       "                                                Name     Sex   Age  SibSp  \\\n",
       "0                            Braund, Mr. Owen Harris    male  22.0      1   \n",
       "1  Cumings, Mrs. John Bradley (Florence Briggs Th...  female  38.0      1   \n",
       "2                             Heikkinen, Miss. Laina  female  26.0      0   \n",
       "\n",
       "   Parch            Ticket     Fare Cabin Embarked  \n",
       "0      0         A/5 21171   7.2500   NaN        S  \n",
       "1      0          PC 17599  71.2833   C85        C  \n",
       "2      0  STON/O2. 3101282   7.9250   NaN        S  "
      ]
     },
     "execution_count": 572,
     "metadata": {},
     "output_type": "execute_result"
    }
   ],
   "source": [
    "# 데이터 로딩 후 데이터 확인\n",
    "data_df = pd.read_csv('../data/titanic/train.csv')\n",
    "test_df = pd.read_csv('../data/titanic/test.csv')\n",
    "data_df.head(3)"
   ]
  },
  {
   "cell_type": "code",
   "execution_count": 573,
   "metadata": {},
   "outputs": [
    {
     "data": {
      "text/html": [
       "<div>\n",
       "<style scoped>\n",
       "    .dataframe tbody tr th:only-of-type {\n",
       "        vertical-align: middle;\n",
       "    }\n",
       "\n",
       "    .dataframe tbody tr th {\n",
       "        vertical-align: top;\n",
       "    }\n",
       "\n",
       "    .dataframe thead th {\n",
       "        text-align: right;\n",
       "    }\n",
       "</style>\n",
       "<table border=\"1\" class=\"dataframe\">\n",
       "  <thead>\n",
       "    <tr style=\"text-align: right;\">\n",
       "      <th></th>\n",
       "      <th>PassengerId</th>\n",
       "      <th>Survived</th>\n",
       "      <th>Pclass</th>\n",
       "      <th>Name</th>\n",
       "      <th>Sex</th>\n",
       "      <th>Age</th>\n",
       "      <th>SibSp</th>\n",
       "      <th>Parch</th>\n",
       "      <th>Ticket</th>\n",
       "      <th>Fare</th>\n",
       "      <th>Cabin</th>\n",
       "      <th>Embarked</th>\n",
       "    </tr>\n",
       "  </thead>\n",
       "  <tbody>\n",
       "    <tr>\n",
       "      <th>0</th>\n",
       "      <td>1</td>\n",
       "      <td>0</td>\n",
       "      <td>3</td>\n",
       "      <td>Braund, Mr. Owen Harris</td>\n",
       "      <td>male</td>\n",
       "      <td>22.0</td>\n",
       "      <td>1</td>\n",
       "      <td>0</td>\n",
       "      <td>A/5 21171</td>\n",
       "      <td>7.2500</td>\n",
       "      <td>NaN</td>\n",
       "      <td>S</td>\n",
       "    </tr>\n",
       "    <tr>\n",
       "      <th>1</th>\n",
       "      <td>2</td>\n",
       "      <td>1</td>\n",
       "      <td>1</td>\n",
       "      <td>Cumings, Mrs. John Bradley (Florence Briggs Th...</td>\n",
       "      <td>female</td>\n",
       "      <td>38.0</td>\n",
       "      <td>1</td>\n",
       "      <td>0</td>\n",
       "      <td>PC 17599</td>\n",
       "      <td>71.2833</td>\n",
       "      <td>C85</td>\n",
       "      <td>C</td>\n",
       "    </tr>\n",
       "    <tr>\n",
       "      <th>2</th>\n",
       "      <td>3</td>\n",
       "      <td>1</td>\n",
       "      <td>3</td>\n",
       "      <td>Heikkinen, Miss. Laina</td>\n",
       "      <td>female</td>\n",
       "      <td>26.0</td>\n",
       "      <td>0</td>\n",
       "      <td>0</td>\n",
       "      <td>STON/O2. 3101282</td>\n",
       "      <td>7.9250</td>\n",
       "      <td>NaN</td>\n",
       "      <td>S</td>\n",
       "    </tr>\n",
       "    <tr>\n",
       "      <th>3</th>\n",
       "      <td>4</td>\n",
       "      <td>1</td>\n",
       "      <td>1</td>\n",
       "      <td>Futrelle, Mrs. Jacques Heath (Lily May Peel)</td>\n",
       "      <td>female</td>\n",
       "      <td>35.0</td>\n",
       "      <td>1</td>\n",
       "      <td>0</td>\n",
       "      <td>113803</td>\n",
       "      <td>53.1000</td>\n",
       "      <td>C123</td>\n",
       "      <td>S</td>\n",
       "    </tr>\n",
       "    <tr>\n",
       "      <th>4</th>\n",
       "      <td>5</td>\n",
       "      <td>0</td>\n",
       "      <td>3</td>\n",
       "      <td>Allen, Mr. William Henry</td>\n",
       "      <td>male</td>\n",
       "      <td>35.0</td>\n",
       "      <td>0</td>\n",
       "      <td>0</td>\n",
       "      <td>373450</td>\n",
       "      <td>8.0500</td>\n",
       "      <td>NaN</td>\n",
       "      <td>S</td>\n",
       "    </tr>\n",
       "  </tbody>\n",
       "</table>\n",
       "</div>"
      ],
      "text/plain": [
       "   PassengerId  Survived  Pclass  \\\n",
       "0            1         0       3   \n",
       "1            2         1       1   \n",
       "2            3         1       3   \n",
       "3            4         1       1   \n",
       "4            5         0       3   \n",
       "\n",
       "                                                Name     Sex   Age  SibSp  \\\n",
       "0                            Braund, Mr. Owen Harris    male  22.0      1   \n",
       "1  Cumings, Mrs. John Bradley (Florence Briggs Th...  female  38.0      1   \n",
       "2                             Heikkinen, Miss. Laina  female  26.0      0   \n",
       "3       Futrelle, Mrs. Jacques Heath (Lily May Peel)  female  35.0      1   \n",
       "4                           Allen, Mr. William Henry    male  35.0      0   \n",
       "\n",
       "   Parch            Ticket     Fare Cabin Embarked  \n",
       "0      0         A/5 21171   7.2500   NaN        S  \n",
       "1      0          PC 17599  71.2833   C85        C  \n",
       "2      0  STON/O2. 3101282   7.9250   NaN        S  \n",
       "3      0            113803  53.1000  C123        S  \n",
       "4      0            373450   8.0500   NaN        S  "
      ]
     },
     "execution_count": 573,
     "metadata": {},
     "output_type": "execute_result"
    }
   ],
   "source": [
    "data_df.head()"
   ]
  },
  {
   "cell_type": "code",
   "execution_count": 574,
   "metadata": {},
   "outputs": [],
   "source": [
    "# 예측 결과에 영향을 끼치지 않을 것 같은 PassengerId Ticket Cabin은 제외하였습니다.\n",
    "data_df = data_df.drop(['PassengerId','Ticket','Cabin'],axis = 1)\n",
    "# 테스트 데이터\n",
    "test_df= test_df.drop(['PassengerId','Ticket','Cabin'],axis = 1)"
   ]
  },
  {
   "cell_type": "code",
   "execution_count": 575,
   "metadata": {},
   "outputs": [],
   "source": [
    "X_features = data_df.copy() \n",
    "y_labels = data_df[['Survived']] \n",
    "del X_features['Survived']"
   ]
  },
  {
   "cell_type": "code",
   "execution_count": 576,
   "metadata": {},
   "outputs": [
    {
     "data": {
      "text/html": [
       "<div>\n",
       "<style scoped>\n",
       "    .dataframe tbody tr th:only-of-type {\n",
       "        vertical-align: middle;\n",
       "    }\n",
       "\n",
       "    .dataframe tbody tr th {\n",
       "        vertical-align: top;\n",
       "    }\n",
       "\n",
       "    .dataframe thead th {\n",
       "        text-align: right;\n",
       "    }\n",
       "</style>\n",
       "<table border=\"1\" class=\"dataframe\">\n",
       "  <thead>\n",
       "    <tr style=\"text-align: right;\">\n",
       "      <th></th>\n",
       "      <th>Pclass</th>\n",
       "      <th>Name</th>\n",
       "      <th>Sex</th>\n",
       "      <th>Age</th>\n",
       "      <th>SibSp</th>\n",
       "      <th>Parch</th>\n",
       "      <th>Fare</th>\n",
       "      <th>Embarked</th>\n",
       "    </tr>\n",
       "  </thead>\n",
       "  <tbody>\n",
       "    <tr>\n",
       "      <th>0</th>\n",
       "      <td>3</td>\n",
       "      <td>Braund, Mr. Owen Harris</td>\n",
       "      <td>male</td>\n",
       "      <td>22.0</td>\n",
       "      <td>1</td>\n",
       "      <td>0</td>\n",
       "      <td>7.2500</td>\n",
       "      <td>S</td>\n",
       "    </tr>\n",
       "    <tr>\n",
       "      <th>1</th>\n",
       "      <td>1</td>\n",
       "      <td>Cumings, Mrs. John Bradley (Florence Briggs Th...</td>\n",
       "      <td>female</td>\n",
       "      <td>38.0</td>\n",
       "      <td>1</td>\n",
       "      <td>0</td>\n",
       "      <td>71.2833</td>\n",
       "      <td>C</td>\n",
       "    </tr>\n",
       "    <tr>\n",
       "      <th>2</th>\n",
       "      <td>3</td>\n",
       "      <td>Heikkinen, Miss. Laina</td>\n",
       "      <td>female</td>\n",
       "      <td>26.0</td>\n",
       "      <td>0</td>\n",
       "      <td>0</td>\n",
       "      <td>7.9250</td>\n",
       "      <td>S</td>\n",
       "    </tr>\n",
       "    <tr>\n",
       "      <th>3</th>\n",
       "      <td>1</td>\n",
       "      <td>Futrelle, Mrs. Jacques Heath (Lily May Peel)</td>\n",
       "      <td>female</td>\n",
       "      <td>35.0</td>\n",
       "      <td>1</td>\n",
       "      <td>0</td>\n",
       "      <td>53.1000</td>\n",
       "      <td>S</td>\n",
       "    </tr>\n",
       "    <tr>\n",
       "      <th>4</th>\n",
       "      <td>3</td>\n",
       "      <td>Allen, Mr. William Henry</td>\n",
       "      <td>male</td>\n",
       "      <td>35.0</td>\n",
       "      <td>0</td>\n",
       "      <td>0</td>\n",
       "      <td>8.0500</td>\n",
       "      <td>S</td>\n",
       "    </tr>\n",
       "    <tr>\n",
       "      <th>...</th>\n",
       "      <td>...</td>\n",
       "      <td>...</td>\n",
       "      <td>...</td>\n",
       "      <td>...</td>\n",
       "      <td>...</td>\n",
       "      <td>...</td>\n",
       "      <td>...</td>\n",
       "      <td>...</td>\n",
       "    </tr>\n",
       "    <tr>\n",
       "      <th>886</th>\n",
       "      <td>2</td>\n",
       "      <td>Montvila, Rev. Juozas</td>\n",
       "      <td>male</td>\n",
       "      <td>27.0</td>\n",
       "      <td>0</td>\n",
       "      <td>0</td>\n",
       "      <td>13.0000</td>\n",
       "      <td>S</td>\n",
       "    </tr>\n",
       "    <tr>\n",
       "      <th>887</th>\n",
       "      <td>1</td>\n",
       "      <td>Graham, Miss. Margaret Edith</td>\n",
       "      <td>female</td>\n",
       "      <td>19.0</td>\n",
       "      <td>0</td>\n",
       "      <td>0</td>\n",
       "      <td>30.0000</td>\n",
       "      <td>S</td>\n",
       "    </tr>\n",
       "    <tr>\n",
       "      <th>888</th>\n",
       "      <td>3</td>\n",
       "      <td>Johnston, Miss. Catherine Helen \"Carrie\"</td>\n",
       "      <td>female</td>\n",
       "      <td>NaN</td>\n",
       "      <td>1</td>\n",
       "      <td>2</td>\n",
       "      <td>23.4500</td>\n",
       "      <td>S</td>\n",
       "    </tr>\n",
       "    <tr>\n",
       "      <th>889</th>\n",
       "      <td>1</td>\n",
       "      <td>Behr, Mr. Karl Howell</td>\n",
       "      <td>male</td>\n",
       "      <td>26.0</td>\n",
       "      <td>0</td>\n",
       "      <td>0</td>\n",
       "      <td>30.0000</td>\n",
       "      <td>C</td>\n",
       "    </tr>\n",
       "    <tr>\n",
       "      <th>890</th>\n",
       "      <td>3</td>\n",
       "      <td>Dooley, Mr. Patrick</td>\n",
       "      <td>male</td>\n",
       "      <td>32.0</td>\n",
       "      <td>0</td>\n",
       "      <td>0</td>\n",
       "      <td>7.7500</td>\n",
       "      <td>Q</td>\n",
       "    </tr>\n",
       "  </tbody>\n",
       "</table>\n",
       "<p>891 rows × 8 columns</p>\n",
       "</div>"
      ],
      "text/plain": [
       "     Pclass                                               Name     Sex   Age  \\\n",
       "0         3                            Braund, Mr. Owen Harris    male  22.0   \n",
       "1         1  Cumings, Mrs. John Bradley (Florence Briggs Th...  female  38.0   \n",
       "2         3                             Heikkinen, Miss. Laina  female  26.0   \n",
       "3         1       Futrelle, Mrs. Jacques Heath (Lily May Peel)  female  35.0   \n",
       "4         3                           Allen, Mr. William Henry    male  35.0   \n",
       "..      ...                                                ...     ...   ...   \n",
       "886       2                              Montvila, Rev. Juozas    male  27.0   \n",
       "887       1                       Graham, Miss. Margaret Edith  female  19.0   \n",
       "888       3           Johnston, Miss. Catherine Helen \"Carrie\"  female   NaN   \n",
       "889       1                              Behr, Mr. Karl Howell    male  26.0   \n",
       "890       3                                Dooley, Mr. Patrick    male  32.0   \n",
       "\n",
       "     SibSp  Parch     Fare Embarked  \n",
       "0        1      0   7.2500        S  \n",
       "1        1      0  71.2833        C  \n",
       "2        0      0   7.9250        S  \n",
       "3        1      0  53.1000        S  \n",
       "4        0      0   8.0500        S  \n",
       "..     ...    ...      ...      ...  \n",
       "886      0      0  13.0000        S  \n",
       "887      0      0  30.0000        S  \n",
       "888      1      2  23.4500        S  \n",
       "889      0      0  30.0000        C  \n",
       "890      0      0   7.7500        Q  \n",
       "\n",
       "[891 rows x 8 columns]"
      ]
     },
     "execution_count": 576,
     "metadata": {},
     "output_type": "execute_result"
    }
   ],
   "source": [
    "X_features"
   ]
  },
  {
   "cell_type": "markdown",
   "metadata": {},
   "source": [
    "생존률 확인"
   ]
  },
  {
   "cell_type": "markdown",
   "metadata": {},
   "source": [
    "1. 성별"
   ]
  },
  {
   "cell_type": "code",
   "execution_count": 577,
   "metadata": {},
   "outputs": [
    {
     "data": {
      "text/plain": [
       "Sex\n",
       "female    74.203822\n",
       "male      18.890815\n",
       "Name: Survived, dtype: float64"
      ]
     },
     "execution_count": 577,
     "metadata": {},
     "output_type": "execute_result"
    }
   ],
   "source": [
    "data_df.groupby(['Sex'])['Survived'].mean()*100\n",
    "# groupby -> 선택한 column의 요소별로 행을 나눔"
   ]
  },
  {
   "cell_type": "code",
   "execution_count": 578,
   "metadata": {},
   "outputs": [
    {
     "data": {
      "text/plain": [
       "<Axes: xlabel='Sex'>"
      ]
     },
     "execution_count": 578,
     "metadata": {},
     "output_type": "execute_result"
    },
    {
     "data": {
      "image/png": "[encoded data removed]",
      "text/plain": [
       "<Figure size 640x480 with 1 Axes>"
      ]
     },
     "metadata": {},
     "output_type": "display_data"
    }
   ],
   "source": [
    "data_df.groupby(['Sex'])['Survived'].mean().plot(kind='bar')"
   ]
  },
  {
   "cell_type": "markdown",
   "metadata": {},
   "source": [
    "남성보다 여성이 높은것을 확인"
   ]
  },
  {
   "cell_type": "markdown",
   "metadata": {},
   "source": [
    "2, 승선항"
   ]
  },
  {
   "cell_type": "code",
   "execution_count": 579,
   "metadata": {},
   "outputs": [
    {
     "data": {
      "text/plain": [
       "Embarked\n",
       "C    55.357143\n",
       "Q    38.961039\n",
       "S    33.695652\n",
       "Name: Survived, dtype: float64"
      ]
     },
     "execution_count": 579,
     "metadata": {},
     "output_type": "execute_result"
    }
   ],
   "source": [
    "data_df.groupby(['Embarked'])['Survived'].mean()*100"
   ]
  },
  {
   "cell_type": "code",
   "execution_count": 580,
   "metadata": {},
   "outputs": [
    {
     "data": {
      "text/plain": [
       "<Axes: xlabel='Embarked'>"
      ]
     },
     "execution_count": 580,
     "metadata": {},
     "output_type": "execute_result"
    },
    {
     "data": {
      "image/png": "[encoded data removed]",
      "text/plain": [
       "<Figure size 640x480 with 1 Axes>"
      ]
     },
     "metadata": {},
     "output_type": "display_data"
    }
   ],
   "source": [
    "data_df.groupby(['Embarked'])['Survived'].mean().plot(kind='bar')"
   ]
  },
  {
   "cell_type": "markdown",
   "metadata": {},
   "source": [
    "승성항도 차이가 난다는것을 확인"
   ]
  },
  {
   "cell_type": "markdown",
   "metadata": {},
   "source": [
    "3. 가족"
   ]
  },
  {
   "cell_type": "code",
   "execution_count": 581,
   "metadata": {},
   "outputs": [
    {
     "data": {
      "text/plain": [
       "Parch\n",
       "0    34.365782\n",
       "1    55.084746\n",
       "2    50.000000\n",
       "3    60.000000\n",
       "4     0.000000\n",
       "5    20.000000\n",
       "6     0.000000\n",
       "Name: Survived, dtype: float64"
      ]
     },
     "execution_count": 581,
     "metadata": {},
     "output_type": "execute_result"
    }
   ],
   "source": [
    "data_df.groupby(['Parch'])['Survived'].mean()*100"
   ]
  },
  {
   "cell_type": "code",
   "execution_count": 582,
   "metadata": {},
   "outputs": [
    {
     "data": {
      "text/plain": [
       "<Axes: xlabel='Parch'>"
      ]
     },
     "execution_count": 582,
     "metadata": {},
     "output_type": "execute_result"
    },
    {
     "data": {
      "image/png": "[encoded data removed]",
      "text/plain": [
       "<Figure size 640x480 with 1 Axes>"
      ]
     },
     "metadata": {},
     "output_type": "display_data"
    }
   ],
   "source": [
    "data_df.groupby(['Parch'])['Survived'].mean().plot(kind='bar')"
   ]
  },
  {
   "cell_type": "markdown",
   "metadata": {},
   "source": [
    "이상함"
   ]
  },
  {
   "cell_type": "markdown",
   "metadata": {},
   "source": [
    "4. 배우자/ 형제,자매"
   ]
  },
  {
   "cell_type": "code",
   "execution_count": 583,
   "metadata": {},
   "outputs": [
    {
     "data": {
      "text/plain": [
       "SibSp\n",
       "0    34.539474\n",
       "1    53.588517\n",
       "2    46.428571\n",
       "3    25.000000\n",
       "4    16.666667\n",
       "5     0.000000\n",
       "8     0.000000\n",
       "Name: Survived, dtype: float64"
      ]
     },
     "execution_count": 583,
     "metadata": {},
     "output_type": "execute_result"
    }
   ],
   "source": [
    "data_df.groupby(['SibSp'])['Survived'].mean()*100"
   ]
  },
  {
   "cell_type": "code",
   "execution_count": 584,
   "metadata": {},
   "outputs": [
    {
     "data": {
      "text/plain": [
       "<Axes: xlabel='SibSp'>"
      ]
     },
     "execution_count": 584,
     "metadata": {},
     "output_type": "execute_result"
    },
    {
     "data": {
      "image/png": "[encoded data removed]",
      "text/plain": [
       "<Figure size 640x480 with 1 Axes>"
      ]
     },
     "metadata": {},
     "output_type": "display_data"
    }
   ],
   "source": [
    "data_df.groupby(['SibSp'])['Survived'].mean().plot(kind='bar')"
   ]
  },
  {
   "cell_type": "markdown",
   "metadata": {},
   "source": [
    "음..."
   ]
  },
  {
   "cell_type": "markdown",
   "metadata": {},
   "source": [
    "5.객실"
   ]
  },
  {
   "cell_type": "code",
   "execution_count": 585,
   "metadata": {},
   "outputs": [
    {
     "data": {
      "text/plain": [
       "Pclass\n",
       "1    62.962963\n",
       "2    47.282609\n",
       "3    24.236253\n",
       "Name: Survived, dtype: float64"
      ]
     },
     "execution_count": 585,
     "metadata": {},
     "output_type": "execute_result"
    }
   ],
   "source": [
    "data_df.groupby(['Pclass'])['Survived'].mean()*100"
   ]
  },
  {
   "cell_type": "code",
   "execution_count": 586,
   "metadata": {},
   "outputs": [
    {
     "data": {
      "text/plain": [
       "<Axes: xlabel='Pclass'>"
      ]
     },
     "execution_count": 586,
     "metadata": {},
     "output_type": "execute_result"
    },
    {
     "data": {
      "image/png": "[encoded data removed]",
      "text/plain": [
       "<Figure size 640x480 with 1 Axes>"
      ]
     },
     "metadata": {},
     "output_type": "display_data"
    }
   ],
   "source": [
    "data_df.groupby(['Pclass'])['Survived'].mean().plot(kind='bar')"
   ]
  },
  {
   "cell_type": "markdown",
   "metadata": {},
   "source": [
    "객실 위치에따라 다름"
   ]
  },
  {
   "cell_type": "markdown",
   "metadata": {},
   "source": [
    "6.나이"
   ]
  },
  {
   "cell_type": "code",
   "execution_count": 587,
   "metadata": {},
   "outputs": [
    {
     "name": "stdout",
     "output_type": "stream",
     "text": [
      "630\n"
     ]
    }
   ],
   "source": [
    "for i in range(len(data_df)):\n",
    "    if data_df[:]['Age'][i]>=80:\n",
    "        print(i)"
   ]
  },
  {
   "cell_type": "code",
   "execution_count": 588,
   "metadata": {},
   "outputs": [],
   "source": [
    "data_df['Age'] = pd.cut(data_df['Age'], bins=[10, 20, 30, 40, 50, 60, 70, 80, 90],\n",
    "                        labels=['10', '20', '30', '40', '50', '60', '70', '80'])\n"
   ]
  },
  {
   "cell_type": "code",
   "execution_count": 589,
   "metadata": {},
   "outputs": [
    {
     "data": {
      "text/plain": [
       "Age\n",
       "10    38.260870\n",
       "20    36.521739\n",
       "30    44.516129\n",
       "40    38.372093\n",
       "50    40.476190\n",
       "60    23.529412\n",
       "70    20.000000\n",
       "80          NaN\n",
       "Name: Survived, dtype: float64"
      ]
     },
     "execution_count": 589,
     "metadata": {},
     "output_type": "execute_result"
    }
   ],
   "source": [
    "data_df.groupby(['Age'])['Survived'].mean()*100"
   ]
  },
  {
   "cell_type": "code",
   "execution_count": 590,
   "metadata": {},
   "outputs": [
    {
     "data": {
      "text/plain": [
       "<Axes: xlabel='Age'>"
      ]
     },
     "execution_count": 590,
     "metadata": {},
     "output_type": "execute_result"
    },
    {
     "data": {
      "image/png": "[encoded data removed]",
      "text/plain": [
       "<Figure size 640x480 with 1 Axes>"
      ]
     },
     "metadata": {},
     "output_type": "display_data"
    }
   ],
   "source": [
    "data_df.groupby(['Age'])['Survived'].mean().plot(kind='bar')"
   ]
  },
  {
   "cell_type": "markdown",
   "metadata": {},
   "source": [
    "60대부터 급감"
   ]
  },
  {
   "cell_type": "markdown",
   "metadata": {},
   "source": [
    "7.요금\n"
   ]
  },
  {
   "cell_type": "code",
   "execution_count": 591,
   "metadata": {},
   "outputs": [
    {
     "data": {
      "text/plain": [
       "count    891.000000\n",
       "mean      32.204208\n",
       "std       49.693429\n",
       "min        0.000000\n",
       "25%        7.910400\n",
       "50%       14.454200\n",
       "75%       31.000000\n",
       "max      512.329200\n",
       "Name: Fare, dtype: float64"
      ]
     },
     "execution_count": 591,
     "metadata": {},
     "output_type": "execute_result"
    }
   ],
   "source": [
    "data_df['Fare'].describe()"
   ]
  },
  {
   "cell_type": "code",
   "execution_count": 592,
   "metadata": {},
   "outputs": [],
   "source": [
    "data_df['Fare'] = pd.cut(data_df['Fare'], bins=[0, 8, 14, 31, 512], labels=['0', '1', '2', '3'])\n"
   ]
  },
  {
   "cell_type": "code",
   "execution_count": 593,
   "metadata": {},
   "outputs": [
    {
     "data": {
      "text/plain": [
       "Fare\n",
       "0    22.566372\n",
       "1    30.102041\n",
       "2    43.965517\n",
       "3    57.534247\n",
       "Name: Survived, dtype: float64"
      ]
     },
     "execution_count": 593,
     "metadata": {},
     "output_type": "execute_result"
    }
   ],
   "source": [
    "data_df.groupby(['Fare'])['Survived'].mean()*100"
   ]
  },
  {
   "cell_type": "code",
   "execution_count": 594,
   "metadata": {},
   "outputs": [
    {
     "data": {
      "text/plain": [
       "<Axes: xlabel='Fare'>"
      ]
     },
     "execution_count": 594,
     "metadata": {},
     "output_type": "execute_result"
    },
    {
     "data": {
      "image/png": "[encoded data removed]",
      "text/plain": [
       "<Figure size 640x480 with 1 Axes>"
      ]
     },
     "metadata": {},
     "output_type": "display_data"
    }
   ],
   "source": [
    "data_df.groupby(['Fare'])['Survived'].mean().plot(kind='bar')"
   ]
  },
  {
   "cell_type": "markdown",
   "metadata": {},
   "source": [
    "요금을 높게 지불한 사람이 생존률이 높다"
   ]
  },
  {
   "cell_type": "markdown",
   "metadata": {},
   "source": [
    "전처리"
   ]
  },
  {
   "cell_type": "code",
   "execution_count": 595,
   "metadata": {},
   "outputs": [],
   "source": [
    "# 가족 유무 별 열추가 # Parch SibSp 열 삭제\n",
    "X_features['member'] = X_features['Parch'] + X_features['SibSp']\n",
    "X_features = X_features.drop(['Parch','SibSp'],axis = 1) \n",
    "\n",
    "# 테스트\n",
    "test_df['member'] = test_df['Parch'] + test_df['SibSp']\n",
    "test_df = test_df.drop(['Parch','SibSp'],axis = 1) "
   ]
  },
  {
   "cell_type": "code",
   "execution_count": 596,
   "metadata": {},
   "outputs": [],
   "source": [
    "#값이 1 이상이면 1로 변경\n",
    "for i in range(len(X_features)): \n",
    "    if X_features['member'][i] > 1 : X_features['member'][i] = 1 \n",
    "    \n",
    "# 테스트 데이터\n",
    "for i in range(len(test_df)): \n",
    "    if test_df['member'][i] > 1 : test_df['member'][i] = 1"
   ]
  },
  {
   "cell_type": "code",
   "execution_count": 597,
   "metadata": {},
   "outputs": [],
   "source": [
    "X_features['Sex']=LabelEncoder().fit(['female','male']).transform(X_features['Sex'])\n",
    "# 테스트 데이터\n",
    "test_df['Sex']=LabelEncoder().fit(['female','male']).transform(test_df['Sex'])"
   ]
  },
  {
   "cell_type": "markdown",
   "metadata": {},
   "source": [
    "Age 결측치"
   ]
  },
  {
   "cell_type": "code",
   "execution_count": 598,
   "metadata": {},
   "outputs": [
    {
     "data": {
      "text/plain": [
       "Title\n",
       "Mr          517\n",
       "Miss        182\n",
       "Mrs         125\n",
       "Master       40\n",
       "Dr            7\n",
       "Rev           6\n",
       "Col           2\n",
       "Mlle          2\n",
       "Major         2\n",
       "Ms            1\n",
       "Mme           1\n",
       "Don           1\n",
       "Lady          1\n",
       "Sir           1\n",
       "Capt          1\n",
       "Countess      1\n",
       "Jonkheer      1\n",
       "Name: count, dtype: int64"
      ]
     },
     "execution_count": 598,
     "metadata": {},
     "output_type": "execute_result"
    }
   ],
   "source": [
    "X_features_test = [X_features]\n",
    "\n",
    "for dataset in X_features_test: \n",
    "    dataset['Title'] = dataset['Name'].str.extract(' ([A-Za-z]+)\\.', expand=False) \n",
    "    \n",
    "X_features['Title'].value_counts()"
   ]
  },
  {
   "cell_type": "code",
   "execution_count": 599,
   "metadata": {},
   "outputs": [
    {
     "data": {
      "text/plain": [
       "Title\n",
       "Mr        240\n",
       "Miss       78\n",
       "Mrs        72\n",
       "Master     21\n",
       "Col         2\n",
       "Rev         2\n",
       "Ms          1\n",
       "Dr          1\n",
       "Dona        1\n",
       "Name: count, dtype: int64"
      ]
     },
     "execution_count": 599,
     "metadata": {},
     "output_type": "execute_result"
    }
   ],
   "source": [
    "# 테스트\n",
    "test_df_test = [test_df]\n",
    "\n",
    "for dataset in test_df_test: \n",
    "    dataset['Title'] = dataset['Name'].str.extract(' ([A-Za-z]+)\\.', expand=False) \n",
    "    \n",
    "test_df['Title'].value_counts()"
   ]
  },
  {
   "cell_type": "code",
   "execution_count": 600,
   "metadata": {},
   "outputs": [
    {
     "data": {
      "text/html": [
       "<div>\n",
       "<style scoped>\n",
       "    .dataframe tbody tr th:only-of-type {\n",
       "        vertical-align: middle;\n",
       "    }\n",
       "\n",
       "    .dataframe tbody tr th {\n",
       "        vertical-align: top;\n",
       "    }\n",
       "\n",
       "    .dataframe thead th {\n",
       "        text-align: right;\n",
       "    }\n",
       "</style>\n",
       "<table border=\"1\" class=\"dataframe\">\n",
       "  <thead>\n",
       "    <tr style=\"text-align: right;\">\n",
       "      <th></th>\n",
       "      <th>Pclass</th>\n",
       "      <th>Name</th>\n",
       "      <th>Sex</th>\n",
       "      <th>Age</th>\n",
       "      <th>Fare</th>\n",
       "      <th>Embarked</th>\n",
       "      <th>member</th>\n",
       "      <th>Title</th>\n",
       "    </tr>\n",
       "  </thead>\n",
       "  <tbody>\n",
       "    <tr>\n",
       "      <th>0</th>\n",
       "      <td>3</td>\n",
       "      <td>Braund, Mr. Owen Harris</td>\n",
       "      <td>1</td>\n",
       "      <td>22.0</td>\n",
       "      <td>7.2500</td>\n",
       "      <td>S</td>\n",
       "      <td>1</td>\n",
       "      <td>0</td>\n",
       "    </tr>\n",
       "    <tr>\n",
       "      <th>1</th>\n",
       "      <td>1</td>\n",
       "      <td>Cumings, Mrs. John Bradley (Florence Briggs Th...</td>\n",
       "      <td>0</td>\n",
       "      <td>38.0</td>\n",
       "      <td>71.2833</td>\n",
       "      <td>C</td>\n",
       "      <td>1</td>\n",
       "      <td>2</td>\n",
       "    </tr>\n",
       "    <tr>\n",
       "      <th>2</th>\n",
       "      <td>3</td>\n",
       "      <td>Heikkinen, Miss. Laina</td>\n",
       "      <td>0</td>\n",
       "      <td>26.0</td>\n",
       "      <td>7.9250</td>\n",
       "      <td>S</td>\n",
       "      <td>0</td>\n",
       "      <td>1</td>\n",
       "    </tr>\n",
       "    <tr>\n",
       "      <th>3</th>\n",
       "      <td>1</td>\n",
       "      <td>Futrelle, Mrs. Jacques Heath (Lily May Peel)</td>\n",
       "      <td>0</td>\n",
       "      <td>35.0</td>\n",
       "      <td>53.1000</td>\n",
       "      <td>S</td>\n",
       "      <td>1</td>\n",
       "      <td>2</td>\n",
       "    </tr>\n",
       "    <tr>\n",
       "      <th>4</th>\n",
       "      <td>3</td>\n",
       "      <td>Allen, Mr. William Henry</td>\n",
       "      <td>1</td>\n",
       "      <td>35.0</td>\n",
       "      <td>8.0500</td>\n",
       "      <td>S</td>\n",
       "      <td>0</td>\n",
       "      <td>0</td>\n",
       "    </tr>\n",
       "  </tbody>\n",
       "</table>\n",
       "</div>"
      ],
      "text/plain": [
       "   Pclass                                               Name  Sex   Age  \\\n",
       "0       3                            Braund, Mr. Owen Harris    1  22.0   \n",
       "1       1  Cumings, Mrs. John Bradley (Florence Briggs Th...    0  38.0   \n",
       "2       3                             Heikkinen, Miss. Laina    0  26.0   \n",
       "3       1       Futrelle, Mrs. Jacques Heath (Lily May Peel)    0  35.0   \n",
       "4       3                           Allen, Mr. William Henry    1  35.0   \n",
       "\n",
       "      Fare Embarked  member  Title  \n",
       "0   7.2500        S       1      0  \n",
       "1  71.2833        C       1      2  \n",
       "2   7.9250        S       0      1  \n",
       "3  53.1000        S       1      2  \n",
       "4   8.0500        S       0      0  "
      ]
     },
     "execution_count": 600,
     "metadata": {},
     "output_type": "execute_result"
    }
   ],
   "source": [
    "name_mapping = {\n",
    "    \"Mr\": 0, \"Miss\": 1, \"Mrs\": 2, \"Master\": 3, \"Dr\": 4, \"Rev\": 4, \"Col\": 4\n",
    "    , \"Major\": 4, \"Mlle\": 4,\"Countess\": 4, \"Ms\": 4, \"Lady\": 4, \"Jonkheer\": 4\n",
    "    , \"Don\": 4, \"Dona\" : 4, \"Mme\": 4,\"Capt\": 4,\"Sir\": 4 } \n",
    "\n",
    "for dataset in X_features_test :\n",
    "    X_features['Title'] = dataset['Title'].map(name_mapping)\n",
    "\n",
    "# 테스트 데이터\n",
    "for dataset in test_df_test :\n",
    "    test_df['Title'] = dataset['Title'].map(name_mapping)\n",
    "\n",
    "X_features.head()"
   ]
  },
  {
   "cell_type": "code",
   "execution_count": 543,
   "metadata": {},
   "outputs": [
    {
     "data": {
      "text/plain": [
       "Title\n",
       "0    32.368090\n",
       "1    21.773973\n",
       "2    35.898148\n",
       "3     4.574167\n",
       "4    42.384615\n",
       "Name: Age, dtype: float64"
      ]
     },
     "execution_count": 543,
     "metadata": {},
     "output_type": "execute_result"
    }
   ],
   "source": [
    "X_features.groupby('Title')['Age'].mean()\n"
   ]
  },
  {
   "cell_type": "markdown",
   "metadata": {},
   "source": [
    "title이 nan 인경우 평균값으로 할당"
   ]
  },
  {
   "cell_type": "code",
   "execution_count": 602,
   "metadata": {},
   "outputs": [],
   "source": [
    "X_features.loc[(X_features['Age'].isnull())&(X_features['Title']==0),'Age'] =32\n",
    "X_features.loc[(X_features['Age'].isnull())&(X_features['Title']==1),'Age'] =22\n",
    "X_features.loc[(X_features['Age'].isnull())&(X_features['Title']==2),'Age'] =36\n",
    "X_features.loc[(X_features['Age'].isnull())&(X_features['Title']==3),'Age'] =5\n",
    "X_features.loc[(X_features['Age'].isnull())&(X_features['Title']==4),'Age'] =42"
   ]
  },
  {
   "cell_type": "code",
   "execution_count": 603,
   "metadata": {},
   "outputs": [],
   "source": [
    "# 테스트\n",
    "test_df.loc[(test_df['Age'].isnull())&(test_df['Title']==0),'Age'] =32\n",
    "test_df.loc[(test_df['Age'].isnull())&(test_df['Title']==1),'Age'] =22\n",
    "test_df.loc[(test_df['Age'].isnull())&(test_df['Title']==2),'Age'] =36\n",
    "test_df.loc[(test_df['Age'].isnull())&(test_df['Title']==3),'Age'] =5\n",
    "test_df.loc[(test_df['Age'].isnull())&(test_df['Title']==4),'Age'] =42"
   ]
  },
  {
   "cell_type": "code",
   "execution_count": 604,
   "metadata": {},
   "outputs": [],
   "source": [
    "X_features = X_features.drop(['Name'],axis=1)\n",
    "# 테스트\n",
    "test_df = test_df.drop(['Name'],axis=1)"
   ]
  },
  {
   "cell_type": "code",
   "execution_count": 605,
   "metadata": {},
   "outputs": [],
   "source": [
    "X_features = pd.get_dummies(X_features, columns=['Embarked'], drop_first=True)\n",
    "# 테스트\n",
    "test_df = pd.get_dummies(test_df, columns=['Embarked'], drop_first=True)\n"
   ]
  },
  {
   "cell_type": "markdown",
   "metadata": {},
   "source": [
    "나이와 요금을 스케일링"
   ]
  },
  {
   "cell_type": "code",
   "execution_count": 608,
   "metadata": {},
   "outputs": [],
   "source": [
    "from sklearn.compose import ColumnTransformer\n",
    "from sklearn.preprocessing import StandardScaler, RobustScaler\n",
    "\n",
    "ct = ColumnTransformer(\n",
    "    transformers=[\n",
    "        ('age', StandardScaler(), ['Age']),\n",
    "        ('fare', RobustScaler(), ['Fare'])\n",
    "    ],\n",
    "    remainder='passthrough'\n",
    ")\n",
    "\n",
    "# 데이터프레임 변환\n",
    "X_transformed = ct.fit_transform(X_features)\n",
    "# 테스트\n",
    "test_transformed = ct.fit_transform(test_df)\n",
    "\n",
    "# 원래 컬럼명을 가져옴\n",
    "X_features_col = X_features.columns\n",
    "\n",
    "# 결과를 DataFrame으로 변환\n",
    "X_features= pd.DataFrame(X_transformed, columns=X_features_col)\n",
    "# 테스트\n",
    "test_df= pd.DataFrame(test_transformed, columns=X_features_col)"
   ]
  },
  {
   "cell_type": "code",
   "execution_count": 619,
   "metadata": {},
   "outputs": [],
   "source": [
    "# Pclass\tSex\tAge\tFare\tmember\tTitle\tEmbarked_Q\tEmbarked_S\n",
    "X_features[['Pclass','Sex']] = X_features[['Pclass','Sex']].astype(float)\n",
    "X_features[['Age','Fare','member','Title']] = X_features[['Age','Fare','member','Title']].astype(int)\n",
    "X_features[['Embarked_Q','Embarked_S']] = X_features[['Embarked_Q','Embarked_S']].astype(bool)"
   ]
  },
  {
   "cell_type": "code",
   "execution_count": 610,
   "metadata": {},
   "outputs": [],
   "source": [
    "# 테스트\n",
    "test_df[['Pclass','Sex']] = test_df[['Pclass','Sex']].astype(float)\n",
    "test_df[['Age','Fare','member','Title']] = test_df[['Age','Fare','member','Title']].astype(int)\n",
    "test_df[['Embarked_Q','Embarked_S']] = test_df[['Embarked_Q','Embarked_S']].astype(bool)"
   ]
  },
  {
   "cell_type": "code",
   "execution_count": 620,
   "metadata": {},
   "outputs": [],
   "source": [
    "X_train, X_test, y_train, y_test = train_test_split(\n",
    "      X_features\n",
    "    , y_labels\n",
    "    , test_size=0.2\n",
    "    , random_state=0\n",
    ")"
   ]
  },
  {
   "cell_type": "code",
   "execution_count": 621,
   "metadata": {},
   "outputs": [],
   "source": [
    "# 조기 종료 => 검증 데이터 분리\n",
    "X_tr, X_val, y_tr, y_val = train_test_split(\n",
    "      X_train\n",
    "    , y_train\n",
    "    , test_size=0.2\n",
    "    , random_state=0\n",
    ")"
   ]
  },
  {
   "cell_type": "code",
   "execution_count": 622,
   "metadata": {},
   "outputs": [],
   "source": [
    "# 학습, 평가 : AUC score\n",
    "from xgboost import XGBClassifier\n",
    "from sklearn.metrics import roc_auc_score"
   ]
  },
  {
   "cell_type": "code",
   "execution_count": 623,
   "metadata": {},
   "outputs": [],
   "source": [
    "# 모델 생성\n",
    "xgb_clf = XGBClassifier(\n",
    "      n_estimators=1000\n",
    "    , max_depth=9\n",
    "    , learning_rate=0.1\n",
    "    , early_stopping_rounds=100\n",
    "    , eval_metric='error'\n",
    "    , random_state=166\n",
    ")"
   ]
  },
  {
   "cell_type": "code",
   "execution_count": 624,
   "metadata": {},
   "outputs": [],
   "source": [
    "# lightgbm 모델 생성\n",
    "from lightgbm import LGBMClassifier\n",
    "\n",
    "lgbm_clf = LGBMClassifier(\n",
    "      n_estimators=1000\n",
    "    , num_leaves=64\n",
    "    , n_jobs=-1\n",
    "    , early_stopping_rounds=100\n",
    "    , boost_from_average=False\n",
    "    )"
   ]
  },
  {
   "cell_type": "code",
   "execution_count": 625,
   "metadata": {},
   "outputs": [
    {
     "name": "stdout",
     "output_type": "stream",
     "text": [
      "[0]\tvalidation_0-error:0.41958\n",
      "[1]\tvalidation_0-error:0.41958\n",
      "[2]\tvalidation_0-error:0.27273\n",
      "[3]\tvalidation_0-error:0.25874\n",
      "[4]\tvalidation_0-error:0.23776\n",
      "[5]\tvalidation_0-error:0.24476\n",
      "[6]\tvalidation_0-error:0.24476\n",
      "[7]\tvalidation_0-error:0.26573\n",
      "[8]\tvalidation_0-error:0.25175\n",
      "[9]\tvalidation_0-error:0.26573\n",
      "[10]\tvalidation_0-error:0.25175\n",
      "[11]\tvalidation_0-error:0.26573\n",
      "[12]\tvalidation_0-error:0.25175\n",
      "[13]\tvalidation_0-error:0.25175\n",
      "[14]\tvalidation_0-error:0.25175\n",
      "[15]\tvalidation_0-error:0.24476\n",
      "[16]\tvalidation_0-error:0.23077\n",
      "[17]\tvalidation_0-error:0.23776\n",
      "[18]\tvalidation_0-error:0.23077\n",
      "[19]\tvalidation_0-error:0.23077\n",
      "[20]\tvalidation_0-error:0.23077\n",
      "[21]\tvalidation_0-error:0.23077\n",
      "[22]\tvalidation_0-error:0.23077\n",
      "[23]\tvalidation_0-error:0.23077\n",
      "[24]\tvalidation_0-error:0.23077\n",
      "[25]\tvalidation_0-error:0.23077\n",
      "[26]\tvalidation_0-error:0.23077\n",
      "[27]\tvalidation_0-error:0.23077\n",
      "[28]\tvalidation_0-error:0.23077\n",
      "[29]\tvalidation_0-error:0.23077\n",
      "[30]\tvalidation_0-error:0.23077\n",
      "[31]\tvalidation_0-error:0.23077\n",
      "[32]\tvalidation_0-error:0.23077\n",
      "[33]\tvalidation_0-error:0.23077\n",
      "[34]\tvalidation_0-error:0.23077\n",
      "[35]\tvalidation_0-error:0.23077\n",
      "[36]\tvalidation_0-error:0.23077\n",
      "[37]\tvalidation_0-error:0.23077\n",
      "[38]\tvalidation_0-error:0.23077\n",
      "[39]\tvalidation_0-error:0.23077\n",
      "[40]\tvalidation_0-error:0.23077\n",
      "[41]\tvalidation_0-error:0.23077\n",
      "[42]\tvalidation_0-error:0.23077\n",
      "[43]\tvalidation_0-error:0.23077\n",
      "[44]\tvalidation_0-error:0.23077\n",
      "[45]\tvalidation_0-error:0.23077\n",
      "[46]\tvalidation_0-error:0.23077\n",
      "[47]\tvalidation_0-error:0.23077\n",
      "[48]\tvalidation_0-error:0.23077\n",
      "[49]\tvalidation_0-error:0.23077\n",
      "[50]\tvalidation_0-error:0.23077\n",
      "[51]\tvalidation_0-error:0.23077\n",
      "[52]\tvalidation_0-error:0.23077\n",
      "[53]\tvalidation_0-error:0.23077\n",
      "[54]\tvalidation_0-error:0.23077\n",
      "[55]\tvalidation_0-error:0.23776\n",
      "[56]\tvalidation_0-error:0.23077\n",
      "[57]\tvalidation_0-error:0.23077\n",
      "[58]\tvalidation_0-error:0.23077\n",
      "[59]\tvalidation_0-error:0.23077\n",
      "[60]\tvalidation_0-error:0.23077\n",
      "[61]\tvalidation_0-error:0.23077\n",
      "[62]\tvalidation_0-error:0.23077\n",
      "[63]\tvalidation_0-error:0.23077\n",
      "[64]\tvalidation_0-error:0.23077\n",
      "[65]\tvalidation_0-error:0.23776\n",
      "[66]\tvalidation_0-error:0.23776\n",
      "[67]\tvalidation_0-error:0.23776\n",
      "[68]\tvalidation_0-error:0.23776\n",
      "[69]\tvalidation_0-error:0.23776\n",
      "[70]\tvalidation_0-error:0.23776\n",
      "[71]\tvalidation_0-error:0.23776\n",
      "[72]\tvalidation_0-error:0.23776\n",
      "[73]\tvalidation_0-error:0.23776\n",
      "[74]\tvalidation_0-error:0.23776\n",
      "[75]\tvalidation_0-error:0.24476\n",
      "[76]\tvalidation_0-error:0.24476\n",
      "[77]\tvalidation_0-error:0.24476\n",
      "[78]\tvalidation_0-error:0.24476\n",
      "[79]\tvalidation_0-error:0.24476\n",
      "[80]\tvalidation_0-error:0.24476\n",
      "[81]\tvalidation_0-error:0.24476\n",
      "[82]\tvalidation_0-error:0.24476\n",
      "[83]\tvalidation_0-error:0.24476\n",
      "[84]\tvalidation_0-error:0.24476\n",
      "[85]\tvalidation_0-error:0.24476\n",
      "[86]\tvalidation_0-error:0.24476\n",
      "[87]\tvalidation_0-error:0.24476\n",
      "[88]\tvalidation_0-error:0.24476\n",
      "[89]\tvalidation_0-error:0.24476\n",
      "[90]\tvalidation_0-error:0.24476\n",
      "[91]\tvalidation_0-error:0.24476\n",
      "[92]\tvalidation_0-error:0.24476\n",
      "[93]\tvalidation_0-error:0.24476\n",
      "[94]\tvalidation_0-error:0.24476\n",
      "[95]\tvalidation_0-error:0.24476\n",
      "[96]\tvalidation_0-error:0.24476\n",
      "[97]\tvalidation_0-error:0.24476\n",
      "[98]\tvalidation_0-error:0.24476\n",
      "[99]\tvalidation_0-error:0.24476\n",
      "[100]\tvalidation_0-error:0.24476\n",
      "[101]\tvalidation_0-error:0.24476\n",
      "[102]\tvalidation_0-error:0.24476\n",
      "[103]\tvalidation_0-error:0.24476\n",
      "[104]\tvalidation_0-error:0.24476\n",
      "[105]\tvalidation_0-error:0.24476\n",
      "[106]\tvalidation_0-error:0.24476\n",
      "[107]\tvalidation_0-error:0.25175\n",
      "[108]\tvalidation_0-error:0.25175\n",
      "[109]\tvalidation_0-error:0.25175\n",
      "[110]\tvalidation_0-error:0.25175\n",
      "[111]\tvalidation_0-error:0.25175\n",
      "[112]\tvalidation_0-error:0.25175\n",
      "[113]\tvalidation_0-error:0.25175\n",
      "[114]\tvalidation_0-error:0.25175\n",
      "[115]\tvalidation_0-error:0.25175\n",
      "[116]\tvalidation_0-error:0.25175\n",
      "오차 행렬\n",
      "[[101   9]\n",
      " [ 19  50]]\n",
      "정확도: 0.8436, 정밀도: 0.8475, 재현율: 0.7246,    F1: 0.7812, AUC:0.8930\n"
     ]
    }
   ],
   "source": [
    "get_model_train_eval(\n",
    "      xgb_clf\n",
    "    , ftr_train=X_tr\n",
    "    , ftr_test=X_test\n",
    "    , tgt_train=y_tr\n",
    "    , tgt_test=y_test\n",
    "    , eval_set=[(X_val, y_val)]\n",
    ")"
   ]
  },
  {
   "cell_type": "code",
   "execution_count": null,
   "metadata": {},
   "outputs": [],
   "source": [
    "# xgb_clf = XGBClassifier(\n",
    "#       n_estimators=1000\n",
    "#     , max_depth=5\n",
    "#     , learning_rate=0.05\n",
    "#     , early_stopping_rounds=100\n",
    "#     , eval_metric='error'\n",
    "#     , random_state=166\n",
    "# )\n",
    "\n",
    "# 오차 행렬\n",
    "# [[101   9]\n",
    "#  [ 20  49]]\n",
    "# 정확도: 0.8380, 정밀도: 0.8448, 재현율: 0.7101,    F1: 0.7717, AUC:0.8856\n",
    "\n",
    "\n",
    "# 모델 생성\n",
    "# xgb_clf = XGBClassifier(\n",
    "#       n_estimators=1000\n",
    "#     , max_depth=9\n",
    "#     , learning_rate=0.1\n",
    "#     , early_stopping_rounds=100\n",
    "#     , eval_metric='error'\n",
    "#     , random_state=166\n",
    "# )\n",
    "\n",
    "# 오차 행렬\n",
    "# [[101   9]\n",
    "#  [ 19  50]]\n",
    "# 정확도: 0.8436, 정밀도: 0.8475, 재현율: 0.7246,    F1: 0.7812, AUC:0.8930\n"
   ]
  },
  {
   "cell_type": "code",
   "execution_count": 637,
   "metadata": {},
   "outputs": [
    {
     "name": "stdout",
     "output_type": "stream",
     "text": [
      "오차 행렬\n",
      "[[108   2]\n",
      " [  1  68]]\n",
      "정확도: 0.9832, 정밀도: 0.9714, 재현율: 0.9855,    F1: 0.9784, AUC:0.9991\n"
     ]
    }
   ],
   "source": [
    "# # 전체 데이터 학습\n",
    "# xgb_clf = XGBClassifier(\n",
    "#       n_estimators=1000\n",
    "#     , max_depth=9\n",
    "#     , learning_rate=0.1\n",
    "#     # , early_stopping_rounds=100\n",
    "#     # , eval_metric='error'\n",
    "#     , random_state=166\n",
    "# )\n",
    "# # evaluation metric을 auc로, early stopping은 100 으로 설정하고 학습 수행. \n",
    "# xgb_clf.fit(X_features, y_labels)\n",
    "\n",
    "# get_clf_eval(y_test, xgb_clf.predict(X_test), xgb_clf.predict_proba(X_test)[:,1])\n"
   ]
  },
  {
   "cell_type": "code",
   "execution_count": 638,
   "metadata": {},
   "outputs": [],
   "source": [
    "test_result = xgb_clf.predict(test_df)"
   ]
  },
  {
   "cell_type": "code",
   "execution_count": 639,
   "metadata": {},
   "outputs": [],
   "source": [
    "sample = pd.read_csv('../data/titanic/gender_submission.csv')\n",
    "sample['Survived'] = test_result"
   ]
  },
  {
   "cell_type": "code",
   "execution_count": 640,
   "metadata": {},
   "outputs": [],
   "source": [
    "sample.to_csv('./titanic_result.csv', index=False)"
   ]
  },
  {
   "cell_type": "code",
   "execution_count": null,
   "metadata": {},
   "outputs": [],
   "source": []
  }
 ],
 "metadata": {
  "kernelspec": {
   "display_name": "ml-dev",
   "language": "python",
   "name": "python3"
  },
  "language_info": {
   "codemirror_mode": {
    "name": "ipython",
    "version": 3
   },
   "file_extension": ".py",
   "mimetype": "text/x-python",
   "name": "python",
   "nbconvert_exporter": "python",
   "pygments_lexer": "ipython3",
   "version": "3.10.14"
  }
 },
 "nbformat": 4,
 "nbformat_minor": 2
}
